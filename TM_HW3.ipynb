{
  "cells": [
    {
      "cell_type": "markdown",
      "metadata": {
        "id": "view-in-github",
        "colab_type": "text"
      },
      "source": [
        "<a href=\"https://colab.research.google.com/github/Malherbe/Text_Mining/blob/main/TM_HW3.ipynb\" target=\"_parent\"><img src=\"https://colab.research.google.com/assets/colab-badge.svg\" alt=\"Open In Colab\"/></a>"
      ]
    },
    {
      "cell_type": "markdown",
      "metadata": {
        "id": "_TUXXNUHRRnQ"
      },
      "source": [
        "# 0. From our last Assignment we can scrape some data from website or document."
      ]
    },
    {
      "cell_type": "code",
      "execution_count": 1,
      "metadata": {
        "id": "IraWA_-gTgcP"
      },
      "outputs": [],
      "source": [
        "## Initialize library and data\n",
        "\n",
        "#!pip install beautifulsoup4\n",
        "#!pip install urllib\n",
        "#!pip install requests\n",
        "\n",
        "from bs4 import BeautifulSoup\n",
        "from urllib.request import urlopen\n",
        "\n",
        "import requests"
      ]
    },
    {
      "cell_type": "code",
      "execution_count": 2,
      "metadata": {
        "id": "eQbLrbUiRQBB"
      },
      "outputs": [],
      "source": [
        "## Define our own function to scrape the data\n",
        "\n",
        "def getContent(url):\n",
        "  ## Initial variables\n",
        "  url_content=[]\n",
        "  p_content=[]\n",
        "\n",
        "  ## Get html by request \n",
        "  gC_res = requests.get(url)\n",
        "  gC_soup = BeautifulSoup(gC_res.content, 'html.parser')\n",
        "\n",
        "  ## Get news content from specific tag\n",
        "  url_content = gC_soup.find_all('p',{'class':'heading text-underline'})\n",
        "  \n",
        "  for p in url_content[0].find_all_next('p'):\n",
        "    ## Remove unneccesary system characters\n",
        "    p_content.append(p.text.replace('\\\"','').replace('\\r','').replace('\\n','').replace('\\t','')) \n",
        "\n",
        "  ## merge data as one string \n",
        "  return \" \".join(p_content)\n"
      ]
    },
    {
      "cell_type": "code",
      "execution_count": 3,
      "metadata": {
        "colab": {
          "base_uri": "https://localhost:8080/"
        },
        "id": "ejEX_vYaEzuF",
        "outputId": "b7a69ca0-65a2-46bb-a6c6-933a7a589157"
      },
      "outputs": [
        {
          "output_type": "stream",
          "name": "stdout",
          "text": [
            "Science in 5 Getting vaccinated COVAX COVAX aims to accelerate the development and manufacturing of COVID-19 vaccines, and guarantee fair and equitable access for every country. COVAX is co-led by the Coalition for Epidemic Preparedness Innovations (CEPI), Gavi and WHO, with UNICEF as a key delivery partner and PAHO as the procurement agent in the Americas. Country readiness and delivery WHO has worked with UNICEF, Gavi and partners to develop resources, such as guidance, trainings, tools and advocacy materials to help governments, health workers and partners to launch, refine, and optimise uptake of their COVID-19 vaccination programmes. COVAX No fault compensation program The COVAX No-Fault Compensation Program for Advance Market Commitment (AMC) Eligible Economies is the world’s first and only international vaccine injury compensation mechanism. The Program helps COVAX deliver safe and effective COVID-19 vaccines to the high-risk and vulnerable populations in 92 low- and middle-income countries and economies. Emergency Use Listing (EUL) WHO's EUL procedure is a risk-based procedure for assessing and listing unlicensed vaccines, therapeutics and in vitro diagnostics with the ultimate aim of expediting the availability of these products to people affected by a public health emergency. Strategic Advisory Group of Experts (SAGE) on Immunization SAGE advises WHO on overall global policies and strategies, ranging from vaccines and technology, research and development, to delivery of immunization and its linkages with other health interventions. Draft landscape of COVID-19 vaccine candidates The draft landscape of COVID-19 vaccine candidates contains information on vaccine candidates collected through public information (e.g. clinical trial registries) and information that were directly provided by vaccine developers to WHO. The landscape is generally updated twice a week, based on the latest information, including those we receive from scientists and research The Pfizer BioNTech (BNT162b2) COVID-19 vaccine: What you need to know The Bharat Biotech BBV152 COVAXIN vaccine against COVID-19: What you need to know The Sinovac-CoronaVac COVID-19 vaccine: What you need to know The Sinopharm COVID-19 vaccine: What you need to know The Moderna COVID-19 (mRNA-1273) vaccine: what you need to know The Oxford/AstraZeneca (ChAdOx1-S [recombinant] vaccine) COVID-19 vaccine: what you need to know The Janssen Ad26.COV2.S COVID-19 vaccine: What you need to know The Novavax vaccine against COVID-19: What you need to know Moving forward on goal to boost local pharmaceutical production, WHO establishes global biomanufacturing training hub in Republic of Korea ACT-Accelerator calls for fair share-based financing of US$ 23 billion to end pandemic as global emergency in 2022 IOC and WHO reaffirm collaboration to promote vaccine equity and healthy lifestyles Updated WHO SAGE Roadmap for prioritizing uses of COVID-19 vaccines 11 August 2021 Pasig City: A COVID-19 Vaccination Success Story PAHO paving the way for COVID-19 vaccination in the Americas The effects of virus variants on COVID-19 vaccines Inside the Mammoth Undertaking of Global Vaccine Distribution Other resources Criteria for COVID-19 vaccine prioritization The proposed attributes and criteria provide considerations for the evaluation and prioritization of COVID-19 candidate vaccines to be considered for further development by WHO. The target audience includes vaccine scientists, product developers, manufacturers, regulators and funding agencies. Vaccine target product profile WHO has published the target product profiles for COVID-19 vaccines, which describes the preferred and minimally acceptable profiles for human vaccines for long term protection of persons at high ongoing risk of COVID-19, and for reactive use in outbreak settings with rapid onset of immunity. We have also published the criteria for prioritization of vaccines for clinical trials. Coronavirus disease (COVID-19) Vaccines and immunization\n"
          ]
        }
      ],
      "source": [
        "news_text1 = getContent('https://www.who.int/emergencies/diseases/novel-coronavirus-2019/covid-19-vaccines')\n",
        "\n",
        "print(news_text1)"
      ]
    },
    {
      "cell_type": "markdown",
      "metadata": {
        "id": "fLmglKcSOMlt"
      },
      "source": [
        "## 1.Word Tokenization"
      ]
    },
    {
      "cell_type": "code",
      "execution_count": 4,
      "metadata": {
        "id": "6XZ-aw6TNxM1"
      },
      "outputs": [],
      "source": [
        "\n",
        "text1=news_text1\n"
      ]
    },
    {
      "cell_type": "code",
      "execution_count": 5,
      "metadata": {
        "colab": {
          "base_uri": "https://localhost:8080/"
        },
        "id": "rfQQdARcQhN4",
        "outputId": "e657492d-dc16-40f8-bca5-4a148851ca18"
      },
      "outputs": [
        {
          "output_type": "stream",
          "name": "stdout",
          "text": [
            "Science in 5 Getting vaccinated COVAX COVAX aims to accelerate the development and manufacturing of COVID-19 vaccines, and guarantee fair and equitable access for every country. COVAX is co-led by the Coalition for Epidemic Preparedness Innovations (CEPI), Gavi and WHO, with UNICEF as a key delivery partner and PAHO as the procurement agent in the Americas. Country readiness and delivery WHO has worked with UNICEF, Gavi and partners to develop resources, such as guidance, trainings, tools and advocacy materials to help governments, health workers and partners to launch, refine, and optimise uptake of their COVID-19 vaccination programmes. COVAX No fault compensation program The COVAX No-Fault Compensation Program for Advance Market Commitment (AMC) Eligible Economies is the world’s first and only international vaccine injury compensation mechanism. The Program helps COVAX deliver safe and effective COVID-19 vaccines to the high-risk and vulnerable populations in 92 low- and middle-income countries and economies. Emergency Use Listing (EUL) WHO's EUL procedure is a risk-based procedure for assessing and listing unlicensed vaccines, therapeutics and in vitro diagnostics with the ultimate aim of expediting the availability of these products to people affected by a public health emergency. Strategic Advisory Group of Experts (SAGE) on Immunization SAGE advises WHO on overall global policies and strategies, ranging from vaccines and technology, research and development, to delivery of immunization and its linkages with other health interventions. Draft landscape of COVID-19 vaccine candidates The draft landscape of COVID-19 vaccine candidates contains information on vaccine candidates collected through public information (e.g. clinical trial registries) and information that were directly provided by vaccine developers to WHO. The landscape is generally updated twice a week, based on the latest information, including those we receive from scientists and research The Pfizer BioNTech (BNT162b2) COVID-19 vaccine: What you need to know The Bharat Biotech BBV152 COVAXIN vaccine against COVID-19: What you need to know The Sinovac-CoronaVac COVID-19 vaccine: What you need to know The Sinopharm COVID-19 vaccine: What you need to know The Moderna COVID-19 (mRNA-1273) vaccine: what you need to know The Oxford/AstraZeneca (ChAdOx1-S [recombinant] vaccine) COVID-19 vaccine: what you need to know The Janssen Ad26.COV2.S COVID-19 vaccine: What you need to know The Novavax vaccine against COVID-19: What you need to know Moving forward on goal to boost local pharmaceutical production, WHO establishes global biomanufacturing training hub in Republic of Korea ACT-Accelerator calls for fair share-based financing of US$ 23 billion to end pandemic as global emergency in 2022 IOC and WHO reaffirm collaboration to promote vaccine equity and healthy lifestyles Updated WHO SAGE Roadmap for prioritizing uses of COVID-19 vaccines 11 August 2021 Pasig City: A COVID-19 Vaccination Success Story PAHO paving the way for COVID-19 vaccination in the Americas The effects of virus variants on COVID-19 vaccines Inside the Mammoth Undertaking of Global Vaccine Distribution Other resources Criteria for COVID-19 vaccine prioritization The proposed attributes and criteria provide considerations for the evaluation and prioritization of COVID-19 candidate vaccines to be considered for further development by WHO. The target audience includes vaccine scientists, product developers, manufacturers, regulators and funding agencies. Vaccine target product profile WHO has published the target product profiles for COVID-19 vaccines, which describes the preferred and minimally acceptable profiles for human vaccines for long term protection of persons at high ongoing risk of COVID-19, and for reactive use in outbreak settings with rapid onset of immunity. We have also published the criteria for prioritization of vaccines for clinical trials. Coronavirus disease (COVID-19) Vaccines and immunization\n"
          ]
        }
      ],
      "source": [
        "print(text1)"
      ]
    },
    {
      "cell_type": "code",
      "execution_count": 6,
      "metadata": {
        "colab": {
          "base_uri": "https://localhost:8080/"
        },
        "id": "NwpDGlAnJRqq",
        "outputId": "b6cf3d93-9f9a-410b-b62d-85a72750d2d0"
      },
      "outputs": [
        {
          "output_type": "stream",
          "name": "stdout",
          "text": [
            "['Science', 'in', '5', 'Getting', 'vaccinated', 'COVAX', 'COVAX', 'aims', 'to', 'accelerate', 'the', 'development', 'and', 'manufacturing', 'of', 'COVID-19', 'vaccines,', 'and', 'guarantee', 'fair', 'and', 'equitable', 'access', 'for', 'every', 'country.', 'COVAX', 'is', 'co-led', 'by', 'the', 'Coalition', 'for', 'Epidemic', 'Preparedness', 'Innovations', '(CEPI),', 'Gavi', 'and', 'WHO,', 'with', 'UNICEF', 'as', 'a', 'key', 'delivery', 'partner', 'and', 'PAHO', 'as', 'the', 'procurement', 'agent', 'in', 'the', 'Americas.', 'Country', 'readiness', 'and', 'delivery', 'WHO', 'has', 'worked', 'with', 'UNICEF,', 'Gavi', 'and', 'partners', 'to', 'develop', 'resources,', 'such', 'as', 'guidance,', 'trainings,', 'tools', 'and', 'advocacy', 'materials', 'to', 'help', 'governments,', 'health', 'workers', 'and', 'partners', 'to', 'launch,', 'refine,', 'and', 'optimise', 'uptake', 'of', 'their', 'COVID-19', 'vaccination', 'programmes.', 'COVAX', 'No', 'fault', 'compensation', 'program', 'The', 'COVAX', 'No-Fault', 'Compensation', 'Program', 'for', 'Advance', 'Market', 'Commitment', '(AMC)', 'Eligible', 'Economies', 'is', 'the', 'world’s', 'first', 'and', 'only', 'international', 'vaccine', 'injury', 'compensation', 'mechanism.', 'The', 'Program', 'helps', 'COVAX', 'deliver', 'safe', 'and', 'effective', 'COVID-19', 'vaccines', 'to', 'the', 'high-risk', 'and', 'vulnerable', 'populations', 'in', '92', 'low-', 'and', 'middle-income', 'countries', 'and', 'economies.', 'Emergency', 'Use', 'Listing', '(EUL)', \"WHO's\", 'EUL', 'procedure', 'is', 'a', 'risk-based', 'procedure', 'for', 'assessing', 'and', 'listing', 'unlicensed', 'vaccines,', 'therapeutics', 'and', 'in', 'vitro', 'diagnostics', 'with', 'the', 'ultimate', 'aim', 'of', 'expediting', 'the', 'availability', 'of', 'these', 'products', 'to', 'people', 'affected', 'by', 'a', 'public', 'health', 'emergency.', 'Strategic', 'Advisory', 'Group', 'of', 'Experts', '(SAGE)', 'on', 'Immunization', 'SAGE', 'advises', 'WHO', 'on', 'overall', 'global', 'policies', 'and', 'strategies,', 'ranging', 'from', 'vaccines', 'and', 'technology,', 'research', 'and', 'development,', 'to', 'delivery', 'of', 'immunization', 'and', 'its', 'linkages', 'with', 'other', 'health', 'interventions.', 'Draft', 'landscape', 'of', 'COVID-19', 'vaccine', 'candidates', 'The', 'draft', 'landscape', 'of', 'COVID-19', 'vaccine', 'candidates', 'contains', 'information', 'on', 'vaccine', 'candidates', 'collected', 'through', 'public', 'information', '(e.g.', 'clinical', 'trial', 'registries)', 'and', 'information', 'that', 'were', 'directly', 'provided', 'by', 'vaccine', 'developers', 'to', 'WHO.', 'The', 'landscape', 'is', 'generally', 'updated', 'twice', 'a', 'week,', 'based', 'on', 'the', 'latest', 'information,', 'including', 'those', 'we', 'receive', 'from', 'scientists', 'and', 'research', 'The', 'Pfizer', 'BioNTech', '(BNT162b2)', 'COVID-19', 'vaccine:', 'What', 'you', 'need', 'to', 'know', 'The', 'Bharat', 'Biotech', 'BBV152', 'COVAXIN', 'vaccine', 'against', 'COVID-19:', 'What', 'you', 'need', 'to', 'know', 'The', 'Sinovac-CoronaVac', 'COVID-19', 'vaccine:', 'What', 'you', 'need', 'to', 'know', 'The', 'Sinopharm', 'COVID-19', 'vaccine:', 'What', 'you', 'need', 'to', 'know', 'The', 'Moderna', 'COVID-19', '(mRNA-1273)', 'vaccine:', 'what', 'you', 'need', 'to', 'know', 'The', 'Oxford/AstraZeneca', '(ChAdOx1-S', '[recombinant]', 'vaccine)', 'COVID-19', 'vaccine:', 'what', 'you', 'need', 'to', 'know', 'The', 'Janssen', 'Ad26.COV2.S', 'COVID-19', 'vaccine:', 'What', 'you', 'need', 'to', 'know', 'The', 'Novavax', 'vaccine', 'against', 'COVID-19:', 'What', 'you', 'need', 'to', 'know', 'Moving', 'forward', 'on', 'goal', 'to', 'boost', 'local', 'pharmaceutical', 'production,', 'WHO', 'establishes', 'global', 'biomanufacturing', 'training', 'hub', 'in', 'Republic', 'of', 'Korea', 'ACT-Accelerator', 'calls', 'for', 'fair', 'share-based', 'financing', 'of', 'US$', '23', 'billion', 'to', 'end', 'pandemic', 'as', 'global', 'emergency', 'in', '2022', 'IOC', 'and', 'WHO', 'reaffirm', 'collaboration', 'to', 'promote', 'vaccine', 'equity', 'and', 'healthy', 'lifestyles', 'Updated', 'WHO', 'SAGE', 'Roadmap', 'for', 'prioritizing', 'uses', 'of', 'COVID-19', 'vaccines', '11', 'August', '2021', 'Pasig', 'City:', 'A', 'COVID-19', 'Vaccination', 'Success', 'Story', 'PAHO', 'paving', 'the', 'way', 'for', 'COVID-19', 'vaccination', 'in', 'the', 'Americas', 'The', 'effects', 'of', 'virus', 'variants', 'on', 'COVID-19', 'vaccines', 'Inside', 'the', 'Mammoth', 'Undertaking', 'of', 'Global', 'Vaccine', 'Distribution', 'Other', 'resources', 'Criteria', 'for', 'COVID-19', 'vaccine', 'prioritization', 'The', 'proposed', 'attributes', 'and', 'criteria', 'provide', 'considerations', 'for', 'the', 'evaluation', 'and', 'prioritization', 'of', 'COVID-19', 'candidate', 'vaccines', 'to', 'be', 'considered', 'for', 'further', 'development', 'by', 'WHO.', 'The', 'target', 'audience', 'includes', 'vaccine', 'scientists,', 'product', 'developers,', 'manufacturers,', 'regulators', 'and', 'funding', 'agencies.', 'Vaccine', 'target', 'product', 'profile', 'WHO', 'has', 'published', 'the', 'target', 'product', 'profiles', 'for', 'COVID-19', 'vaccines,', 'which', 'describes', 'the', 'preferred', 'and', 'minimally', 'acceptable', 'profiles', 'for', 'human', 'vaccines', 'for', 'long', 'term', 'protection', 'of', 'persons', 'at', 'high', 'ongoing', 'risk', 'of', 'COVID-19,', 'and', 'for', 'reactive', 'use', 'in', 'outbreak', 'settings', 'with', 'rapid', 'onset', 'of', 'immunity.', 'We', 'have', 'also', 'published', 'the', 'criteria', 'for', 'prioritization', 'of', 'vaccines', 'for', 'clinical', 'trials.', 'Coronavirus', 'disease', '(COVID-19)', 'Vaccines', 'and', 'immunization']\n"
          ]
        }
      ],
      "source": [
        "## split text base on space\n",
        "text1_space_token=text1.split(\" \")\n",
        "print(text1_space_token)"
      ]
    },
    {
      "cell_type": "code",
      "execution_count": 7,
      "metadata": {
        "colab": {
          "base_uri": "https://localhost:8080/"
        },
        "id": "cgBR4ljwUVxW",
        "outputId": "957a4502-79a1-4e22-8c0e-ecb44afe966f"
      },
      "outputs": [
        {
          "output_type": "stream",
          "name": "stdout",
          "text": [
            "['Science', 'in', '5', 'Getting', 'vaccinated', 'COVAX', 'COVAX', 'aims', 'to', 'accelerate', 'the', 'development', 'and', 'manufacturing', 'of', 'COVID', '-', '19', 'vaccines', ',', 'and', 'guarantee', 'fair', 'and', 'equitable', 'access', 'for', 'every', 'country', '.', 'COVAX', 'is', 'co', '-', 'led', 'by', 'the', 'Coalition', 'for', 'Epidemic', 'Preparedness', 'Innovations', '(', 'CEPI', '),', 'Gavi', 'and', 'WHO', ',', 'with', 'UNICEF', 'as', 'a', 'key', 'delivery', 'partner', 'and', 'PAHO', 'as', 'the', 'procurement', 'agent', 'in', 'the', 'Americas', '.', 'Country', 'readiness', 'and', 'delivery', 'WHO', 'has', 'worked', 'with', 'UNICEF', ',', 'Gavi', 'and', 'partners', 'to', 'develop', 'resources', ',', 'such', 'as', 'guidance', ',', 'trainings', ',', 'tools', 'and', 'advocacy', 'materials', 'to', 'help', 'governments', ',', 'health', 'workers', 'and', 'partners', 'to', 'launch', ',', 'refine', ',', 'and', 'optimise', 'uptake', 'of', 'their', 'COVID', '-', '19', 'vaccination', 'programmes', '.', 'COVAX', 'No', 'fault', 'compensation', 'program', 'The', 'COVAX', 'No', '-', 'Fault', 'Compensation', 'Program', 'for', 'Advance', 'Market', 'Commitment', '(', 'AMC', ')', 'Eligible', 'Economies', 'is', 'the', 'world', '’', 's', 'first', 'and', 'only', 'international', 'vaccine', 'injury', 'compensation', 'mechanism', '.', 'The', 'Program', 'helps', 'COVAX', 'deliver', 'safe', 'and', 'effective', 'COVID', '-', '19', 'vaccines', 'to', 'the', 'high', '-', 'risk', 'and', 'vulnerable', 'populations', 'in', '92', 'low', '-', 'and', 'middle', '-', 'income', 'countries', 'and', 'economies', '.', 'Emergency', 'Use', 'Listing', '(', 'EUL', ')', 'WHO', \"'\", 's', 'EUL', 'procedure', 'is', 'a', 'risk', '-', 'based', 'procedure', 'for', 'assessing', 'and', 'listing', 'unlicensed', 'vaccines', ',', 'therapeutics', 'and', 'in', 'vitro', 'diagnostics', 'with', 'the', 'ultimate', 'aim', 'of', 'expediting', 'the', 'availability', 'of', 'these', 'products', 'to', 'people', 'affected', 'by', 'a', 'public', 'health', 'emergency', '.', 'Strategic', 'Advisory', 'Group', 'of', 'Experts', '(', 'SAGE', ')', 'on', 'Immunization', 'SAGE', 'advises', 'WHO', 'on', 'overall', 'global', 'policies', 'and', 'strategies', ',', 'ranging', 'from', 'vaccines', 'and', 'technology', ',', 'research', 'and', 'development', ',', 'to', 'delivery', 'of', 'immunization', 'and', 'its', 'linkages', 'with', 'other', 'health', 'interventions', '.', 'Draft', 'landscape', 'of', 'COVID', '-', '19', 'vaccine', 'candidates', 'The', 'draft', 'landscape', 'of', 'COVID', '-', '19', 'vaccine', 'candidates', 'contains', 'information', 'on', 'vaccine', 'candidates', 'collected', 'through', 'public', 'information', '(', 'e', '.', 'g', '.', 'clinical', 'trial', 'registries', ')', 'and', 'information', 'that', 'were', 'directly', 'provided', 'by', 'vaccine', 'developers', 'to', 'WHO', '.', 'The', 'landscape', 'is', 'generally', 'updated', 'twice', 'a', 'week', ',', 'based', 'on', 'the', 'latest', 'information', ',', 'including', 'those', 'we', 'receive', 'from', 'scientists', 'and', 'research', 'The', 'Pfizer', 'BioNTech', '(', 'BNT162b2', ')', 'COVID', '-', '19', 'vaccine', ':', 'What', 'you', 'need', 'to', 'know', 'The', 'Bharat', 'Biotech', 'BBV152', 'COVAXIN', 'vaccine', 'against', 'COVID', '-', '19', ':', 'What', 'you', 'need', 'to', 'know', 'The', 'Sinovac', '-', 'CoronaVac', 'COVID', '-', '19', 'vaccine', ':', 'What', 'you', 'need', 'to', 'know', 'The', 'Sinopharm', 'COVID', '-', '19', 'vaccine', ':', 'What', 'you', 'need', 'to', 'know', 'The', 'Moderna', 'COVID', '-', '19', '(', 'mRNA', '-', '1273', ')', 'vaccine', ':', 'what', 'you', 'need', 'to', 'know', 'The', 'Oxford', '/', 'AstraZeneca', '(', 'ChAdOx1', '-', 'S', '[', 'recombinant', ']', 'vaccine', ')', 'COVID', '-', '19', 'vaccine', ':', 'what', 'you', 'need', 'to', 'know', 'The', 'Janssen', 'Ad26', '.', 'COV2', '.', 'S', 'COVID', '-', '19', 'vaccine', ':', 'What', 'you', 'need', 'to', 'know', 'The', 'Novavax', 'vaccine', 'against', 'COVID', '-', '19', ':', 'What', 'you', 'need', 'to', 'know', 'Moving', 'forward', 'on', 'goal', 'to', 'boost', 'local', 'pharmaceutical', 'production', ',', 'WHO', 'establishes', 'global', 'biomanufacturing', 'training', 'hub', 'in', 'Republic', 'of', 'Korea', 'ACT', '-', 'Accelerator', 'calls', 'for', 'fair', 'share', '-', 'based', 'financing', 'of', 'US', '$', '23', 'billion', 'to', 'end', 'pandemic', 'as', 'global', 'emergency', 'in', '2022', 'IOC', 'and', 'WHO', 'reaffirm', 'collaboration', 'to', 'promote', 'vaccine', 'equity', 'and', 'healthy', 'lifestyles', 'Updated', 'WHO', 'SAGE', 'Roadmap', 'for', 'prioritizing', 'uses', 'of', 'COVID', '-', '19', 'vaccines', '11', 'August', '2021', 'Pasig', 'City', ':', 'A', 'COVID', '-', '19', 'Vaccination', 'Success', 'Story', 'PAHO', 'paving', 'the', 'way', 'for', 'COVID', '-', '19', 'vaccination', 'in', 'the', 'Americas', 'The', 'effects', 'of', 'virus', 'variants', 'on', 'COVID', '-', '19', 'vaccines', 'Inside', 'the', 'Mammoth', 'Undertaking', 'of', 'Global', 'Vaccine', 'Distribution', 'Other', 'resources', 'Criteria', 'for', 'COVID', '-', '19', 'vaccine', 'prioritization', 'The', 'proposed', 'attributes', 'and', 'criteria', 'provide', 'considerations', 'for', 'the', 'evaluation', 'and', 'prioritization', 'of', 'COVID', '-', '19', 'candidate', 'vaccines', 'to', 'be', 'considered', 'for', 'further', 'development', 'by', 'WHO', '.', 'The', 'target', 'audience', 'includes', 'vaccine', 'scientists', ',', 'product', 'developers', ',', 'manufacturers', ',', 'regulators', 'and', 'funding', 'agencies', '.', 'Vaccine', 'target', 'product', 'profile', 'WHO', 'has', 'published', 'the', 'target', 'product', 'profiles', 'for', 'COVID', '-', '19', 'vaccines', ',', 'which', 'describes', 'the', 'preferred', 'and', 'minimally', 'acceptable', 'profiles', 'for', 'human', 'vaccines', 'for', 'long', 'term', 'protection', 'of', 'persons', 'at', 'high', 'ongoing', 'risk', 'of', 'COVID', '-', '19', ',', 'and', 'for', 'reactive', 'use', 'in', 'outbreak', 'settings', 'with', 'rapid', 'onset', 'of', 'immunity', '.', 'We', 'have', 'also', 'published', 'the', 'criteria', 'for', 'prioritization', 'of', 'vaccines', 'for', 'clinical', 'trials', '.', 'Coronavirus', 'disease', '(', 'COVID', '-', '19', ')', 'Vaccines', 'and', 'immunization']\n"
          ]
        }
      ],
      "source": [
        "## tokenization using wordpunct_tokenize function\n",
        "import nltk  ## nltk stand for natural language toolkit\n",
        "punct_token = nltk.wordpunct_tokenize(text1)\n",
        "print(punct_token)"
      ]
    },
    {
      "cell_type": "code",
      "execution_count": 8,
      "metadata": {
        "colab": {
          "base_uri": "https://localhost:8080/"
        },
        "id": "tZyhTOy5UowA",
        "outputId": "ae212ede-088e-4828-9886-14053536ad52"
      },
      "outputs": [
        {
          "output_type": "stream",
          "name": "stdout",
          "text": [
            "[nltk_data] Downloading package punkt to /root/nltk_data...\n",
            "[nltk_data]   Unzipping tokenizers/punkt.zip.\n",
            "['Science', 'in', '5', 'Getting', 'vaccinated', 'COVAX', 'COVAX', 'aims', 'to', 'accelerate', 'the', 'development', 'and', 'manufacturing', 'of', 'COVID-19', 'vaccines', ',', 'and', 'guarantee', 'fair', 'and', 'equitable', 'access', 'for', 'every', 'country', '.', 'COVAX', 'is', 'co-led', 'by', 'the', 'Coalition', 'for', 'Epidemic', 'Preparedness', 'Innovations', '(', 'CEPI', ')', ',', 'Gavi', 'and', 'WHO', ',', 'with', 'UNICEF', 'as', 'a', 'key', 'delivery', 'partner', 'and', 'PAHO', 'as', 'the', 'procurement', 'agent', 'in', 'the', 'Americas', '.', 'Country', 'readiness', 'and', 'delivery', 'WHO', 'has', 'worked', 'with', 'UNICEF', ',', 'Gavi', 'and', 'partners', 'to', 'develop', 'resources', ',', 'such', 'as', 'guidance', ',', 'trainings', ',', 'tools', 'and', 'advocacy', 'materials', 'to', 'help', 'governments', ',', 'health', 'workers', 'and', 'partners', 'to', 'launch', ',', 'refine', ',', 'and', 'optimise', 'uptake', 'of', 'their', 'COVID-19', 'vaccination', 'programmes', '.', 'COVAX', 'No', 'fault', 'compensation', 'program', 'The', 'COVAX', 'No-Fault', 'Compensation', 'Program', 'for', 'Advance', 'Market', 'Commitment', '(', 'AMC', ')', 'Eligible', 'Economies', 'is', 'the', 'world', '’', 's', 'first', 'and', 'only', 'international', 'vaccine', 'injury', 'compensation', 'mechanism', '.', 'The', 'Program', 'helps', 'COVAX', 'deliver', 'safe', 'and', 'effective', 'COVID-19', 'vaccines', 'to', 'the', 'high-risk', 'and', 'vulnerable', 'populations', 'in', '92', 'low-', 'and', 'middle-income', 'countries', 'and', 'economies', '.', 'Emergency', 'Use', 'Listing', '(', 'EUL', ')', 'WHO', \"'s\", 'EUL', 'procedure', 'is', 'a', 'risk-based', 'procedure', 'for', 'assessing', 'and', 'listing', 'unlicensed', 'vaccines', ',', 'therapeutics', 'and', 'in', 'vitro', 'diagnostics', 'with', 'the', 'ultimate', 'aim', 'of', 'expediting', 'the', 'availability', 'of', 'these', 'products', 'to', 'people', 'affected', 'by', 'a', 'public', 'health', 'emergency', '.', 'Strategic', 'Advisory', 'Group', 'of', 'Experts', '(', 'SAGE', ')', 'on', 'Immunization', 'SAGE', 'advises', 'WHO', 'on', 'overall', 'global', 'policies', 'and', 'strategies', ',', 'ranging', 'from', 'vaccines', 'and', 'technology', ',', 'research', 'and', 'development', ',', 'to', 'delivery', 'of', 'immunization', 'and', 'its', 'linkages', 'with', 'other', 'health', 'interventions', '.', 'Draft', 'landscape', 'of', 'COVID-19', 'vaccine', 'candidates', 'The', 'draft', 'landscape', 'of', 'COVID-19', 'vaccine', 'candidates', 'contains', 'information', 'on', 'vaccine', 'candidates', 'collected', 'through', 'public', 'information', '(', 'e.g', '.', 'clinical', 'trial', 'registries', ')', 'and', 'information', 'that', 'were', 'directly', 'provided', 'by', 'vaccine', 'developers', 'to', 'WHO', '.', 'The', 'landscape', 'is', 'generally', 'updated', 'twice', 'a', 'week', ',', 'based', 'on', 'the', 'latest', 'information', ',', 'including', 'those', 'we', 'receive', 'from', 'scientists', 'and', 'research', 'The', 'Pfizer', 'BioNTech', '(', 'BNT162b2', ')', 'COVID-19', 'vaccine', ':', 'What', 'you', 'need', 'to', 'know', 'The', 'Bharat', 'Biotech', 'BBV152', 'COVAXIN', 'vaccine', 'against', 'COVID-19', ':', 'What', 'you', 'need', 'to', 'know', 'The', 'Sinovac-CoronaVac', 'COVID-19', 'vaccine', ':', 'What', 'you', 'need', 'to', 'know', 'The', 'Sinopharm', 'COVID-19', 'vaccine', ':', 'What', 'you', 'need', 'to', 'know', 'The', 'Moderna', 'COVID-19', '(', 'mRNA-1273', ')', 'vaccine', ':', 'what', 'you', 'need', 'to', 'know', 'The', 'Oxford/AstraZeneca', '(', 'ChAdOx1-S', '[', 'recombinant', ']', 'vaccine', ')', 'COVID-19', 'vaccine', ':', 'what', 'you', 'need', 'to', 'know', 'The', 'Janssen', 'Ad26.COV2.S', 'COVID-19', 'vaccine', ':', 'What', 'you', 'need', 'to', 'know', 'The', 'Novavax', 'vaccine', 'against', 'COVID-19', ':', 'What', 'you', 'need', 'to', 'know', 'Moving', 'forward', 'on', 'goal', 'to', 'boost', 'local', 'pharmaceutical', 'production', ',', 'WHO', 'establishes', 'global', 'biomanufacturing', 'training', 'hub', 'in', 'Republic', 'of', 'Korea', 'ACT-Accelerator', 'calls', 'for', 'fair', 'share-based', 'financing', 'of', 'US', '$', '23', 'billion', 'to', 'end', 'pandemic', 'as', 'global', 'emergency', 'in', '2022', 'IOC', 'and', 'WHO', 'reaffirm', 'collaboration', 'to', 'promote', 'vaccine', 'equity', 'and', 'healthy', 'lifestyles', 'Updated', 'WHO', 'SAGE', 'Roadmap', 'for', 'prioritizing', 'uses', 'of', 'COVID-19', 'vaccines', '11', 'August', '2021', 'Pasig', 'City', ':', 'A', 'COVID-19', 'Vaccination', 'Success', 'Story', 'PAHO', 'paving', 'the', 'way', 'for', 'COVID-19', 'vaccination', 'in', 'the', 'Americas', 'The', 'effects', 'of', 'virus', 'variants', 'on', 'COVID-19', 'vaccines', 'Inside', 'the', 'Mammoth', 'Undertaking', 'of', 'Global', 'Vaccine', 'Distribution', 'Other', 'resources', 'Criteria', 'for', 'COVID-19', 'vaccine', 'prioritization', 'The', 'proposed', 'attributes', 'and', 'criteria', 'provide', 'considerations', 'for', 'the', 'evaluation', 'and', 'prioritization', 'of', 'COVID-19', 'candidate', 'vaccines', 'to', 'be', 'considered', 'for', 'further', 'development', 'by', 'WHO', '.', 'The', 'target', 'audience', 'includes', 'vaccine', 'scientists', ',', 'product', 'developers', ',', 'manufacturers', ',', 'regulators', 'and', 'funding', 'agencies', '.', 'Vaccine', 'target', 'product', 'profile', 'WHO', 'has', 'published', 'the', 'target', 'product', 'profiles', 'for', 'COVID-19', 'vaccines', ',', 'which', 'describes', 'the', 'preferred', 'and', 'minimally', 'acceptable', 'profiles', 'for', 'human', 'vaccines', 'for', 'long', 'term', 'protection', 'of', 'persons', 'at', 'high', 'ongoing', 'risk', 'of', 'COVID-19', ',', 'and', 'for', 'reactive', 'use', 'in', 'outbreak', 'settings', 'with', 'rapid', 'onset', 'of', 'immunity', '.', 'We', 'have', 'also', 'published', 'the', 'criteria', 'for', 'prioritization', 'of', 'vaccines', 'for', 'clinical', 'trials', '.', 'Coronavirus', 'disease', '(', 'COVID-19', ')', 'Vaccines', 'and', 'immunization']\n"
          ]
        }
      ],
      "source": [
        "## tokenization using word_tokenize function\n",
        "nltk.download('punkt') ## donwload \"punkt\" dictionary resource\n",
        "text1_tokens = nltk.word_tokenize(text1)\n",
        "print(text1_tokens)"
      ]
    },
    {
      "cell_type": "markdown",
      "metadata": {
        "id": "LewPG9pfSoZh"
      },
      "source": [
        "## 2.Multi-Word Tokenizer"
      ]
    },
    {
      "cell_type": "code",
      "execution_count": 13,
      "metadata": {
        "id": "NUVKkOnn0bgB"
      },
      "outputs": [],
      "source": [
        "\n",
        "text1=news_text1"
      ]
    },
    {
      "cell_type": "code",
      "execution_count": 15,
      "metadata": {
        "colab": {
          "base_uri": "https://localhost:8080/"
        },
        "id": "pe-QAZh9Ta9_",
        "outputId": "044fa460-1f42-4a9e-d735-1ba5d4d671d4"
      },
      "outputs": [
        {
          "output_type": "stream",
          "name": "stdout",
          "text": [
            "['Science', 'in', '5', 'Getting', 'vaccinated', 'COVAX', 'COVAX', 'aims', 'to', 'accelerate', 'the', 'development', 'and', 'manufacturing', 'of', 'COVID-19_vaccines', ',', 'and', 'guarantee', 'fair', 'and', 'equitable', 'access', 'for', 'every', 'country', '.', 'COVAX', 'is', 'co-led', 'by', 'the', 'Coalition', 'for', 'Epidemic', 'Preparedness', 'Innovations', '(', 'CEPI', ')', ',', 'Gavi', 'and', 'WHO', ',', 'with', 'UNICEF', 'as', 'a', 'key', 'delivery', 'partner', 'and', 'PAHO', 'as', 'the', 'procurement', 'agent', 'in', 'the', 'Americas', '.', 'Country', 'readiness', 'and', 'delivery', 'WHO', 'has', 'worked', 'with', 'UNICEF', ',', 'Gavi', 'and', 'partners', 'to', 'develop', 'resources', ',', 'such', 'as', 'guidance', ',', 'trainings', ',', 'tools', 'and', 'advocacy', 'materials', 'to', 'help', 'governments', ',', 'health', 'workers', 'and', 'partners', 'to', 'launch', ',', 'refine', ',', 'and', 'optimise', 'uptake', 'of', 'their', 'COVID-19_vaccination', 'programmes', '.', 'COVAX', 'No', 'fault', 'compensation', 'program', 'The', 'COVAX', 'No-Fault', 'Compensation', 'Program', 'for', 'Advance', 'Market', 'Commitment', '(', 'AMC', ')', 'Eligible', 'Economies', 'is', 'the', 'world', '’', 's', 'first', 'and', 'only', 'international', 'vaccine', 'injury', 'compensation', 'mechanism', '.', 'The', 'Program', 'helps', 'COVAX', 'deliver', 'safe', 'and', 'effective', 'COVID-19_vaccines', 'to', 'the', 'high-risk', 'and', 'vulnerable', 'populations', 'in', '92', 'low-', 'and', 'middle-income', 'countries', 'and', 'economies', '.', 'Emergency', 'Use', 'Listing', '(', 'EUL', ')', 'WHO', \"'s\", 'EUL', 'procedure', 'is', 'a', 'risk-based', 'procedure', 'for', 'assessing', 'and', 'listing', 'unlicensed', 'vaccines', ',', 'therapeutics', 'and', 'in_vitro', 'diagnostics', 'with', 'the', 'ultimate', 'aim', 'of', 'expediting', 'the', 'availability', 'of', 'these', 'products', 'to', 'people', 'affected', 'by', 'a', 'public', 'health', 'emergency', '.', 'Strategic', 'Advisory', 'Group', 'of', 'Experts', '(', 'SAGE', ')', 'on', 'Immunization', 'SAGE', 'advises', 'WHO', 'on', 'overall', 'global', 'policies', 'and', 'strategies', ',', 'ranging', 'from', 'vaccines', 'and', 'technology', ',', 'research', 'and', 'development', ',', 'to', 'delivery', 'of', 'immunization', 'and', 'its', 'linkages', 'with', 'other', 'health', 'interventions', '.', 'Draft', 'landscape', 'of', 'COVID-19_vaccine', 'candidates', 'The', 'draft', 'landscape', 'of', 'COVID-19_vaccine', 'candidates', 'contains', 'information', 'on', 'vaccine', 'candidates', 'collected', 'through', 'public', 'information', '(', 'e.g', '.', 'clinical', 'trial', 'registries', ')', 'and', 'information', 'that', 'were', 'directly', 'provided', 'by', 'vaccine', 'developers', 'to', 'WHO', '.', 'The', 'landscape', 'is', 'generally', 'updated', 'twice', 'a', 'week', ',', 'based', 'on', 'the', 'latest', 'information', ',', 'including', 'those', 'we', 'receive', 'from', 'scientists', 'and', 'research', 'The', 'Pfizer', 'BioNTech', '(', 'BNT162b2', ')', 'COVID-19_vaccine', ':', 'What', 'you', 'need', 'to', 'know', 'The', 'Bharat', 'Biotech', 'BBV152', 'COVAXIN', 'vaccine', 'against', 'COVID-19', ':', 'What', 'you', 'need', 'to', 'know', 'The', 'Sinovac-CoronaVac', 'COVID-19_vaccine', ':', 'What', 'you', 'need', 'to', 'know', 'The', 'Sinopharm', 'COVID-19_vaccine', ':', 'What', 'you', 'need', 'to', 'know', 'The', 'Moderna', 'COVID-19', '(', 'mRNA-1273', ')', 'vaccine', ':', 'what', 'you', 'need', 'to', 'know', 'The', 'Oxford/AstraZeneca', '(', 'ChAdOx1-S', '[', 'recombinant', ']', 'vaccine', ')', 'COVID-19_vaccine', ':', 'what', 'you', 'need', 'to', 'know', 'The', 'Janssen', 'Ad26.COV2.S', 'COVID-19_vaccine', ':', 'What', 'you', 'need', 'to', 'know', 'The', 'Novavax', 'vaccine', 'against', 'COVID-19', ':', 'What', 'you', 'need', 'to', 'know', 'Moving', 'forward', 'on', 'goal', 'to', 'boost', 'local', 'pharmaceutical', 'production', ',', 'WHO', 'establishes', 'global', 'biomanufacturing', 'training', 'hub', 'in', 'Republic', 'of', 'Korea', 'ACT-Accelerator', 'calls', 'for', 'fair', 'share-based', 'financing', 'of', 'US', '$', '23', 'billion', 'to', 'end', 'pandemic', 'as', 'global', 'emergency', 'in', '2022', 'IOC', 'and', 'WHO', 'reaffirm', 'collaboration', 'to', 'promote', 'vaccine', 'equity', 'and', 'healthy', 'lifestyles', 'Updated', 'WHO', 'SAGE', 'Roadmap', 'for', 'prioritizing', 'uses', 'of', 'COVID-19_vaccines', '11', 'August', '2021', 'Pasig', 'City', ':', 'A', 'COVID-19', 'Vaccination', 'Success', 'Story', 'PAHO', 'paving', 'the', 'way', 'for', 'COVID-19_vaccination', 'in', 'the', 'Americas', 'The', 'effects', 'of', 'virus', 'variants', 'on', 'COVID-19_vaccines', 'Inside', 'the', 'Mammoth', 'Undertaking', 'of', 'Global', 'Vaccine', 'Distribution', 'Other', 'resources', 'Criteria', 'for', 'COVID-19_vaccine', 'prioritization', 'The', 'proposed', 'attributes', 'and', 'criteria', 'provide', 'considerations', 'for', 'the', 'evaluation', 'and', 'prioritization', 'of', 'COVID-19', 'candidate', 'vaccines', 'to', 'be', 'considered', 'for', 'further', 'development', 'by', 'WHO', '.', 'The', 'target', 'audience', 'includes', 'vaccine', 'scientists', ',', 'product', 'developers', ',', 'manufacturers', ',', 'regulators', 'and', 'funding', 'agencies', '.', 'Vaccine', 'target', 'product', 'profile', 'WHO', 'has', 'published', 'the', 'target', 'product', 'profiles', 'for', 'COVID-19_vaccines', ',', 'which', 'describes', 'the', 'preferred', 'and', 'minimally', 'acceptable', 'profiles', 'for', 'human', 'vaccines', 'for', 'long', 'term', 'protection', 'of', 'persons', 'at', 'high', 'ongoing', 'risk', 'of', 'COVID-19', ',', 'and', 'for', 'reactive', 'use', 'in', 'outbreak', 'settings', 'with', 'rapid', 'onset', 'of', 'immunity', '.', 'We', 'have', 'also', 'published', 'the', 'criteria', 'for', 'prioritization', 'of', 'vaccines', 'for', 'clinical', 'trials', '.', 'Coronavirus', 'disease', '(', 'COVID-19', ')', 'Vaccines', 'and', 'immunization']\n"
          ]
        }
      ],
      "source": [
        "#combine 2 word into 1 token\n",
        "import nltk\n",
        "from nltk.tokenize import MWETokenizer\n",
        "mw_tokenizer = nltk.tokenize.MWETokenizer()\n",
        "text1_tokens = nltk.word_tokenize(text1)\n",
        "mw_tokenizer.add_mwe(('COVID-19', 'vaccine'))\n",
        "mw_tokenizer.add_mwe(('COVID-19', 'vaccines'))\n",
        "mw_tokenizer.add_mwe(('COVID-19', 'vaccination'))\n",
        "mw_tokenizer.add_mwe(('in', 'vitro'))\n",
        "print(mw_tokenizer.tokenize(text1_tokens))"
      ]
    },
    {
      "cell_type": "markdown",
      "metadata": {
        "id": "81opi3cP2M93"
      },
      "source": [
        "## 3.Use ngrams to discover multi-word token"
      ]
    },
    {
      "cell_type": "code",
      "execution_count": 16,
      "metadata": {
        "colab": {
          "base_uri": "https://localhost:8080/"
        },
        "id": "tfnoWvWJrIm5",
        "outputId": "e7945f8a-d665-4ed1-a5d4-0535cca00f36"
      },
      "outputs": [
        {
          "output_type": "stream",
          "name": "stdout",
          "text": [
            "['Science', 'in', '5', 'Getting', 'vaccinated', 'COVAX', 'COVAX', 'aims', 'to', 'accelerate', 'the', 'development', 'and', 'manufacturing', 'of', 'COVID-19', 'vaccines', ',', 'and', 'guarantee', 'fair', 'and', 'equitable', 'access', 'for', 'every', 'country', '.', 'COVAX', 'is', 'co-led', 'by', 'the', 'Coalition', 'for', 'Epidemic', 'Preparedness', 'Innovations', '(', 'CEPI', ')', ',', 'Gavi', 'and', 'WHO', ',', 'with', 'UNICEF', 'as', 'a', 'key', 'delivery', 'partner', 'and', 'PAHO', 'as', 'the', 'procurement', 'agent', 'in', 'the', 'Americas', '.', 'Country', 'readiness', 'and', 'delivery', 'WHO', 'has', 'worked', 'with', 'UNICEF', ',', 'Gavi', 'and', 'partners', 'to', 'develop', 'resources', ',', 'such', 'as', 'guidance', ',', 'trainings', ',', 'tools', 'and', 'advocacy', 'materials', 'to', 'help', 'governments', ',', 'health', 'workers', 'and', 'partners', 'to', 'launch', ',', 'refine', ',', 'and', 'optimise', 'uptake', 'of', 'their', 'COVID-19', 'vaccination', 'programmes', '.', 'COVAX', 'No', 'fault', 'compensation', 'program', 'The', 'COVAX', 'No-Fault', 'Compensation', 'Program', 'for', 'Advance', 'Market', 'Commitment', '(', 'AMC', ')', 'Eligible', 'Economies', 'is', 'the', 'world', '’', 's', 'first', 'and', 'only', 'international', 'vaccine', 'injury', 'compensation', 'mechanism', '.', 'The', 'Program', 'helps', 'COVAX', 'deliver', 'safe', 'and', 'effective', 'COVID-19', 'vaccines', 'to', 'the', 'high-risk', 'and', 'vulnerable', 'populations', 'in', '92', 'low-', 'and', 'middle-income', 'countries', 'and', 'economies', '.', 'Emergency', 'Use', 'Listing', '(', 'EUL', ')', 'WHO', \"'s\", 'EUL', 'procedure', 'is', 'a', 'risk-based', 'procedure', 'for', 'assessing', 'and', 'listing', 'unlicensed', 'vaccines', ',', 'therapeutics', 'and', 'in', 'vitro', 'diagnostics', 'with', 'the', 'ultimate', 'aim', 'of', 'expediting', 'the', 'availability', 'of', 'these', 'products', 'to', 'people', 'affected', 'by', 'a', 'public', 'health', 'emergency', '.', 'Strategic', 'Advisory', 'Group', 'of', 'Experts', '(', 'SAGE', ')', 'on', 'Immunization', 'SAGE', 'advises', 'WHO', 'on', 'overall', 'global', 'policies', 'and', 'strategies', ',', 'ranging', 'from', 'vaccines', 'and', 'technology', ',', 'research', 'and', 'development', ',', 'to', 'delivery', 'of', 'immunization', 'and', 'its', 'linkages', 'with', 'other', 'health', 'interventions', '.', 'Draft', 'landscape', 'of', 'COVID-19', 'vaccine', 'candidates', 'The', 'draft', 'landscape', 'of', 'COVID-19', 'vaccine', 'candidates', 'contains', 'information', 'on', 'vaccine', 'candidates', 'collected', 'through', 'public', 'information', '(', 'e.g', '.', 'clinical', 'trial', 'registries', ')', 'and', 'information', 'that', 'were', 'directly', 'provided', 'by', 'vaccine', 'developers', 'to', 'WHO', '.', 'The', 'landscape', 'is', 'generally', 'updated', 'twice', 'a', 'week', ',', 'based', 'on', 'the', 'latest', 'information', ',', 'including', 'those', 'we', 'receive', 'from', 'scientists', 'and', 'research', 'The', 'Pfizer', 'BioNTech', '(', 'BNT162b2', ')', 'COVID-19', 'vaccine', ':', 'What', 'you', 'need', 'to', 'know', 'The', 'Bharat', 'Biotech', 'BBV152', 'COVAXIN', 'vaccine', 'against', 'COVID-19', ':', 'What', 'you', 'need', 'to', 'know', 'The', 'Sinovac-CoronaVac', 'COVID-19', 'vaccine', ':', 'What', 'you', 'need', 'to', 'know', 'The', 'Sinopharm', 'COVID-19', 'vaccine', ':', 'What', 'you', 'need', 'to', 'know', 'The', 'Moderna', 'COVID-19', '(', 'mRNA-1273', ')', 'vaccine', ':', 'what', 'you', 'need', 'to', 'know', 'The', 'Oxford/AstraZeneca', '(', 'ChAdOx1-S', '[', 'recombinant', ']', 'vaccine', ')', 'COVID-19', 'vaccine', ':', 'what', 'you', 'need', 'to', 'know', 'The', 'Janssen', 'Ad26.COV2.S', 'COVID-19', 'vaccine', ':', 'What', 'you', 'need', 'to', 'know', 'The', 'Novavax', 'vaccine', 'against', 'COVID-19', ':', 'What', 'you', 'need', 'to', 'know', 'Moving', 'forward', 'on', 'goal', 'to', 'boost', 'local', 'pharmaceutical', 'production', ',', 'WHO', 'establishes', 'global', 'biomanufacturing', 'training', 'hub', 'in', 'Republic', 'of', 'Korea', 'ACT-Accelerator', 'calls', 'for', 'fair', 'share-based', 'financing', 'of', 'US', '$', '23', 'billion', 'to', 'end', 'pandemic', 'as', 'global', 'emergency', 'in', '2022', 'IOC', 'and', 'WHO', 'reaffirm', 'collaboration', 'to', 'promote', 'vaccine', 'equity', 'and', 'healthy', 'lifestyles', 'Updated', 'WHO', 'SAGE', 'Roadmap', 'for', 'prioritizing', 'uses', 'of', 'COVID-19', 'vaccines', '11', 'August', '2021', 'Pasig', 'City', ':', 'A', 'COVID-19', 'Vaccination', 'Success', 'Story', 'PAHO', 'paving', 'the', 'way', 'for', 'COVID-19', 'vaccination', 'in', 'the', 'Americas', 'The', 'effects', 'of', 'virus', 'variants', 'on', 'COVID-19', 'vaccines', 'Inside', 'the', 'Mammoth', 'Undertaking', 'of', 'Global', 'Vaccine', 'Distribution', 'Other', 'resources', 'Criteria', 'for', 'COVID-19', 'vaccine', 'prioritization', 'The', 'proposed', 'attributes', 'and', 'criteria', 'provide', 'considerations', 'for', 'the', 'evaluation', 'and', 'prioritization', 'of', 'COVID-19', 'candidate', 'vaccines', 'to', 'be', 'considered', 'for', 'further', 'development', 'by', 'WHO', '.', 'The', 'target', 'audience', 'includes', 'vaccine', 'scientists', ',', 'product', 'developers', ',', 'manufacturers', ',', 'regulators', 'and', 'funding', 'agencies', '.', 'Vaccine', 'target', 'product', 'profile', 'WHO', 'has', 'published', 'the', 'target', 'product', 'profiles', 'for', 'COVID-19', 'vaccines', ',', 'which', 'describes', 'the', 'preferred', 'and', 'minimally', 'acceptable', 'profiles', 'for', 'human', 'vaccines', 'for', 'long', 'term', 'protection', 'of', 'persons', 'at', 'high', 'ongoing', 'risk', 'of', 'COVID-19', ',', 'and', 'for', 'reactive', 'use', 'in', 'outbreak', 'settings', 'with', 'rapid', 'onset', 'of', 'immunity', '.', 'We', 'have', 'also', 'published', 'the', 'criteria', 'for', 'prioritization', 'of', 'vaccines', 'for', 'clinical', 'trials', '.', 'Coronavirus', 'disease', '(', 'COVID-19', ')', 'Vaccines', 'and', 'immunization']\n"
          ]
        }
      ],
      "source": [
        "\n",
        "text3 = news_text1\n",
        "\n",
        "text3_token= nltk.word_tokenize(text3)\n",
        "print(text3_token)"
      ]
    },
    {
      "cell_type": "code",
      "execution_count": 19,
      "metadata": {
        "colab": {
          "base_uri": "https://localhost:8080/"
        },
        "id": "kcDJDIV8o5H7",
        "outputId": "81ce9c93-179b-42f8-feb3-a2a79c401e88"
      },
      "outputs": [
        {
          "output_type": "stream",
          "name": "stdout",
          "text": [
            "[('Science', 'in'), ('in', '5'), ('5', 'Getting'), ('Getting', 'vaccinated'), ('vaccinated', 'COVAX'), ('COVAX', 'COVAX'), ('COVAX', 'aims'), ('aims', 'to'), ('to', 'accelerate'), ('accelerate', 'the'), ('the', 'development'), ('development', 'and'), ('and', 'manufacturing'), ('manufacturing', 'of'), ('of', 'COVID-19'), ('COVID-19', 'vaccines'), ('vaccines', ','), (',', 'and'), ('and', 'guarantee'), ('guarantee', 'fair'), ('fair', 'and'), ('and', 'equitable'), ('equitable', 'access'), ('access', 'for'), ('for', 'every'), ('every', 'country'), ('country', '.'), ('.', 'COVAX'), ('COVAX', 'is'), ('is', 'co-led'), ('co-led', 'by'), ('by', 'the'), ('the', 'Coalition'), ('Coalition', 'for'), ('for', 'Epidemic'), ('Epidemic', 'Preparedness'), ('Preparedness', 'Innovations'), ('Innovations', '('), ('(', 'CEPI'), ('CEPI', ')'), (')', ','), (',', 'Gavi'), ('Gavi', 'and'), ('and', 'WHO'), ('WHO', ','), (',', 'with'), ('with', 'UNICEF'), ('UNICEF', 'as'), ('as', 'a'), ('a', 'key'), ('key', 'delivery'), ('delivery', 'partner'), ('partner', 'and'), ('and', 'PAHO'), ('PAHO', 'as'), ('as', 'the'), ('the', 'procurement'), ('procurement', 'agent'), ('agent', 'in'), ('in', 'the'), ('the', 'Americas'), ('Americas', '.'), ('.', 'Country'), ('Country', 'readiness'), ('readiness', 'and'), ('and', 'delivery'), ('delivery', 'WHO'), ('WHO', 'has'), ('has', 'worked'), ('worked', 'with'), ('with', 'UNICEF'), ('UNICEF', ','), (',', 'Gavi'), ('Gavi', 'and'), ('and', 'partners'), ('partners', 'to'), ('to', 'develop'), ('develop', 'resources'), ('resources', ','), (',', 'such'), ('such', 'as'), ('as', 'guidance'), ('guidance', ','), (',', 'trainings'), ('trainings', ','), (',', 'tools'), ('tools', 'and'), ('and', 'advocacy'), ('advocacy', 'materials'), ('materials', 'to'), ('to', 'help'), ('help', 'governments'), ('governments', ','), (',', 'health'), ('health', 'workers'), ('workers', 'and'), ('and', 'partners'), ('partners', 'to'), ('to', 'launch'), ('launch', ','), (',', 'refine'), ('refine', ','), (',', 'and'), ('and', 'optimise'), ('optimise', 'uptake'), ('uptake', 'of'), ('of', 'their'), ('their', 'COVID-19'), ('COVID-19', 'vaccination'), ('vaccination', 'programmes'), ('programmes', '.'), ('.', 'COVAX'), ('COVAX', 'No'), ('No', 'fault'), ('fault', 'compensation'), ('compensation', 'program'), ('program', 'The'), ('The', 'COVAX'), ('COVAX', 'No-Fault'), ('No-Fault', 'Compensation'), ('Compensation', 'Program'), ('Program', 'for'), ('for', 'Advance'), ('Advance', 'Market'), ('Market', 'Commitment'), ('Commitment', '('), ('(', 'AMC'), ('AMC', ')'), (')', 'Eligible'), ('Eligible', 'Economies'), ('Economies', 'is'), ('is', 'the'), ('the', 'world'), ('world', '’'), ('’', 's'), ('s', 'first'), ('first', 'and'), ('and', 'only'), ('only', 'international'), ('international', 'vaccine'), ('vaccine', 'injury'), ('injury', 'compensation'), ('compensation', 'mechanism'), ('mechanism', '.'), ('.', 'The'), ('The', 'Program'), ('Program', 'helps'), ('helps', 'COVAX'), ('COVAX', 'deliver'), ('deliver', 'safe'), ('safe', 'and'), ('and', 'effective'), ('effective', 'COVID-19'), ('COVID-19', 'vaccines'), ('vaccines', 'to'), ('to', 'the'), ('the', 'high-risk'), ('high-risk', 'and'), ('and', 'vulnerable'), ('vulnerable', 'populations'), ('populations', 'in'), ('in', '92'), ('92', 'low-'), ('low-', 'and'), ('and', 'middle-income'), ('middle-income', 'countries'), ('countries', 'and'), ('and', 'economies'), ('economies', '.'), ('.', 'Emergency'), ('Emergency', 'Use'), ('Use', 'Listing'), ('Listing', '('), ('(', 'EUL'), ('EUL', ')'), (')', 'WHO'), ('WHO', \"'s\"), (\"'s\", 'EUL'), ('EUL', 'procedure'), ('procedure', 'is'), ('is', 'a'), ('a', 'risk-based'), ('risk-based', 'procedure'), ('procedure', 'for'), ('for', 'assessing'), ('assessing', 'and'), ('and', 'listing'), ('listing', 'unlicensed'), ('unlicensed', 'vaccines'), ('vaccines', ','), (',', 'therapeutics'), ('therapeutics', 'and'), ('and', 'in'), ('in', 'vitro'), ('vitro', 'diagnostics'), ('diagnostics', 'with'), ('with', 'the'), ('the', 'ultimate'), ('ultimate', 'aim'), ('aim', 'of'), ('of', 'expediting'), ('expediting', 'the'), ('the', 'availability'), ('availability', 'of'), ('of', 'these'), ('these', 'products'), ('products', 'to'), ('to', 'people'), ('people', 'affected'), ('affected', 'by'), ('by', 'a'), ('a', 'public'), ('public', 'health'), ('health', 'emergency'), ('emergency', '.'), ('.', 'Strategic'), ('Strategic', 'Advisory'), ('Advisory', 'Group'), ('Group', 'of'), ('of', 'Experts'), ('Experts', '('), ('(', 'SAGE'), ('SAGE', ')'), (')', 'on'), ('on', 'Immunization'), ('Immunization', 'SAGE'), ('SAGE', 'advises'), ('advises', 'WHO'), ('WHO', 'on'), ('on', 'overall'), ('overall', 'global'), ('global', 'policies'), ('policies', 'and'), ('and', 'strategies'), ('strategies', ','), (',', 'ranging'), ('ranging', 'from'), ('from', 'vaccines'), ('vaccines', 'and'), ('and', 'technology'), ('technology', ','), (',', 'research'), ('research', 'and'), ('and', 'development'), ('development', ','), (',', 'to'), ('to', 'delivery'), ('delivery', 'of'), ('of', 'immunization'), ('immunization', 'and'), ('and', 'its'), ('its', 'linkages'), ('linkages', 'with'), ('with', 'other'), ('other', 'health'), ('health', 'interventions'), ('interventions', '.'), ('.', 'Draft'), ('Draft', 'landscape'), ('landscape', 'of'), ('of', 'COVID-19'), ('COVID-19', 'vaccine'), ('vaccine', 'candidates'), ('candidates', 'The'), ('The', 'draft'), ('draft', 'landscape'), ('landscape', 'of'), ('of', 'COVID-19'), ('COVID-19', 'vaccine'), ('vaccine', 'candidates'), ('candidates', 'contains'), ('contains', 'information'), ('information', 'on'), ('on', 'vaccine'), ('vaccine', 'candidates'), ('candidates', 'collected'), ('collected', 'through'), ('through', 'public'), ('public', 'information'), ('information', '('), ('(', 'e.g'), ('e.g', '.'), ('.', 'clinical'), ('clinical', 'trial'), ('trial', 'registries'), ('registries', ')'), (')', 'and'), ('and', 'information'), ('information', 'that'), ('that', 'were'), ('were', 'directly'), ('directly', 'provided'), ('provided', 'by'), ('by', 'vaccine'), ('vaccine', 'developers'), ('developers', 'to'), ('to', 'WHO'), ('WHO', '.'), ('.', 'The'), ('The', 'landscape'), ('landscape', 'is'), ('is', 'generally'), ('generally', 'updated'), ('updated', 'twice'), ('twice', 'a'), ('a', 'week'), ('week', ','), (',', 'based'), ('based', 'on'), ('on', 'the'), ('the', 'latest'), ('latest', 'information'), ('information', ','), (',', 'including'), ('including', 'those'), ('those', 'we'), ('we', 'receive'), ('receive', 'from'), ('from', 'scientists'), ('scientists', 'and'), ('and', 'research'), ('research', 'The'), ('The', 'Pfizer'), ('Pfizer', 'BioNTech'), ('BioNTech', '('), ('(', 'BNT162b2'), ('BNT162b2', ')'), (')', 'COVID-19'), ('COVID-19', 'vaccine'), ('vaccine', ':'), (':', 'What'), ('What', 'you'), ('you', 'need'), ('need', 'to'), ('to', 'know'), ('know', 'The'), ('The', 'Bharat'), ('Bharat', 'Biotech'), ('Biotech', 'BBV152'), ('BBV152', 'COVAXIN'), ('COVAXIN', 'vaccine'), ('vaccine', 'against'), ('against', 'COVID-19'), ('COVID-19', ':'), (':', 'What'), ('What', 'you'), ('you', 'need'), ('need', 'to'), ('to', 'know'), ('know', 'The'), ('The', 'Sinovac-CoronaVac'), ('Sinovac-CoronaVac', 'COVID-19'), ('COVID-19', 'vaccine'), ('vaccine', ':'), (':', 'What'), ('What', 'you'), ('you', 'need'), ('need', 'to'), ('to', 'know'), ('know', 'The'), ('The', 'Sinopharm'), ('Sinopharm', 'COVID-19'), ('COVID-19', 'vaccine'), ('vaccine', ':'), (':', 'What'), ('What', 'you'), ('you', 'need'), ('need', 'to'), ('to', 'know'), ('know', 'The'), ('The', 'Moderna'), ('Moderna', 'COVID-19'), ('COVID-19', '('), ('(', 'mRNA-1273'), ('mRNA-1273', ')'), (')', 'vaccine'), ('vaccine', ':'), (':', 'what'), ('what', 'you'), ('you', 'need'), ('need', 'to'), ('to', 'know'), ('know', 'The'), ('The', 'Oxford/AstraZeneca'), ('Oxford/AstraZeneca', '('), ('(', 'ChAdOx1-S'), ('ChAdOx1-S', '['), ('[', 'recombinant'), ('recombinant', ']'), (']', 'vaccine'), ('vaccine', ')'), (')', 'COVID-19'), ('COVID-19', 'vaccine'), ('vaccine', ':'), (':', 'what'), ('what', 'you'), ('you', 'need'), ('need', 'to'), ('to', 'know'), ('know', 'The'), ('The', 'Janssen'), ('Janssen', 'Ad26.COV2.S'), ('Ad26.COV2.S', 'COVID-19'), ('COVID-19', 'vaccine'), ('vaccine', ':'), (':', 'What'), ('What', 'you'), ('you', 'need'), ('need', 'to'), ('to', 'know'), ('know', 'The'), ('The', 'Novavax'), ('Novavax', 'vaccine'), ('vaccine', 'against'), ('against', 'COVID-19'), ('COVID-19', ':'), (':', 'What'), ('What', 'you'), ('you', 'need'), ('need', 'to'), ('to', 'know'), ('know', 'Moving'), ('Moving', 'forward'), ('forward', 'on'), ('on', 'goal'), ('goal', 'to'), ('to', 'boost'), ('boost', 'local'), ('local', 'pharmaceutical'), ('pharmaceutical', 'production'), ('production', ','), (',', 'WHO'), ('WHO', 'establishes'), ('establishes', 'global'), ('global', 'biomanufacturing'), ('biomanufacturing', 'training'), ('training', 'hub'), ('hub', 'in'), ('in', 'Republic'), ('Republic', 'of'), ('of', 'Korea'), ('Korea', 'ACT-Accelerator'), ('ACT-Accelerator', 'calls'), ('calls', 'for'), ('for', 'fair'), ('fair', 'share-based'), ('share-based', 'financing'), ('financing', 'of'), ('of', 'US'), ('US', '$'), ('$', '23'), ('23', 'billion'), ('billion', 'to'), ('to', 'end'), ('end', 'pandemic'), ('pandemic', 'as'), ('as', 'global'), ('global', 'emergency'), ('emergency', 'in'), ('in', '2022'), ('2022', 'IOC'), ('IOC', 'and'), ('and', 'WHO'), ('WHO', 'reaffirm'), ('reaffirm', 'collaboration'), ('collaboration', 'to'), ('to', 'promote'), ('promote', 'vaccine'), ('vaccine', 'equity'), ('equity', 'and'), ('and', 'healthy'), ('healthy', 'lifestyles'), ('lifestyles', 'Updated'), ('Updated', 'WHO'), ('WHO', 'SAGE'), ('SAGE', 'Roadmap'), ('Roadmap', 'for'), ('for', 'prioritizing'), ('prioritizing', 'uses'), ('uses', 'of'), ('of', 'COVID-19'), ('COVID-19', 'vaccines'), ('vaccines', '11'), ('11', 'August'), ('August', '2021'), ('2021', 'Pasig'), ('Pasig', 'City'), ('City', ':'), (':', 'A'), ('A', 'COVID-19'), ('COVID-19', 'Vaccination'), ('Vaccination', 'Success'), ('Success', 'Story'), ('Story', 'PAHO'), ('PAHO', 'paving'), ('paving', 'the'), ('the', 'way'), ('way', 'for'), ('for', 'COVID-19'), ('COVID-19', 'vaccination'), ('vaccination', 'in'), ('in', 'the'), ('the', 'Americas'), ('Americas', 'The'), ('The', 'effects'), ('effects', 'of'), ('of', 'virus'), ('virus', 'variants'), ('variants', 'on'), ('on', 'COVID-19'), ('COVID-19', 'vaccines'), ('vaccines', 'Inside'), ('Inside', 'the'), ('the', 'Mammoth'), ('Mammoth', 'Undertaking'), ('Undertaking', 'of'), ('of', 'Global'), ('Global', 'Vaccine'), ('Vaccine', 'Distribution'), ('Distribution', 'Other'), ('Other', 'resources'), ('resources', 'Criteria'), ('Criteria', 'for'), ('for', 'COVID-19'), ('COVID-19', 'vaccine'), ('vaccine', 'prioritization'), ('prioritization', 'The'), ('The', 'proposed'), ('proposed', 'attributes'), ('attributes', 'and'), ('and', 'criteria'), ('criteria', 'provide'), ('provide', 'considerations'), ('considerations', 'for'), ('for', 'the'), ('the', 'evaluation'), ('evaluation', 'and'), ('and', 'prioritization'), ('prioritization', 'of'), ('of', 'COVID-19'), ('COVID-19', 'candidate'), ('candidate', 'vaccines'), ('vaccines', 'to'), ('to', 'be'), ('be', 'considered'), ('considered', 'for'), ('for', 'further'), ('further', 'development'), ('development', 'by'), ('by', 'WHO'), ('WHO', '.'), ('.', 'The'), ('The', 'target'), ('target', 'audience'), ('audience', 'includes'), ('includes', 'vaccine'), ('vaccine', 'scientists'), ('scientists', ','), (',', 'product'), ('product', 'developers'), ('developers', ','), (',', 'manufacturers'), ('manufacturers', ','), (',', 'regulators'), ('regulators', 'and'), ('and', 'funding'), ('funding', 'agencies'), ('agencies', '.'), ('.', 'Vaccine'), ('Vaccine', 'target'), ('target', 'product'), ('product', 'profile'), ('profile', 'WHO'), ('WHO', 'has'), ('has', 'published'), ('published', 'the'), ('the', 'target'), ('target', 'product'), ('product', 'profiles'), ('profiles', 'for'), ('for', 'COVID-19'), ('COVID-19', 'vaccines'), ('vaccines', ','), (',', 'which'), ('which', 'describes'), ('describes', 'the'), ('the', 'preferred'), ('preferred', 'and'), ('and', 'minimally'), ('minimally', 'acceptable'), ('acceptable', 'profiles'), ('profiles', 'for'), ('for', 'human'), ('human', 'vaccines'), ('vaccines', 'for'), ('for', 'long'), ('long', 'term'), ('term', 'protection'), ('protection', 'of'), ('of', 'persons'), ('persons', 'at'), ('at', 'high'), ('high', 'ongoing'), ('ongoing', 'risk'), ('risk', 'of'), ('of', 'COVID-19'), ('COVID-19', ','), (',', 'and'), ('and', 'for'), ('for', 'reactive'), ('reactive', 'use'), ('use', 'in'), ('in', 'outbreak'), ('outbreak', 'settings'), ('settings', 'with'), ('with', 'rapid'), ('rapid', 'onset'), ('onset', 'of'), ('of', 'immunity'), ('immunity', '.'), ('.', 'We'), ('We', 'have'), ('have', 'also'), ('also', 'published'), ('published', 'the'), ('the', 'criteria'), ('criteria', 'for'), ('for', 'prioritization'), ('prioritization', 'of'), ('of', 'vaccines'), ('vaccines', 'for'), ('for', 'clinical'), ('clinical', 'trials'), ('trials', '.'), ('.', 'Coronavirus'), ('Coronavirus', 'disease'), ('disease', '('), ('(', 'COVID-19'), ('COVID-19', ')'), (')', 'Vaccines'), ('Vaccines', 'and'), ('and', 'immunization')]\n"
          ]
        }
      ],
      "source": [
        "from nltk import ngrams\n",
        "n = 2\n",
        "ngrams = ngrams(text3_token, n)\n",
        "bigrams_list =[gram for gram in ngrams]\n",
        "print(bigrams_list)"
      ]
    },
    {
      "cell_type": "code",
      "execution_count": 20,
      "metadata": {
        "colab": {
          "base_uri": "https://localhost:8080/"
        },
        "id": "w1WH6Lzjtsbf",
        "outputId": "8c7a9d03-7870-4779-f75d-1e7432a1923a"
      },
      "outputs": [
        {
          "output_type": "stream",
          "name": "stdout",
          "text": [
            "('Science', 'in') 1\n",
            "('in', '5') 1\n",
            "('5', 'Getting') 1\n",
            "('Getting', 'vaccinated') 1\n",
            "('vaccinated', 'COVAX') 1\n",
            "('COVAX', 'COVAX') 1\n",
            "('COVAX', 'aims') 1\n",
            "('aims', 'to') 1\n",
            "('to', 'accelerate') 1\n",
            "('accelerate', 'the') 1\n",
            "('the', 'development') 1\n",
            "('development', 'and') 1\n",
            "('and', 'manufacturing') 1\n",
            "('manufacturing', 'of') 1\n",
            "('of', 'COVID-19') 6\n",
            "('COVID-19', 'vaccines') 5\n",
            "('vaccines', ',') 3\n",
            "(',', 'and') 3\n",
            "('and', 'guarantee') 1\n",
            "('guarantee', 'fair') 1\n",
            "('fair', 'and') 1\n",
            "('and', 'equitable') 1\n",
            "('equitable', 'access') 1\n",
            "('access', 'for') 1\n",
            "('for', 'every') 1\n",
            "('every', 'country') 1\n",
            "('country', '.') 1\n",
            "('.', 'COVAX') 2\n",
            "('COVAX', 'is') 1\n",
            "('is', 'co-led') 1\n",
            "('co-led', 'by') 1\n",
            "('by', 'the') 1\n",
            "('the', 'Coalition') 1\n",
            "('Coalition', 'for') 1\n",
            "('for', 'Epidemic') 1\n",
            "('Epidemic', 'Preparedness') 1\n",
            "('Preparedness', 'Innovations') 1\n",
            "('Innovations', '(') 1\n",
            "('(', 'CEPI') 1\n",
            "('CEPI', ')') 1\n",
            "(')', ',') 1\n",
            "(',', 'Gavi') 2\n",
            "('Gavi', 'and') 2\n",
            "('and', 'WHO') 2\n",
            "('WHO', ',') 1\n",
            "(',', 'with') 1\n",
            "('with', 'UNICEF') 2\n",
            "('UNICEF', 'as') 1\n",
            "('as', 'a') 1\n",
            "('a', 'key') 1\n",
            "('key', 'delivery') 1\n",
            "('delivery', 'partner') 1\n",
            "('partner', 'and') 1\n",
            "('and', 'PAHO') 1\n",
            "('PAHO', 'as') 1\n",
            "('as', 'the') 1\n",
            "('the', 'procurement') 1\n",
            "('procurement', 'agent') 1\n",
            "('agent', 'in') 1\n",
            "('in', 'the') 2\n",
            "('the', 'Americas') 2\n",
            "('Americas', '.') 1\n",
            "('.', 'Country') 1\n",
            "('Country', 'readiness') 1\n",
            "('readiness', 'and') 1\n",
            "('and', 'delivery') 1\n",
            "('delivery', 'WHO') 1\n",
            "('WHO', 'has') 2\n",
            "('has', 'worked') 1\n",
            "('worked', 'with') 1\n",
            "('UNICEF', ',') 1\n",
            "('and', 'partners') 2\n",
            "('partners', 'to') 2\n",
            "('to', 'develop') 1\n",
            "('develop', 'resources') 1\n",
            "('resources', ',') 1\n",
            "(',', 'such') 1\n",
            "('such', 'as') 1\n",
            "('as', 'guidance') 1\n",
            "('guidance', ',') 1\n",
            "(',', 'trainings') 1\n",
            "('trainings', ',') 1\n",
            "(',', 'tools') 1\n",
            "('tools', 'and') 1\n",
            "('and', 'advocacy') 1\n",
            "('advocacy', 'materials') 1\n",
            "('materials', 'to') 1\n",
            "('to', 'help') 1\n",
            "('help', 'governments') 1\n",
            "('governments', ',') 1\n",
            "(',', 'health') 1\n",
            "('health', 'workers') 1\n",
            "('workers', 'and') 1\n",
            "('to', 'launch') 1\n",
            "('launch', ',') 1\n",
            "(',', 'refine') 1\n",
            "('refine', ',') 1\n",
            "('and', 'optimise') 1\n",
            "('optimise', 'uptake') 1\n",
            "('uptake', 'of') 1\n",
            "('of', 'their') 1\n",
            "('their', 'COVID-19') 1\n",
            "('COVID-19', 'vaccination') 2\n",
            "('vaccination', 'programmes') 1\n",
            "('programmes', '.') 1\n",
            "('COVAX', 'No') 1\n",
            "('No', 'fault') 1\n",
            "('fault', 'compensation') 1\n",
            "('compensation', 'program') 1\n",
            "('program', 'The') 1\n",
            "('The', 'COVAX') 1\n",
            "('COVAX', 'No-Fault') 1\n",
            "('No-Fault', 'Compensation') 1\n",
            "('Compensation', 'Program') 1\n",
            "('Program', 'for') 1\n",
            "('for', 'Advance') 1\n",
            "('Advance', 'Market') 1\n",
            "('Market', 'Commitment') 1\n",
            "('Commitment', '(') 1\n",
            "('(', 'AMC') 1\n",
            "('AMC', ')') 1\n",
            "(')', 'Eligible') 1\n",
            "('Eligible', 'Economies') 1\n",
            "('Economies', 'is') 1\n",
            "('is', 'the') 1\n",
            "('the', 'world') 1\n",
            "('world', '’') 1\n",
            "('’', 's') 1\n",
            "('s', 'first') 1\n",
            "('first', 'and') 1\n",
            "('and', 'only') 1\n",
            "('only', 'international') 1\n",
            "('international', 'vaccine') 1\n",
            "('vaccine', 'injury') 1\n",
            "('injury', 'compensation') 1\n",
            "('compensation', 'mechanism') 1\n",
            "('mechanism', '.') 1\n",
            "('.', 'The') 3\n",
            "('The', 'Program') 1\n",
            "('Program', 'helps') 1\n",
            "('helps', 'COVAX') 1\n",
            "('COVAX', 'deliver') 1\n",
            "('deliver', 'safe') 1\n",
            "('safe', 'and') 1\n",
            "('and', 'effective') 1\n",
            "('effective', 'COVID-19') 1\n",
            "('vaccines', 'to') 2\n",
            "('to', 'the') 1\n",
            "('the', 'high-risk') 1\n",
            "('high-risk', 'and') 1\n",
            "('and', 'vulnerable') 1\n",
            "('vulnerable', 'populations') 1\n",
            "('populations', 'in') 1\n",
            "('in', '92') 1\n",
            "('92', 'low-') 1\n",
            "('low-', 'and') 1\n",
            "('and', 'middle-income') 1\n",
            "('middle-income', 'countries') 1\n",
            "('countries', 'and') 1\n",
            "('and', 'economies') 1\n",
            "('economies', '.') 1\n",
            "('.', 'Emergency') 1\n",
            "('Emergency', 'Use') 1\n",
            "('Use', 'Listing') 1\n",
            "('Listing', '(') 1\n",
            "('(', 'EUL') 1\n",
            "('EUL', ')') 1\n",
            "(')', 'WHO') 1\n",
            "('WHO', \"'s\") 1\n",
            "(\"'s\", 'EUL') 1\n",
            "('EUL', 'procedure') 1\n",
            "('procedure', 'is') 1\n",
            "('is', 'a') 1\n",
            "('a', 'risk-based') 1\n",
            "('risk-based', 'procedure') 1\n",
            "('procedure', 'for') 1\n",
            "('for', 'assessing') 1\n",
            "('assessing', 'and') 1\n",
            "('and', 'listing') 1\n",
            "('listing', 'unlicensed') 1\n",
            "('unlicensed', 'vaccines') 1\n",
            "(',', 'therapeutics') 1\n",
            "('therapeutics', 'and') 1\n",
            "('and', 'in') 1\n",
            "('in', 'vitro') 1\n",
            "('vitro', 'diagnostics') 1\n",
            "('diagnostics', 'with') 1\n",
            "('with', 'the') 1\n",
            "('the', 'ultimate') 1\n",
            "('ultimate', 'aim') 1\n",
            "('aim', 'of') 1\n",
            "('of', 'expediting') 1\n",
            "('expediting', 'the') 1\n",
            "('the', 'availability') 1\n",
            "('availability', 'of') 1\n",
            "('of', 'these') 1\n",
            "('these', 'products') 1\n",
            "('products', 'to') 1\n",
            "('to', 'people') 1\n",
            "('people', 'affected') 1\n",
            "('affected', 'by') 1\n",
            "('by', 'a') 1\n",
            "('a', 'public') 1\n",
            "('public', 'health') 1\n",
            "('health', 'emergency') 1\n",
            "('emergency', '.') 1\n",
            "('.', 'Strategic') 1\n",
            "('Strategic', 'Advisory') 1\n",
            "('Advisory', 'Group') 1\n",
            "('Group', 'of') 1\n",
            "('of', 'Experts') 1\n",
            "('Experts', '(') 1\n",
            "('(', 'SAGE') 1\n",
            "('SAGE', ')') 1\n",
            "(')', 'on') 1\n",
            "('on', 'Immunization') 1\n",
            "('Immunization', 'SAGE') 1\n",
            "('SAGE', 'advises') 1\n",
            "('advises', 'WHO') 1\n",
            "('WHO', 'on') 1\n",
            "('on', 'overall') 1\n",
            "('overall', 'global') 1\n",
            "('global', 'policies') 1\n",
            "('policies', 'and') 1\n",
            "('and', 'strategies') 1\n",
            "('strategies', ',') 1\n",
            "(',', 'ranging') 1\n",
            "('ranging', 'from') 1\n",
            "('from', 'vaccines') 1\n",
            "('vaccines', 'and') 1\n",
            "('and', 'technology') 1\n",
            "('technology', ',') 1\n",
            "(',', 'research') 1\n",
            "('research', 'and') 1\n",
            "('and', 'development') 1\n",
            "('development', ',') 1\n",
            "(',', 'to') 1\n",
            "('to', 'delivery') 1\n",
            "('delivery', 'of') 1\n",
            "('of', 'immunization') 1\n",
            "('immunization', 'and') 1\n",
            "('and', 'its') 1\n",
            "('its', 'linkages') 1\n",
            "('linkages', 'with') 1\n",
            "('with', 'other') 1\n",
            "('other', 'health') 1\n",
            "('health', 'interventions') 1\n",
            "('interventions', '.') 1\n",
            "('.', 'Draft') 1\n",
            "('Draft', 'landscape') 1\n",
            "('landscape', 'of') 2\n",
            "('COVID-19', 'vaccine') 8\n",
            "('vaccine', 'candidates') 3\n",
            "('candidates', 'The') 1\n",
            "('The', 'draft') 1\n",
            "('draft', 'landscape') 1\n",
            "('candidates', 'contains') 1\n",
            "('contains', 'information') 1\n",
            "('information', 'on') 1\n",
            "('on', 'vaccine') 1\n",
            "('candidates', 'collected') 1\n",
            "('collected', 'through') 1\n",
            "('through', 'public') 1\n",
            "('public', 'information') 1\n",
            "('information', '(') 1\n",
            "('(', 'e.g') 1\n",
            "('e.g', '.') 1\n",
            "('.', 'clinical') 1\n",
            "('clinical', 'trial') 1\n",
            "('trial', 'registries') 1\n",
            "('registries', ')') 1\n",
            "(')', 'and') 1\n",
            "('and', 'information') 1\n",
            "('information', 'that') 1\n",
            "('that', 'were') 1\n",
            "('were', 'directly') 1\n",
            "('directly', 'provided') 1\n",
            "('provided', 'by') 1\n",
            "('by', 'vaccine') 1\n",
            "('vaccine', 'developers') 1\n",
            "('developers', 'to') 1\n",
            "('to', 'WHO') 1\n",
            "('WHO', '.') 2\n",
            "('The', 'landscape') 1\n",
            "('landscape', 'is') 1\n",
            "('is', 'generally') 1\n",
            "('generally', 'updated') 1\n",
            "('updated', 'twice') 1\n",
            "('twice', 'a') 1\n",
            "('a', 'week') 1\n",
            "('week', ',') 1\n",
            "(',', 'based') 1\n",
            "('based', 'on') 1\n",
            "('on', 'the') 1\n",
            "('the', 'latest') 1\n",
            "('latest', 'information') 1\n",
            "('information', ',') 1\n",
            "(',', 'including') 1\n",
            "('including', 'those') 1\n",
            "('those', 'we') 1\n",
            "('we', 'receive') 1\n",
            "('receive', 'from') 1\n",
            "('from', 'scientists') 1\n",
            "('scientists', 'and') 1\n",
            "('and', 'research') 1\n",
            "('research', 'The') 1\n",
            "('The', 'Pfizer') 1\n",
            "('Pfizer', 'BioNTech') 1\n",
            "('BioNTech', '(') 1\n",
            "('(', 'BNT162b2') 1\n",
            "('BNT162b2', ')') 1\n",
            "(')', 'COVID-19') 2\n",
            "('vaccine', ':') 6\n",
            "(':', 'What') 6\n",
            "('What', 'you') 6\n",
            "('you', 'need') 8\n",
            "('need', 'to') 8\n",
            "('to', 'know') 8\n",
            "('know', 'The') 7\n",
            "('The', 'Bharat') 1\n",
            "('Bharat', 'Biotech') 1\n",
            "('Biotech', 'BBV152') 1\n",
            "('BBV152', 'COVAXIN') 1\n",
            "('COVAXIN', 'vaccine') 1\n",
            "('vaccine', 'against') 2\n",
            "('against', 'COVID-19') 2\n",
            "('COVID-19', ':') 2\n",
            "('The', 'Sinovac-CoronaVac') 1\n",
            "('Sinovac-CoronaVac', 'COVID-19') 1\n",
            "('The', 'Sinopharm') 1\n",
            "('Sinopharm', 'COVID-19') 1\n",
            "('The', 'Moderna') 1\n",
            "('Moderna', 'COVID-19') 1\n",
            "('COVID-19', '(') 1\n",
            "('(', 'mRNA-1273') 1\n",
            "('mRNA-1273', ')') 1\n",
            "(')', 'vaccine') 1\n",
            "(':', 'what') 2\n",
            "('what', 'you') 2\n",
            "('The', 'Oxford/AstraZeneca') 1\n",
            "('Oxford/AstraZeneca', '(') 1\n",
            "('(', 'ChAdOx1-S') 1\n",
            "('ChAdOx1-S', '[') 1\n",
            "('[', 'recombinant') 1\n",
            "('recombinant', ']') 1\n",
            "(']', 'vaccine') 1\n",
            "('vaccine', ')') 1\n",
            "('The', 'Janssen') 1\n",
            "('Janssen', 'Ad26.COV2.S') 1\n",
            "('Ad26.COV2.S', 'COVID-19') 1\n",
            "('The', 'Novavax') 1\n",
            "('Novavax', 'vaccine') 1\n",
            "('know', 'Moving') 1\n",
            "('Moving', 'forward') 1\n",
            "('forward', 'on') 1\n",
            "('on', 'goal') 1\n",
            "('goal', 'to') 1\n",
            "('to', 'boost') 1\n",
            "('boost', 'local') 1\n",
            "('local', 'pharmaceutical') 1\n",
            "('pharmaceutical', 'production') 1\n",
            "('production', ',') 1\n",
            "(',', 'WHO') 1\n",
            "('WHO', 'establishes') 1\n",
            "('establishes', 'global') 1\n",
            "('global', 'biomanufacturing') 1\n",
            "('biomanufacturing', 'training') 1\n",
            "('training', 'hub') 1\n",
            "('hub', 'in') 1\n",
            "('in', 'Republic') 1\n",
            "('Republic', 'of') 1\n",
            "('of', 'Korea') 1\n",
            "('Korea', 'ACT-Accelerator') 1\n",
            "('ACT-Accelerator', 'calls') 1\n",
            "('calls', 'for') 1\n",
            "('for', 'fair') 1\n",
            "('fair', 'share-based') 1\n",
            "('share-based', 'financing') 1\n",
            "('financing', 'of') 1\n",
            "('of', 'US') 1\n",
            "('US', '$') 1\n",
            "('$', '23') 1\n",
            "('23', 'billion') 1\n",
            "('billion', 'to') 1\n",
            "('to', 'end') 1\n",
            "('end', 'pandemic') 1\n",
            "('pandemic', 'as') 1\n",
            "('as', 'global') 1\n",
            "('global', 'emergency') 1\n",
            "('emergency', 'in') 1\n",
            "('in', '2022') 1\n",
            "('2022', 'IOC') 1\n",
            "('IOC', 'and') 1\n",
            "('WHO', 'reaffirm') 1\n",
            "('reaffirm', 'collaboration') 1\n",
            "('collaboration', 'to') 1\n",
            "('to', 'promote') 1\n",
            "('promote', 'vaccine') 1\n",
            "('vaccine', 'equity') 1\n",
            "('equity', 'and') 1\n",
            "('and', 'healthy') 1\n",
            "('healthy', 'lifestyles') 1\n",
            "('lifestyles', 'Updated') 1\n",
            "('Updated', 'WHO') 1\n",
            "('WHO', 'SAGE') 1\n",
            "('SAGE', 'Roadmap') 1\n",
            "('Roadmap', 'for') 1\n",
            "('for', 'prioritizing') 1\n",
            "('prioritizing', 'uses') 1\n",
            "('uses', 'of') 1\n",
            "('vaccines', '11') 1\n",
            "('11', 'August') 1\n",
            "('August', '2021') 1\n",
            "('2021', 'Pasig') 1\n",
            "('Pasig', 'City') 1\n",
            "('City', ':') 1\n",
            "(':', 'A') 1\n",
            "('A', 'COVID-19') 1\n",
            "('COVID-19', 'Vaccination') 1\n",
            "('Vaccination', 'Success') 1\n",
            "('Success', 'Story') 1\n",
            "('Story', 'PAHO') 1\n",
            "('PAHO', 'paving') 1\n",
            "('paving', 'the') 1\n",
            "('the', 'way') 1\n",
            "('way', 'for') 1\n",
            "('for', 'COVID-19') 3\n",
            "('vaccination', 'in') 1\n",
            "('Americas', 'The') 1\n",
            "('The', 'effects') 1\n",
            "('effects', 'of') 1\n",
            "('of', 'virus') 1\n",
            "('virus', 'variants') 1\n",
            "('variants', 'on') 1\n",
            "('on', 'COVID-19') 1\n",
            "('vaccines', 'Inside') 1\n",
            "('Inside', 'the') 1\n",
            "('the', 'Mammoth') 1\n",
            "('Mammoth', 'Undertaking') 1\n",
            "('Undertaking', 'of') 1\n",
            "('of', 'Global') 1\n",
            "('Global', 'Vaccine') 1\n",
            "('Vaccine', 'Distribution') 1\n",
            "('Distribution', 'Other') 1\n",
            "('Other', 'resources') 1\n",
            "('resources', 'Criteria') 1\n",
            "('Criteria', 'for') 1\n",
            "('vaccine', 'prioritization') 1\n",
            "('prioritization', 'The') 1\n",
            "('The', 'proposed') 1\n",
            "('proposed', 'attributes') 1\n",
            "('attributes', 'and') 1\n",
            "('and', 'criteria') 1\n",
            "('criteria', 'provide') 1\n",
            "('provide', 'considerations') 1\n",
            "('considerations', 'for') 1\n",
            "('for', 'the') 1\n",
            "('the', 'evaluation') 1\n",
            "('evaluation', 'and') 1\n",
            "('and', 'prioritization') 1\n",
            "('prioritization', 'of') 2\n",
            "('COVID-19', 'candidate') 1\n",
            "('candidate', 'vaccines') 1\n",
            "('to', 'be') 1\n",
            "('be', 'considered') 1\n",
            "('considered', 'for') 1\n",
            "('for', 'further') 1\n",
            "('further', 'development') 1\n",
            "('development', 'by') 1\n",
            "('by', 'WHO') 1\n",
            "('The', 'target') 1\n",
            "('target', 'audience') 1\n",
            "('audience', 'includes') 1\n",
            "('includes', 'vaccine') 1\n",
            "('vaccine', 'scientists') 1\n",
            "('scientists', ',') 1\n",
            "(',', 'product') 1\n",
            "('product', 'developers') 1\n",
            "('developers', ',') 1\n",
            "(',', 'manufacturers') 1\n",
            "('manufacturers', ',') 1\n",
            "(',', 'regulators') 1\n",
            "('regulators', 'and') 1\n",
            "('and', 'funding') 1\n",
            "('funding', 'agencies') 1\n",
            "('agencies', '.') 1\n",
            "('.', 'Vaccine') 1\n",
            "('Vaccine', 'target') 1\n",
            "('target', 'product') 2\n",
            "('product', 'profile') 1\n",
            "('profile', 'WHO') 1\n",
            "('has', 'published') 1\n",
            "('published', 'the') 2\n",
            "('the', 'target') 1\n",
            "('product', 'profiles') 1\n",
            "('profiles', 'for') 2\n",
            "(',', 'which') 1\n",
            "('which', 'describes') 1\n",
            "('describes', 'the') 1\n",
            "('the', 'preferred') 1\n",
            "('preferred', 'and') 1\n",
            "('and', 'minimally') 1\n",
            "('minimally', 'acceptable') 1\n",
            "('acceptable', 'profiles') 1\n",
            "('for', 'human') 1\n",
            "('human', 'vaccines') 1\n",
            "('vaccines', 'for') 2\n",
            "('for', 'long') 1\n",
            "('long', 'term') 1\n",
            "('term', 'protection') 1\n",
            "('protection', 'of') 1\n",
            "('of', 'persons') 1\n",
            "('persons', 'at') 1\n",
            "('at', 'high') 1\n",
            "('high', 'ongoing') 1\n",
            "('ongoing', 'risk') 1\n",
            "('risk', 'of') 1\n",
            "('COVID-19', ',') 1\n",
            "('and', 'for') 1\n",
            "('for', 'reactive') 1\n",
            "('reactive', 'use') 1\n",
            "('use', 'in') 1\n",
            "('in', 'outbreak') 1\n",
            "('outbreak', 'settings') 1\n",
            "('settings', 'with') 1\n",
            "('with', 'rapid') 1\n",
            "('rapid', 'onset') 1\n",
            "('onset', 'of') 1\n",
            "('of', 'immunity') 1\n",
            "('immunity', '.') 1\n",
            "('.', 'We') 1\n",
            "('We', 'have') 1\n",
            "('have', 'also') 1\n",
            "('also', 'published') 1\n",
            "('the', 'criteria') 1\n",
            "('criteria', 'for') 1\n",
            "('for', 'prioritization') 1\n",
            "('of', 'vaccines') 1\n",
            "('for', 'clinical') 1\n",
            "('clinical', 'trials') 1\n",
            "('trials', '.') 1\n",
            "('.', 'Coronavirus') 1\n",
            "('Coronavirus', 'disease') 1\n",
            "('disease', '(') 1\n",
            "('(', 'COVID-19') 1\n",
            "('COVID-19', ')') 1\n",
            "(')', 'Vaccines') 1\n",
            "('Vaccines', 'and') 1\n",
            "('and', 'immunization') 1\n"
          ]
        }
      ],
      "source": [
        "#compute frequency distribution for all the ngrams in the text\n",
        "fdist = nltk.FreqDist(bigrams_list)\n",
        "for term,value in fdist.items():\n",
        "    print(term,value)"
      ]
    },
    {
      "cell_type": "markdown",
      "metadata": {
        "id": "efdbM4O2hYMZ"
      },
      "source": [
        "## 4.Tokenization of Sentences"
      ]
    },
    {
      "cell_type": "code",
      "execution_count": 21,
      "metadata": {
        "colab": {
          "base_uri": "https://localhost:8080/"
        },
        "id": "Zg6cJBQphact",
        "outputId": "8487153d-77bc-4f91-e35f-9d23cafe5117"
      },
      "outputs": [
        {
          "output_type": "execute_result",
          "data": {
            "text/plain": [
              "['Science in 5 Getting vaccinated COVAX COVAX aims to accelerate the development and manufacturing of COVID-19 vaccines, and guarantee fair and equitable access for every country.',\n",
              " 'COVAX is co-led by the Coalition for Epidemic Preparedness Innovations (CEPI), Gavi and WHO, with UNICEF as a key delivery partner and PAHO as the procurement agent in the Americas.',\n",
              " 'Country readiness and delivery WHO has worked with UNICEF, Gavi and partners to develop resources, such as guidance, trainings, tools and advocacy materials to help governments, health workers and partners to launch, refine, and optimise uptake of their COVID-19 vaccination programmes.',\n",
              " 'COVAX No fault compensation program The COVAX No-Fault Compensation Program for Advance Market Commitment (AMC) Eligible Economies is the world’s first and only international vaccine injury compensation mechanism.',\n",
              " 'The Program helps COVAX deliver safe and effective COVID-19 vaccines to the high-risk and vulnerable populations in 92 low- and middle-income countries and economies.',\n",
              " \"Emergency Use Listing (EUL) WHO's EUL procedure is a risk-based procedure for assessing and listing unlicensed vaccines, therapeutics and in vitro diagnostics with the ultimate aim of expediting the availability of these products to people affected by a public health emergency.\",\n",
              " 'Strategic Advisory Group of Experts (SAGE) on Immunization SAGE advises WHO on overall global policies and strategies, ranging from vaccines and technology, research and development, to delivery of immunization and its linkages with other health interventions.',\n",
              " 'Draft landscape of COVID-19 vaccine candidates The draft landscape of COVID-19 vaccine candidates contains information on vaccine candidates collected through public information (e.g.',\n",
              " 'clinical trial registries) and information that were directly provided by vaccine developers to WHO.',\n",
              " 'The landscape is generally updated twice a week, based on the latest information, including those we receive from scientists and research The Pfizer BioNTech (BNT162b2) COVID-19 vaccine: What you need to know The Bharat Biotech BBV152 COVAXIN vaccine against COVID-19: What you need to know The Sinovac-CoronaVac COVID-19 vaccine: What you need to know The Sinopharm COVID-19 vaccine: What you need to know The Moderna COVID-19 (mRNA-1273) vaccine: what you need to know The Oxford/AstraZeneca (ChAdOx1-S [recombinant] vaccine) COVID-19 vaccine: what you need to know The Janssen Ad26.COV2.S COVID-19 vaccine: What you need to know The Novavax vaccine against COVID-19: What you need to know Moving forward on goal to boost local pharmaceutical production, WHO establishes global biomanufacturing training hub in Republic of Korea ACT-Accelerator calls for fair share-based financing of US$ 23 billion to end pandemic as global emergency in 2022 IOC and WHO reaffirm collaboration to promote vaccine equity and healthy lifestyles Updated WHO SAGE Roadmap for prioritizing uses of COVID-19 vaccines 11 August 2021 Pasig City: A COVID-19 Vaccination Success Story PAHO paving the way for COVID-19 vaccination in the Americas The effects of virus variants on COVID-19 vaccines Inside the Mammoth Undertaking of Global Vaccine Distribution Other resources Criteria for COVID-19 vaccine prioritization The proposed attributes and criteria provide considerations for the evaluation and prioritization of COVID-19 candidate vaccines to be considered for further development by WHO.',\n",
              " 'The target audience includes vaccine scientists, product developers, manufacturers, regulators and funding agencies.',\n",
              " 'Vaccine target product profile WHO has published the target product profiles for COVID-19 vaccines, which describes the preferred and minimally acceptable profiles for human vaccines for long term protection of persons at high ongoing risk of COVID-19, and for reactive use in outbreak settings with rapid onset of immunity.',\n",
              " 'We have also published the criteria for prioritization of vaccines for clinical trials.',\n",
              " 'Coronavirus disease (COVID-19) Vaccines and immunization']"
            ]
          },
          "metadata": {},
          "execution_count": 21
        }
      ],
      "source": [
        "from nltk import sent_tokenize\n",
        "\n",
        "\n",
        "sent_tokenize(text1)"
      ]
    },
    {
      "cell_type": "markdown",
      "metadata": {
        "id": "H0k6OrzkywFP"
      },
      "source": [
        "# 5.Stemming vs Lemmatization"
      ]
    },
    {
      "cell_type": "markdown",
      "metadata": {
        "id": "thw5WD5CzInh"
      },
      "source": [
        "## 5.1 Stemming"
      ]
    },
    {
      "cell_type": "code",
      "execution_count": 22,
      "metadata": {
        "colab": {
          "base_uri": "https://localhost:8080/"
        },
        "id": "LJtHfttZUpYE",
        "outputId": "f29ef45b-9847-4e1c-c5ef-26804cf5cd14"
      },
      "outputs": [
        {
          "output_type": "stream",
          "name": "stdout",
          "text": [
            "jump jump jump\n",
            "lie lie\n",
            "strang\n"
          ]
        }
      ],
      "source": [
        "#The Porter stemming algorithm\n",
        "from nltk import PorterStemmer\n",
        "ps = PorterStemmer()\n",
        "print (ps.stem('jumping'), ps.stem('jumps'), ps.stem('jumped'))\n",
        "print (ps.stem('lying'), ps.stem('lies'))\n",
        "print(ps.stem('strange'))"
      ]
    },
    {
      "cell_type": "code",
      "execution_count": 23,
      "metadata": {
        "colab": {
          "base_uri": "https://localhost:8080/"
        },
        "id": "_87hJjaeVhRL",
        "outputId": "2016fe0f-2ab1-4913-efa8-980e31aca263"
      },
      "outputs": [
        {
          "output_type": "stream",
          "name": "stdout",
          "text": [
            "jump jump jump\n",
            "lying lie\n",
            "strange\n"
          ]
        }
      ],
      "source": [
        "#The Lancaster stemming algorithm\n",
        "from nltk import LancasterStemmer\n",
        "ls = LancasterStemmer()\n",
        "print (ls.stem('jumping'), ls.stem('jumps'), ls.stem('jumped'))\n",
        "print (ls.stem('lying'),ls.stem('lies'))\n",
        "print(ls.stem('strange'))"
      ]
    },
    {
      "cell_type": "code",
      "execution_count": 27,
      "metadata": {
        "colab": {
          "base_uri": "https://localhost:8080/"
        },
        "id": "qppglj_1rcjV",
        "outputId": "ed4fa65d-b39d-4e66-c989-fb8514ede03e"
      },
      "outputs": [
        {
          "output_type": "stream",
          "name": "stdout",
          "text": [
            "['scienc', 'in', '5', 'get', 'vaccin', 'covax', 'covax', 'aim', 'to', 'acceler', 'the', 'develop', 'and', 'manufactur', 'of', 'covid-19', 'vaccin', ',', 'and', 'guarante', 'fair', 'and', 'equit', 'access', 'for', 'everi', 'countri', '.', 'covax', 'is', 'co-l', 'by', 'the', 'coalit', 'for', 'epidem', 'prepared', 'innov', '(', 'cepi', ')', ',', 'gavi', 'and', 'who', ',', 'with', 'unicef', 'as', 'a', 'key', 'deliveri', 'partner', 'and', 'paho', 'as', 'the', 'procur', 'agent', 'in', 'the', 'america', '.', 'countri', 'readi', 'and', 'deliveri', 'who', 'ha', 'work', 'with', 'unicef', ',', 'gavi', 'and', 'partner', 'to', 'develop', 'resourc', ',', 'such', 'as', 'guidanc', ',', 'train', ',', 'tool', 'and', 'advocaci', 'materi', 'to', 'help', 'govern', ',', 'health', 'worker', 'and', 'partner', 'to', 'launch', ',', 'refin', ',', 'and', 'optimis', 'uptak', 'of', 'their', 'covid-19', 'vaccin', 'programm', '.', 'covax', 'No', 'fault', 'compens', 'program', 'the', 'covax', 'no-fault', 'compens', 'program', 'for', 'advanc', 'market', 'commit', '(', 'amc', ')', 'elig', 'economi', 'is', 'the', 'world', '’', 's', 'first', 'and', 'onli', 'intern', 'vaccin', 'injuri', 'compens', 'mechan', '.', 'the', 'program', 'help', 'covax', 'deliv', 'safe', 'and', 'effect', 'covid-19', 'vaccin', 'to', 'the', 'high-risk', 'and', 'vulner', 'popul', 'in', '92', 'low-', 'and', 'middle-incom', 'countri', 'and', 'economi', '.', 'emerg', 'use', 'list', '(', 'eul', ')', 'who', \"'s\", 'eul', 'procedur', 'is', 'a', 'risk-bas', 'procedur', 'for', 'assess', 'and', 'list', 'unlicens', 'vaccin', ',', 'therapeut', 'and', 'in', 'vitro', 'diagnost', 'with', 'the', 'ultim', 'aim', 'of', 'expedit', 'the', 'avail', 'of', 'these', 'product', 'to', 'peopl', 'affect', 'by', 'a', 'public', 'health', 'emerg', '.', 'strateg', 'advisori', 'group', 'of', 'expert', '(', 'sage', ')', 'on', 'immun', 'sage', 'advis', 'who', 'on', 'overal', 'global', 'polici', 'and', 'strategi', ',', 'rang', 'from', 'vaccin', 'and', 'technolog', ',', 'research', 'and', 'develop', ',', 'to', 'deliveri', 'of', 'immun', 'and', 'it', 'linkag', 'with', 'other', 'health', 'intervent', '.', 'draft', 'landscap', 'of', 'covid-19', 'vaccin', 'candid', 'the', 'draft', 'landscap', 'of', 'covid-19', 'vaccin', 'candid', 'contain', 'inform', 'on', 'vaccin', 'candid', 'collect', 'through', 'public', 'inform', '(', 'e.g', '.', 'clinic', 'trial', 'registri', ')', 'and', 'inform', 'that', 'were', 'directli', 'provid', 'by', 'vaccin', 'develop', 'to', 'who', '.', 'the', 'landscap', 'is', 'gener', 'updat', 'twice', 'a', 'week', ',', 'base', 'on', 'the', 'latest', 'inform', ',', 'includ', 'those', 'we', 'receiv', 'from', 'scientist', 'and', 'research', 'the', 'pfizer', 'biontech', '(', 'bnt162b2', ')', 'covid-19', 'vaccin', ':', 'what', 'you', 'need', 'to', 'know', 'the', 'bharat', 'biotech', 'bbv152', 'covaxin', 'vaccin', 'against', 'covid-19', ':', 'what', 'you', 'need', 'to', 'know', 'the', 'sinovac-coronavac', 'covid-19', 'vaccin', ':', 'what', 'you', 'need', 'to', 'know', 'the', 'sinopharm', 'covid-19', 'vaccin', ':', 'what', 'you', 'need', 'to', 'know', 'the', 'moderna', 'covid-19', '(', 'mrna-1273', ')', 'vaccin', ':', 'what', 'you', 'need', 'to', 'know', 'the', 'oxford/astrazeneca', '(', 'chadox1-', '[', 'recombin', ']', 'vaccin', ')', 'covid-19', 'vaccin', ':', 'what', 'you', 'need', 'to', 'know', 'the', 'janssen', 'ad26.cov2.', 'covid-19', 'vaccin', ':', 'what', 'you', 'need', 'to', 'know', 'the', 'novavax', 'vaccin', 'against', 'covid-19', ':', 'what', 'you', 'need', 'to', 'know', 'move', 'forward', 'on', 'goal', 'to', 'boost', 'local', 'pharmaceut', 'product', ',', 'who', 'establish', 'global', 'biomanufactur', 'train', 'hub', 'in', 'republ', 'of', 'korea', 'act-acceler', 'call', 'for', 'fair', 'share-bas', 'financ', 'of', 'US', '$', '23', 'billion', 'to', 'end', 'pandem', 'as', 'global', 'emerg', 'in', '2022', 'ioc', 'and', 'who', 'reaffirm', 'collabor', 'to', 'promot', 'vaccin', 'equiti', 'and', 'healthi', 'lifestyl', 'updat', 'who', 'sage', 'roadmap', 'for', 'priorit', 'use', 'of', 'covid-19', 'vaccin', '11', 'august', '2021', 'pasig', 'citi', ':', 'A', 'covid-19', 'vaccin', 'success', 'stori', 'paho', 'pave', 'the', 'way', 'for', 'covid-19', 'vaccin', 'in', 'the', 'america', 'the', 'effect', 'of', 'viru', 'variant', 'on', 'covid-19', 'vaccin', 'insid', 'the', 'mammoth', 'undertak', 'of', 'global', 'vaccin', 'distribut', 'other', 'resourc', 'criteria', 'for', 'covid-19', 'vaccin', 'priorit', 'the', 'propos', 'attribut', 'and', 'criteria', 'provid', 'consider', 'for', 'the', 'evalu', 'and', 'priorit', 'of', 'covid-19', 'candid', 'vaccin', 'to', 'be', 'consid', 'for', 'further', 'develop', 'by', 'who', '.', 'the', 'target', 'audienc', 'includ', 'vaccin', 'scientist', ',', 'product', 'develop', ',', 'manufactur', ',', 'regul', 'and', 'fund', 'agenc', '.', 'vaccin', 'target', 'product', 'profil', 'who', 'ha', 'publish', 'the', 'target', 'product', 'profil', 'for', 'covid-19', 'vaccin', ',', 'which', 'describ', 'the', 'prefer', 'and', 'minim', 'accept', 'profil', 'for', 'human', 'vaccin', 'for', 'long', 'term', 'protect', 'of', 'person', 'at', 'high', 'ongo', 'risk', 'of', 'covid-19', ',', 'and', 'for', 'reactiv', 'use', 'in', 'outbreak', 'set', 'with', 'rapid', 'onset', 'of', 'immun', '.', 'We', 'have', 'also', 'publish', 'the', 'criteria', 'for', 'priorit', 'of', 'vaccin', 'for', 'clinic', 'trial', '.', 'coronaviru', 'diseas', '(', 'covid-19', ')', 'vaccin', 'and', 'immun']\n"
          ]
        }
      ],
      "source": [
        "#stemming an tokenize word list\n",
        "\n",
        "token_psstem = [ps.stem(word) for word in text1_tokens]\n",
        "\n",
        "print(token_psstem)"
      ]
    },
    {
      "cell_type": "code",
      "execution_count": 26,
      "metadata": {
        "colab": {
          "base_uri": "https://localhost:8080/"
        },
        "id": "clwVV48klfa5",
        "outputId": "28f6edfe-7642-4510-ad8d-c29adb573ac6"
      },
      "outputs": [
        {
          "output_type": "stream",
          "name": "stdout",
          "text": [
            "['sci', 'in', '5', 'get', 'vaccin', 'covax', 'covax', 'aim', 'to', 'accel', 'the', 'develop', 'and', 'manufact', 'of', 'covid-19', 'vaccin', ',', 'and', 'guar', 'fair', 'and', 'equit', 'access', 'for', 'every', 'country', '.', 'covax', 'is', 'co-led', 'by', 'the', 'coalit', 'for', 'epidem', 'prep', 'innov', '(', 'cep', ')', ',', 'gav', 'and', 'who', ',', 'with', 'unicef', 'as', 'a', 'key', 'delivery', 'partn', 'and', 'paho', 'as', 'the', 'proc', 'ag', 'in', 'the', 'america', '.', 'country', 'ready', 'and', 'delivery', 'who', 'has', 'work', 'with', 'unicef', ',', 'gav', 'and', 'partn', 'to', 'develop', 'resourc', ',', 'such', 'as', 'guid', ',', 'train', ',', 'tool', 'and', 'advoc', 'mat', 'to', 'help', 'govern', ',', 'heal', 'work', 'and', 'partn', 'to', 'launch', ',', 'refin', ',', 'and', 'optim', 'uptak', 'of', 'their', 'covid-19', 'vaccin', 'program', '.', 'covax', 'no', 'fault', 'compens', 'program', 'the', 'covax', 'no-fault', 'compens', 'program', 'for', 'adv', 'market', 'commit', '(', 'amc', ')', 'elig', 'econom', 'is', 'the', 'world', '’', 's', 'first', 'and', 'on', 'intern', 'vaccin', 'injury', 'compens', 'mech', '.', 'the', 'program', 'help', 'covax', 'del', 'saf', 'and', 'effect', 'covid-19', 'vaccin', 'to', 'the', 'high-risk', 'and', 'vuln', 'pop', 'in', '92', 'low-', 'and', 'middle-incom', 'country', 'and', 'econom', '.', 'emerg', 'us', 'list', '(', 'eul', ')', 'who', \"'s\", 'eul', 'proc', 'is', 'a', 'risk-based', 'proc', 'for', 'assess', 'and', 'list', 'unlicens', 'vaccin', ',', 'therapeut', 'and', 'in', 'vitro', 'diagnost', 'with', 'the', 'ultim', 'aim', 'of', 'expedit', 'the', 'avail', 'of', 'thes', 'produc', 'to', 'peopl', 'affect', 'by', 'a', 'publ', 'heal', 'emerg', '.', 'strategic', 'adv', 'group', 'of', 'expert', '(', 'sag', ')', 'on', 'immun', 'sag', 'adv', 'who', 'on', 'overal', 'glob', 'policy', 'and', 'strategies', ',', 'rang', 'from', 'vaccin', 'and', 'technolog', ',', 'research', 'and', 'develop', ',', 'to', 'delivery', 'of', 'immun', 'and', 'it', 'link', 'with', 'oth', 'heal', 'interv', '.', 'draft', 'landscap', 'of', 'covid-19', 'vaccin', 'candid', 'the', 'draft', 'landscap', 'of', 'covid-19', 'vaccin', 'candid', 'contain', 'inform', 'on', 'vaccin', 'candid', 'collect', 'through', 'publ', 'inform', '(', 'e.g', '.', 'clin', 'tri', 'reg', ')', 'and', 'inform', 'that', 'wer', 'direct', 'provid', 'by', 'vaccin', 'develop', 'to', 'who', '.', 'the', 'landscap', 'is', 'gen', 'upd', 'twic', 'a', 'week', ',', 'bas', 'on', 'the', 'latest', 'inform', ',', 'includ', 'thos', 'we', 'receiv', 'from', 'sci', 'and', 'research', 'the', 'pfiz', 'biontech', '(', 'bnt162b2', ')', 'covid-19', 'vaccin', ':', 'what', 'you', 'nee', 'to', 'know', 'the', 'bhar', 'biotech', 'bbv152', 'covaxin', 'vaccin', 'against', 'covid-19', ':', 'what', 'you', 'nee', 'to', 'know', 'the', 'sinovac-coronavac', 'covid-19', 'vaccin', ':', 'what', 'you', 'nee', 'to', 'know', 'the', 'sinopharm', 'covid-19', 'vaccin', ':', 'what', 'you', 'nee', 'to', 'know', 'the', 'modern', 'covid-19', '(', 'mrna-1273', ')', 'vaccin', ':', 'what', 'you', 'nee', 'to', 'know', 'the', 'oxford/astrazeneca', '(', 'chadox1-s', '[', 'recombin', ']', 'vaccin', ')', 'covid-19', 'vaccin', ':', 'what', 'you', 'nee', 'to', 'know', 'the', 'janss', 'ad26.cov2.s', 'covid-19', 'vaccin', ':', 'what', 'you', 'nee', 'to', 'know', 'the', 'novavax', 'vaccin', 'against', 'covid-19', ':', 'what', 'you', 'nee', 'to', 'know', 'mov', 'forward', 'on', 'goal', 'to', 'boost', 'loc', 'pharmaceut', 'produc', ',', 'who', 'est', 'glob', 'biomanufact', 'train', 'hub', 'in', 'republ', 'of', 'kore', 'act-accelerator', 'cal', 'for', 'fair', 'share-based', 'fin', 'of', 'us', '$', '23', 'bil', 'to', 'end', 'pandem', 'as', 'glob', 'emerg', 'in', '2022', 'ioc', 'and', 'who', 'reaffirm', 'collab', 'to', 'promot', 'vaccin', 'equ', 'and', 'healthy', 'lifestyl', 'upd', 'who', 'sag', 'roadmap', 'for', 'priorit', 'us', 'of', 'covid-19', 'vaccin', '11', 'august', '2021', 'pasig', 'city', ':', 'a', 'covid-19', 'vaccin', 'success', 'story', 'paho', 'pav', 'the', 'way', 'for', 'covid-19', 'vaccin', 'in', 'the', 'america', 'the', 'effect', 'of', 'vir', 'vary', 'on', 'covid-19', 'vaccin', 'insid', 'the', 'mammo', 'undertak', 'of', 'glob', 'vaccin', 'distribut', 'oth', 'resourc', 'criter', 'for', 'covid-19', 'vaccin', 'priorit', 'the', 'propos', 'attribut', 'and', 'criter', 'provid', 'consid', 'for', 'the', 'evalu', 'and', 'priorit', 'of', 'covid-19', 'candid', 'vaccin', 'to', 'be', 'consid', 'for', 'furth', 'develop', 'by', 'who', '.', 'the', 'target', 'audy', 'includ', 'vaccin', 'sci', ',', 'produc', 'develop', ',', 'manufact', ',', 'reg', 'and', 'fund', 'ag', '.', 'vaccin', 'target', 'produc', 'profil', 'who', 'has', 'publ', 'the', 'target', 'produc', 'profil', 'for', 'covid-19', 'vaccin', ',', 'which', 'describ', 'the', 'prefer', 'and', 'minim', 'acceiv', 'profil', 'for', 'hum', 'vaccin', 'for', 'long', 'term', 'protect', 'of', 'person', 'at', 'high', 'ongo', 'risk', 'of', 'covid-19', ',', 'and', 'for', 'react', 'us', 'in', 'outbreak', 'set', 'with', 'rapid', 'onset', 'of', 'immun', '.', 'we', 'hav', 'also', 'publ', 'the', 'criter', 'for', 'priorit', 'of', 'vaccin', 'for', 'clin', 'tri', '.', 'coronavir', 'diseas', '(', 'covid-19', ')', 'vaccin', 'and', 'immun']\n"
          ]
        }
      ],
      "source": [
        "#stemming an tokenize word list\n",
        "\n",
        "token_lsstem = [ls.stem(word) for word in text1_tokens]\n",
        "\n",
        "print(token_lsstem)"
      ]
    },
    {
      "cell_type": "markdown",
      "metadata": {
        "id": "h9vu2fVYm9xo"
      },
      "source": [
        "## 5.2.Lemmatization"
      ]
    },
    {
      "cell_type": "code",
      "execution_count": 28,
      "metadata": {
        "colab": {
          "base_uri": "https://localhost:8080/"
        },
        "id": "iVcw5b5Sm7Lr",
        "outputId": "5d4da4c8-08ef-43a3-8149-347cf7eeacdb"
      },
      "outputs": [
        {
          "output_type": "stream",
          "name": "stdout",
          "text": [
            "[nltk_data] Downloading package wordnet to /root/nltk_data...\n",
            "[nltk_data]   Unzipping corpora/wordnet.zip.\n",
            "lie\n",
            "lying\n",
            "lying\n",
            "sad\n",
            "wa\n",
            "be\n"
          ]
        }
      ],
      "source": [
        "nltk.download('wordnet')\n",
        "from nltk.stem import WordNetLemmatizer\n",
        "wnl = WordNetLemmatizer()\n",
        "# lemmatize verb/nouns\n",
        "print (wnl.lemmatize('lying', \"v\"))\n",
        "print (wnl.lemmatize('lying', \"n\"))\n",
        "print (wnl.lemmatize('lying')) # with out Part of Speed (POS), noun is default\n",
        "print (wnl.lemmatize('saddest', 'a'))\n",
        "print (wnl.lemmatize('was'))\n",
        "print (wnl.lemmatize('was', 'v'))"
      ]
    },
    {
      "cell_type": "code",
      "execution_count": 29,
      "metadata": {
        "colab": {
          "base_uri": "https://localhost:8080/"
        },
        "id": "bQzqR3j4msEh",
        "outputId": "c142cf09-f453-4116-fa99-8bc531e83c2b"
      },
      "outputs": [
        {
          "output_type": "stream",
          "name": "stdout",
          "text": [
            "['Science', 'in', '5', 'Getting', 'vaccinated', 'COVAX', 'COVAX', 'aim', 'to', 'accelerate', 'the', 'development', 'and', 'manufacturing', 'of', 'COVID-19', 'vaccine', ',', 'and', 'guarantee', 'fair', 'and', 'equitable', 'access', 'for', 'every', 'country', '.', 'COVAX', 'is', 'co-led', 'by', 'the', 'Coalition', 'for', 'Epidemic', 'Preparedness', 'Innovations', '(', 'CEPI', ')', ',', 'Gavi', 'and', 'WHO', ',', 'with', 'UNICEF', 'a', 'a', 'key', 'delivery', 'partner', 'and', 'PAHO', 'a', 'the', 'procurement', 'agent', 'in', 'the', 'Americas', '.', 'Country', 'readiness', 'and', 'delivery', 'WHO', 'ha', 'worked', 'with', 'UNICEF', ',', 'Gavi', 'and', 'partner', 'to', 'develop', 'resource', ',', 'such', 'a', 'guidance', ',', 'training', ',', 'tool', 'and', 'advocacy', 'material', 'to', 'help', 'government', ',', 'health', 'worker', 'and', 'partner', 'to', 'launch', ',', 'refine', ',', 'and', 'optimise', 'uptake', 'of', 'their', 'COVID-19', 'vaccination', 'programme', '.', 'COVAX', 'No', 'fault', 'compensation', 'program', 'The', 'COVAX', 'No-Fault', 'Compensation', 'Program', 'for', 'Advance', 'Market', 'Commitment', '(', 'AMC', ')', 'Eligible', 'Economies', 'is', 'the', 'world', '’', 's', 'first', 'and', 'only', 'international', 'vaccine', 'injury', 'compensation', 'mechanism', '.', 'The', 'Program', 'help', 'COVAX', 'deliver', 'safe', 'and', 'effective', 'COVID-19', 'vaccine', 'to', 'the', 'high-risk', 'and', 'vulnerable', 'population', 'in', '92', 'low-', 'and', 'middle-income', 'country', 'and', 'economy', '.', 'Emergency', 'Use', 'Listing', '(', 'EUL', ')', 'WHO', \"'s\", 'EUL', 'procedure', 'is', 'a', 'risk-based', 'procedure', 'for', 'assessing', 'and', 'listing', 'unlicensed', 'vaccine', ',', 'therapeutic', 'and', 'in', 'vitro', 'diagnostics', 'with', 'the', 'ultimate', 'aim', 'of', 'expediting', 'the', 'availability', 'of', 'these', 'product', 'to', 'people', 'affected', 'by', 'a', 'public', 'health', 'emergency', '.', 'Strategic', 'Advisory', 'Group', 'of', 'Experts', '(', 'SAGE', ')', 'on', 'Immunization', 'SAGE', 'advises', 'WHO', 'on', 'overall', 'global', 'policy', 'and', 'strategy', ',', 'ranging', 'from', 'vaccine', 'and', 'technology', ',', 'research', 'and', 'development', ',', 'to', 'delivery', 'of', 'immunization', 'and', 'it', 'linkage', 'with', 'other', 'health', 'intervention', '.', 'Draft', 'landscape', 'of', 'COVID-19', 'vaccine', 'candidate', 'The', 'draft', 'landscape', 'of', 'COVID-19', 'vaccine', 'candidate', 'contains', 'information', 'on', 'vaccine', 'candidate', 'collected', 'through', 'public', 'information', '(', 'e.g', '.', 'clinical', 'trial', 'registry', ')', 'and', 'information', 'that', 'were', 'directly', 'provided', 'by', 'vaccine', 'developer', 'to', 'WHO', '.', 'The', 'landscape', 'is', 'generally', 'updated', 'twice', 'a', 'week', ',', 'based', 'on', 'the', 'latest', 'information', ',', 'including', 'those', 'we', 'receive', 'from', 'scientist', 'and', 'research', 'The', 'Pfizer', 'BioNTech', '(', 'BNT162b2', ')', 'COVID-19', 'vaccine', ':', 'What', 'you', 'need', 'to', 'know', 'The', 'Bharat', 'Biotech', 'BBV152', 'COVAXIN', 'vaccine', 'against', 'COVID-19', ':', 'What', 'you', 'need', 'to', 'know', 'The', 'Sinovac-CoronaVac', 'COVID-19', 'vaccine', ':', 'What', 'you', 'need', 'to', 'know', 'The', 'Sinopharm', 'COVID-19', 'vaccine', ':', 'What', 'you', 'need', 'to', 'know', 'The', 'Moderna', 'COVID-19', '(', 'mRNA-1273', ')', 'vaccine', ':', 'what', 'you', 'need', 'to', 'know', 'The', 'Oxford/AstraZeneca', '(', 'ChAdOx1-S', '[', 'recombinant', ']', 'vaccine', ')', 'COVID-19', 'vaccine', ':', 'what', 'you', 'need', 'to', 'know', 'The', 'Janssen', 'Ad26.COV2.S', 'COVID-19', 'vaccine', ':', 'What', 'you', 'need', 'to', 'know', 'The', 'Novavax', 'vaccine', 'against', 'COVID-19', ':', 'What', 'you', 'need', 'to', 'know', 'Moving', 'forward', 'on', 'goal', 'to', 'boost', 'local', 'pharmaceutical', 'production', ',', 'WHO', 'establishes', 'global', 'biomanufacturing', 'training', 'hub', 'in', 'Republic', 'of', 'Korea', 'ACT-Accelerator', 'call', 'for', 'fair', 'share-based', 'financing', 'of', 'US', '$', '23', 'billion', 'to', 'end', 'pandemic', 'a', 'global', 'emergency', 'in', '2022', 'IOC', 'and', 'WHO', 'reaffirm', 'collaboration', 'to', 'promote', 'vaccine', 'equity', 'and', 'healthy', 'lifestyle', 'Updated', 'WHO', 'SAGE', 'Roadmap', 'for', 'prioritizing', 'us', 'of', 'COVID-19', 'vaccine', '11', 'August', '2021', 'Pasig', 'City', ':', 'A', 'COVID-19', 'Vaccination', 'Success', 'Story', 'PAHO', 'paving', 'the', 'way', 'for', 'COVID-19', 'vaccination', 'in', 'the', 'Americas', 'The', 'effect', 'of', 'virus', 'variant', 'on', 'COVID-19', 'vaccine', 'Inside', 'the', 'Mammoth', 'Undertaking', 'of', 'Global', 'Vaccine', 'Distribution', 'Other', 'resource', 'Criteria', 'for', 'COVID-19', 'vaccine', 'prioritization', 'The', 'proposed', 'attribute', 'and', 'criterion', 'provide', 'consideration', 'for', 'the', 'evaluation', 'and', 'prioritization', 'of', 'COVID-19', 'candidate', 'vaccine', 'to', 'be', 'considered', 'for', 'further', 'development', 'by', 'WHO', '.', 'The', 'target', 'audience', 'includes', 'vaccine', 'scientist', ',', 'product', 'developer', ',', 'manufacturer', ',', 'regulator', 'and', 'funding', 'agency', '.', 'Vaccine', 'target', 'product', 'profile', 'WHO', 'ha', 'published', 'the', 'target', 'product', 'profile', 'for', 'COVID-19', 'vaccine', ',', 'which', 'describes', 'the', 'preferred', 'and', 'minimally', 'acceptable', 'profile', 'for', 'human', 'vaccine', 'for', 'long', 'term', 'protection', 'of', 'person', 'at', 'high', 'ongoing', 'risk', 'of', 'COVID-19', ',', 'and', 'for', 'reactive', 'use', 'in', 'outbreak', 'setting', 'with', 'rapid', 'onset', 'of', 'immunity', '.', 'We', 'have', 'also', 'published', 'the', 'criterion', 'for', 'prioritization', 'of', 'vaccine', 'for', 'clinical', 'trial', '.', 'Coronavirus', 'disease', '(', 'COVID-19', ')', 'Vaccines', 'and', 'immunization']\n"
          ]
        }
      ],
      "source": [
        "#stemming an tokenize word list\n",
        "\n",
        "\n",
        "token_lem = [wnl.lemmatize(word) for word in text1_tokens]\n",
        "\n",
        "print(token_lem)"
      ]
    },
    {
      "cell_type": "code",
      "execution_count": 30,
      "metadata": {
        "colab": {
          "base_uri": "https://localhost:8080/"
        },
        "id": "e5JRz5SJnqeV",
        "outputId": "cd5585fe-a968-45a6-9214-4e0a33490d7a"
      },
      "outputs": [
        {
          "output_type": "stream",
          "name": "stdout",
          "text": [
            "['science', 'in', '5', 'get', 'vaccinate', 'COVAX', 'COVAX', 'aim', 'to', 'accelerate', 'the', 'development', 'and', 'manufacturing', 'of', 'covid-19', 'vaccine', ',', 'and', 'guarantee', 'fair', 'and', 'equitable', 'access', 'for', 'every', 'country', '.', 'COVAX', 'be', 'co', '-', 'lead', 'by', 'the', 'Coalition', 'for', 'Epidemic', 'Preparedness', 'innovation', '(', 'CEPI', ')', ',', 'Gavi', 'and', 'who', ',', 'with', 'UNICEF', 'as', 'a', 'key', 'delivery', 'partner', 'and', 'PAHO', 'as', 'the', 'procurement', 'agent', 'in', 'the', 'Americas', '.', 'country', 'readiness', 'and', 'delivery', 'who', 'have', 'work', 'with', 'UNICEF', ',', 'Gavi', 'and', 'partner', 'to', 'develop', 'resource', ',', 'such', 'as', 'guidance', ',', 'training', ',', 'tool', 'and', 'advocacy', 'material', 'to', 'help', 'government', ',', 'health', 'worker', 'and', 'partner', 'to', 'launch', ',', 'refine', ',', 'and', 'optimise', 'uptake', 'of', '-PRON-', 'covid-19', 'vaccination', 'programme', '.', 'COVAX', 'no', 'fault', 'compensation', 'program', 'the', 'COVAX', 'No', '-', 'Fault', 'Compensation', 'Program', 'for', 'Advance', 'Market', 'Commitment', '(', 'amc', ')', 'eligible', 'Economies', 'be', 'the', 'world', '’s', 'first', 'and', 'only', 'international', 'vaccine', 'injury', 'compensation', 'mechanism', '.', 'the', 'Program', 'help', 'COVAX', 'deliver', 'safe', 'and', 'effective', 'covid-19', 'vaccine', 'to', 'the', 'high', '-', 'risk', 'and', 'vulnerable', 'population', 'in', '92', 'low-', 'and', 'middle', '-', 'income', 'country', 'and', 'economy', '.', 'emergency', 'Use', 'Listing', '(', 'EUL', ')', 'who', 'be', 'EUL', 'procedure', 'be', 'a', 'risk', '-', 'base', 'procedure', 'for', 'assess', 'and', 'list', 'unlicensed', 'vaccine', ',', 'therapeutic', 'and', 'in', 'vitro', 'diagnostic', 'with', 'the', 'ultimate', 'aim', 'of', 'expedite', 'the', 'availability', 'of', 'these', 'product', 'to', 'people', 'affect', 'by', 'a', 'public', 'health', 'emergency', '.', 'Strategic', 'Advisory', 'Group', 'of', 'Experts', '(', 'SAGE', ')', 'on', 'Immunization', 'SAGE', 'advise', 'who', 'on', 'overall', 'global', 'policy', 'and', 'strategy', ',', 'range', 'from', 'vaccine', 'and', 'technology', ',', 'research', 'and', 'development', ',', 'to', 'delivery', 'of', 'immunization', 'and', '-PRON-', 'linkage', 'with', 'other', 'health', 'intervention', '.', 'draft', 'landscape', 'of', 'covid-19', 'vaccine', 'candidate', 'the', 'draft', 'landscape', 'of', 'covid-19', 'vaccine', 'candidate', 'contain', 'information', 'on', 'vaccine', 'candidate', 'collect', 'through', 'public', 'information', '(', 'e.g.', 'clinical', 'trial', 'registry', ')', 'and', 'information', 'that', 'be', 'directly', 'provide', 'by', 'vaccine', 'developer', 'to', 'who', '.', 'the', 'landscape', 'be', 'generally', 'update', 'twice', 'a', 'week', ',', 'base', 'on', 'the', 'late', 'information', ',', 'include', 'those', '-PRON-', 'receive', 'from', 'scientist', 'and', 'research', 'the', 'Pfizer', 'biontech', '(', 'BNT162b2', ')', 'covid-19', 'vaccine', ':', 'what', '-PRON-', 'need', 'to', 'know', 'the', 'Bharat', 'Biotech', 'bbv152', 'COVAXIN', 'vaccine', 'against', 'covid-19', ':', 'what', '-PRON-', 'need', 'to', 'know', 'the', 'Sinovac', '-', 'CoronaVac', 'covid-19', 'vaccine', ':', 'what', '-PRON-', 'need', 'to', 'know', 'the', 'Sinopharm', 'covid-19', 'vaccine', ':', 'what', '-PRON-', 'need', 'to', 'know', 'the', 'Moderna', 'covid-19', '(', 'mRNA-1273', ')', 'vaccine', ':', 'what', '-PRON-', 'need', 'to', 'know', 'the', 'Oxford', '/', 'AstraZeneca', '(', 'ChAdOx1-S', '[', 'recombinant', ']', 'vaccine', ')', 'covid-19', 'vaccine', ':', 'what', '-PRON-', 'need', 'to', 'know', 'the', 'Janssen', 'Ad26.COV2.S', 'covid-19', 'vaccine', ':', 'what', '-PRON-', 'need', 'to', 'know', 'the', 'Novavax', 'vaccine', 'against', 'covid-19', ':', 'what', '-PRON-', 'need', 'to', 'know', 'Moving', 'forward', 'on', 'goal', 'to', 'boost', 'local', 'pharmaceutical', 'production', ',', 'who', 'establish', 'global', 'biomanufacturing', 'training', 'hub', 'in', 'Republic', 'of', 'Korea', 'ACT', '-', 'Accelerator', 'call', 'for', 'fair', 'share', '-', 'base', 'financing', 'of', 'us$', '23', 'billion', 'to', 'end', 'pandemic', 'as', 'global', 'emergency', 'in', '2022', 'IOC', 'and', 'who', 'reaffirm', 'collaboration', 'to', 'promote', 'vaccine', 'equity', 'and', 'healthy', 'lifestyle', 'update', 'who', 'sage', 'Roadmap', 'for', 'prioritizing', 'use', 'of', 'covid-19', 'vaccine', '11', 'August', '2021', 'Pasig', 'City', ':', 'a', 'covid-19', 'Vaccination', 'Success', 'Story', 'PAHO', 'pave', 'the', 'way', 'for', 'covid-19', 'vaccination', 'in', 'the', 'Americas', 'the', 'effect', 'of', 'virus', 'variant', 'on', 'covid-19', 'vaccine', 'inside', 'the', 'Mammoth', 'Undertaking', 'of', 'Global', 'Vaccine', 'Distribution', 'other', 'resource', 'Criteria', 'for', 'covid-19', 'vaccine', 'prioritization', 'the', 'propose', 'attribute', 'and', 'criterion', 'provide', 'consideration', 'for', 'the', 'evaluation', 'and', 'prioritization', 'of', 'covid-19', 'candidate', 'vaccine', 'to', 'be', 'consider', 'for', 'further', 'development', 'by', 'who', '.', 'the', 'target', 'audience', 'include', 'vaccine', 'scientist', ',', 'product', 'developer', ',', 'manufacturer', ',', 'regulator', 'and', 'funding', 'agency', '.', 'vaccine', 'target', 'product', 'profile', 'who', 'have', 'publish', 'the', 'target', 'product', 'profile', 'for', 'covid-19', 'vaccine', ',', 'which', 'describe', 'the', 'preferred', 'and', 'minimally', 'acceptable', 'profile', 'for', 'human', 'vaccine', 'for', 'long', 'term', 'protection', 'of', 'person', 'at', 'high', 'ongoing', 'risk', 'of', 'covid-19', ',', 'and', 'for', 'reactive', 'use', 'in', 'outbreak', 'setting', 'with', 'rapid', 'onset', 'of', 'immunity', '.', '-PRON-', 'have', 'also', 'publish', 'the', 'criterion', 'for', 'prioritization', 'of', 'vaccine', 'for', 'clinical', 'trial', '.', 'Coronavirus', 'disease', '(', 'covid-19', ')', 'vaccine', 'and', 'immunization']\n"
          ]
        }
      ],
      "source": [
        "# spacy is another python package to for Lemmatization\n",
        "import spacy\n",
        "nlp = spacy.load('en')\n",
        "\n",
        "doc = nlp(text1)\n",
        "\n",
        "print([token.lemma_ for token in doc])"
      ]
    },
    {
      "cell_type": "markdown",
      "metadata": {
        "id": "rumDew-zLk-L"
      },
      "source": [
        "# 6.Text Normalization"
      ]
    },
    {
      "cell_type": "code",
      "execution_count": 31,
      "metadata": {
        "colab": {
          "base_uri": "https://localhost:8080/"
        },
        "id": "ZS9af_J4z9r4",
        "outputId": "b357b713-02ef-44a0-8f1d-e9c946eed248"
      },
      "outputs": [
        {
          "output_type": "stream",
          "name": "stdout",
          "text": [
            "COVAX is co-led by the Coalition for Epidemic Preparedness Innovations (CEPI), Gavi and WHO, with UNICEF as a key delivery associate and PAHO as the procurement agent in the Americas.\n"
          ]
        }
      ],
      "source": [
        "import re\n",
        "sentence=\"COVAX is co-led by the Coalition for Epidemic Preparedness Innovations (CEPI), Gavi and WHO, with UNICEF as a key delivery partner and PAHO as the procurement agent in the Americas.\"\n",
        "text_replace= re.sub(r'partner','associate',sentence)\n",
        "print(text_replace)"
      ]
    },
    {
      "cell_type": "code",
      "execution_count": 32,
      "metadata": {
        "colab": {
          "base_uri": "https://localhost:8080/"
        },
        "id": "dSDBrY89Vjh7",
        "outputId": "e9ad95fe-ee3c-4d09-d4ef-a3b8c7e253e2"
      },
      "outputs": [
        {
          "output_type": "stream",
          "name": "stdout",
          "text": [
            "COVAX is co led by the Coalition for Epidemic Preparedness Innovations  CEPI   Gavi and WHO  with UNICEF as a key delivery partner and PAHO as the procurement agent in the Americas \n"
          ]
        }
      ],
      "source": [
        "import re\n",
        "sentence=\"COVAX is co-led by the Coalition for Epidemic Preparedness Innovations (CEPI), Gavi and WHO, with UNICEF as a key delivery partner and PAHO as the procurement agent in the Americas.\"\n",
        "text_removed_pun=re.sub(r'[^\\w]',' ',sentence) \n",
        "print(text_removed_pun)"
      ]
    },
    {
      "cell_type": "code",
      "execution_count": 33,
      "metadata": {
        "id": "RwPoadlxLgn6"
      },
      "outputs": [],
      "source": [
        "sentence=\"COVAX is co-led by the Coalition for Epidemic Preparedness Innovations (CEPI), Gavi and WHO, with UNICEF as a key delivery partner and PAHO as the procurement agent in the Americas.\""
      ]
    },
    {
      "cell_type": "code",
      "execution_count": 34,
      "metadata": {
        "colab": {
          "base_uri": "https://localhost:8080/",
          "height": 35
        },
        "id": "vTnJ7BeGQbMe",
        "outputId": "63a4a371-fb40-44f3-a167-73adf9eb6ffd"
      },
      "outputs": [
        {
          "output_type": "execute_result",
          "data": {
            "application/vnd.google.colaboratory.intrinsic+json": {
              "type": "string"
            },
            "text/plain": [
              "'covax is co-led by the coalition for epidemic preparedness innovations (cepi), gavi and who, with unicef as a key delivery partner and paho as the procurement agent in the americas.'"
            ]
          },
          "metadata": {},
          "execution_count": 34
        }
      ],
      "source": [
        "sentence.lower()"
      ]
    },
    {
      "cell_type": "code",
      "execution_count": 35,
      "metadata": {
        "colab": {
          "base_uri": "https://localhost:8080/",
          "height": 35
        },
        "id": "dw9ihPfIQ-xB",
        "outputId": "2a4ea0b2-aaad-42b4-afe0-1f72805a7d21"
      },
      "outputs": [
        {
          "output_type": "execute_result",
          "data": {
            "application/vnd.google.colaboratory.intrinsic+json": {
              "type": "string"
            },
            "text/plain": [
              "'COVAX IS CO-LED BY THE COALITION FOR EPIDEMIC PREPAREDNESS INNOVATIONS (CEPI), GAVI AND WHO, WITH UNICEF AS A KEY DELIVERY PARTNER AND PAHO AS THE PROCUREMENT AGENT IN THE AMERICAS.'"
            ]
          },
          "metadata": {},
          "execution_count": 35
        }
      ],
      "source": [
        "sentence.upper()"
      ]
    },
    {
      "cell_type": "code",
      "execution_count": 36,
      "metadata": {
        "colab": {
          "base_uri": "https://localhost:8080/",
          "height": 35
        },
        "id": "kHUHymO_RAGx",
        "outputId": "b3179de3-9fe1-426e-e25e-2c3e54ea734d"
      },
      "outputs": [
        {
          "output_type": "execute_result",
          "data": {
            "application/vnd.google.colaboratory.intrinsic+json": {
              "type": "string"
            },
            "text/plain": [
              "'Covax is co-led by the coalition for epidemic preparedness innovations (cepi), gavi and who, with unicef as a key delivery partner and paho as the procurement agent in the americas.'"
            ]
          },
          "metadata": {},
          "execution_count": 36
        }
      ],
      "source": [
        "sentence.capitalize()"
      ]
    },
    {
      "cell_type": "code",
      "execution_count": 37,
      "metadata": {
        "colab": {
          "base_uri": "https://localhost:8080/",
          "height": 35
        },
        "id": "hLgK1klHQtTs",
        "outputId": "cdf561f0-3cd7-409d-b8a9-e84c13c30acf"
      },
      "outputs": [
        {
          "output_type": "execute_result",
          "data": {
            "application/vnd.google.colaboratory.intrinsic+json": {
              "type": "string"
            },
            "text/plain": [
              "'C'"
            ]
          },
          "metadata": {},
          "execution_count": 37
        }
      ],
      "source": [
        "sentence[0]"
      ]
    },
    {
      "cell_type": "code",
      "execution_count": 38,
      "metadata": {
        "colab": {
          "base_uri": "https://localhost:8080/",
          "height": 35
        },
        "id": "TEFmsFYtRVh_",
        "outputId": "57950ad6-bcb3-4470-ceb8-17f9da590632"
      },
      "outputs": [
        {
          "output_type": "execute_result",
          "data": {
            "application/vnd.google.colaboratory.intrinsic+json": {
              "type": "string"
            },
            "text/plain": [
              "'.'"
            ]
          },
          "metadata": {},
          "execution_count": 38
        }
      ],
      "source": [
        "sentence[-1]"
      ]
    },
    {
      "cell_type": "code",
      "execution_count": 41,
      "metadata": {
        "colab": {
          "base_uri": "https://localhost:8080/",
          "height": 35
        },
        "id": "mLacA_jIRbeL",
        "outputId": "c3a11ccd-398f-441f-ea08-5988b587feb5"
      },
      "outputs": [
        {
          "output_type": "execute_result",
          "data": {
            "application/vnd.google.colaboratory.intrinsic+json": {
              "type": "string"
            },
            "text/plain": [
              "'COVAX is co-led'"
            ]
          },
          "metadata": {},
          "execution_count": 41
        }
      ],
      "source": [
        "sentence[0:15]"
      ]
    },
    {
      "cell_type": "code",
      "execution_count": 42,
      "metadata": {
        "colab": {
          "base_uri": "https://localhost:8080/"
        },
        "id": "AmJOSLOGQW2q",
        "outputId": "d6724212-cf9e-4118-fa5f-1dcdcfd471c0"
      },
      "outputs": [
        {
          "output_type": "execute_result",
          "data": {
            "text/plain": [
              "True"
            ]
          },
          "metadata": {},
          "execution_count": 42
        }
      ],
      "source": [
        "\"A\".isupper()"
      ]
    },
    {
      "cell_type": "code",
      "execution_count": 43,
      "metadata": {
        "colab": {
          "base_uri": "https://localhost:8080/"
        },
        "id": "iQBozm3oQbM7",
        "outputId": "d8ada6d1-d71c-47ed-fd7e-a91703be40a1"
      },
      "outputs": [
        {
          "output_type": "execute_result",
          "data": {
            "text/plain": [
              "True"
            ]
          },
          "metadata": {},
          "execution_count": 43
        }
      ],
      "source": [
        "'woods'.isalpha()"
      ]
    },
    {
      "cell_type": "code",
      "execution_count": 44,
      "metadata": {
        "colab": {
          "base_uri": "https://localhost:8080/"
        },
        "id": "Lt-uH9kWQbM_",
        "outputId": "d8a8f6bd-e51e-4d5f-dd8c-b381ae8c9706"
      },
      "outputs": [
        {
          "output_type": "execute_result",
          "data": {
            "text/plain": [
              "True"
            ]
          },
          "metadata": {},
          "execution_count": 44
        }
      ],
      "source": [
        "'20'.isdigit()"
      ]
    },
    {
      "cell_type": "code",
      "execution_count": 45,
      "metadata": {
        "colab": {
          "base_uri": "https://localhost:8080/"
        },
        "id": "0o-NF5a6QbNH",
        "outputId": "55964639-3c0f-43eb-cc44-3630f268f8de"
      },
      "outputs": [
        {
          "output_type": "execute_result",
          "data": {
            "text/plain": [
              "True"
            ]
          },
          "metadata": {},
          "execution_count": 45
        }
      ],
      "source": [
        "'20'.isdecimal()"
      ]
    },
    {
      "cell_type": "code",
      "execution_count": 46,
      "metadata": {
        "colab": {
          "base_uri": "https://localhost:8080/"
        },
        "id": "BdsLmBN3QbNK",
        "outputId": "9c72e483-2252-4657-829a-5bf3848273dd"
      },
      "outputs": [
        {
          "output_type": "execute_result",
          "data": {
            "text/plain": [
              "True"
            ]
          },
          "metadata": {},
          "execution_count": 46
        }
      ],
      "source": [
        "'12ab'.isalnum() "
      ]
    },
    {
      "cell_type": "markdown",
      "metadata": {
        "id": "Jt51YTnvuj6z"
      },
      "source": [
        "# 7.Remove stopwords"
      ]
    },
    {
      "cell_type": "code",
      "execution_count": 47,
      "metadata": {
        "colab": {
          "base_uri": "https://localhost:8080/"
        },
        "id": "xBCqJ069oCi6",
        "outputId": "b09db6eb-9f19-4dc6-baaf-1df6d255319a"
      },
      "outputs": [
        {
          "output_type": "stream",
          "name": "stdout",
          "text": [
            "[nltk_data] Downloading package stopwords to /root/nltk_data...\n",
            "[nltk_data]   Unzipping corpora/stopwords.zip.\n",
            "{'very', 'you', 'this', 've', 'been', 'until', 'weren', 'he', 'which', 'is', 'while', 'by', 'in', 'who', 'over', 'aren', 'off', \"it's\", 's', 'shan', 'yours', 'where', 'doesn', 'against', 'now', 'be', 'no', \"should've\", 'here', 'himself', 'both', 'll', 'just', 'those', 'how', 'other', 'our', 'at', \"couldn't\", \"won't\", 'each', \"haven't\", 'only', \"needn't\", 'to', 'through', \"didn't\", 'do', 'should', 'couldn', \"shan't\", 'herself', 'from', 'myself', \"you're\", 'below', 'all', 'had', 'ma', 'does', 'it', 'being', 'don', 'too', 'she', 'when', 'i', 'were', 'shouldn', 'y', \"you'll\", 'for', 'once', 'her', 'these', 'hadn', 'wouldn', \"she's\", 'hasn', 'theirs', \"you'd\", 'if', 'won', 'mightn', 'most', 'd', \"hasn't\", 'about', 'the', 'having', \"wouldn't\", \"aren't\", 'then', 'into', 'again', 'same', 'few', 'of', 'on', 'isn', 'are', 'has', 'm', 'mustn', 'such', 'your', 'up', 'during', \"shouldn't\", 'didn', 'than', 're', 'under', \"wasn't\", 'more', 'we', 'down', 'ours', 'needn', 'ain', 'nor', 'not', 'doing', 'his', 'yourselves', 'ourselves', 'itself', 'and', 'them', 'what', 'was', 't', 'as', 'themselves', 'so', 'haven', \"doesn't\", \"isn't\", 'an', 'him', 'have', 'with', 'o', 'their', 'any', 'wasn', 'between', \"mightn't\", 'further', \"mustn't\", 'because', 'but', \"hadn't\", \"weren't\", \"don't\", 'after', \"you've\", 'own', 'can', 'me', 'whom', 'a', 'will', 'that', \"that'll\", 'did', 'there', 'some', 'they', 'or', 'its', 'before', 'my', 'above', 'yourself', 'out', 'am', 'hers', 'why'}\n"
          ]
        }
      ],
      "source": [
        "#what is the stopwords?\n",
        "nltk.download('stopwords')\n",
        "from nltk.corpus import stopwords\n",
        "stopwords = set(stopwords.words('english'))\n",
        "print(stopwords)"
      ]
    },
    {
      "cell_type": "code",
      "execution_count": 48,
      "metadata": {
        "colab": {
          "base_uri": "https://localhost:8080/"
        },
        "id": "H3z7n-GZqYxY",
        "outputId": "db0d048e-f7de-46b8-cef5-273a3e674c02"
      },
      "outputs": [
        {
          "output_type": "stream",
          "name": "stdout",
          "text": [
            "['Science', 'in', '5', 'Getting', 'vaccinated', 'COVAX', 'COVAX', 'aims', 'to', 'accelerate', 'the', 'development', 'and', 'manufacturing', 'of', 'COVID-19', 'vaccines', ',', 'and', 'guarantee', 'fair', 'and', 'equitable', 'access', 'for', 'every', 'country', '.', 'COVAX', 'is', 'co-led', 'by', 'the', 'Coalition', 'for', 'Epidemic', 'Preparedness', 'Innovations', '(', 'CEPI', ')', ',', 'Gavi', 'and', 'WHO', ',', 'with', 'UNICEF', 'as', 'a', 'key', 'delivery', 'partner', 'and', 'PAHO', 'as', 'the', 'procurement', 'agent', 'in', 'the', 'Americas', '.', 'Country', 'readiness', 'and', 'delivery', 'WHO', 'has', 'worked', 'with', 'UNICEF', ',', 'Gavi', 'and', 'partners', 'to', 'develop', 'resources', ',', 'such', 'as', 'guidance', ',', 'trainings', ',', 'tools', 'and', 'advocacy', 'materials', 'to', 'help', 'governments', ',', 'health', 'workers', 'and', 'partners', 'to', 'launch', ',', 'refine', ',', 'and', 'optimise', 'uptake', 'of', 'their', 'COVID-19', 'vaccination', 'programmes', '.', 'COVAX', 'No', 'fault', 'compensation', 'program', 'The', 'COVAX', 'No-Fault', 'Compensation', 'Program', 'for', 'Advance', 'Market', 'Commitment', '(', 'AMC', ')', 'Eligible', 'Economies', 'is', 'the', 'world', '’', 's', 'first', 'and', 'only', 'international', 'vaccine', 'injury', 'compensation', 'mechanism', '.', 'The', 'Program', 'helps', 'COVAX', 'deliver', 'safe', 'and', 'effective', 'COVID-19', 'vaccines', 'to', 'the', 'high-risk', 'and', 'vulnerable', 'populations', 'in', '92', 'low-', 'and', 'middle-income', 'countries', 'and', 'economies', '.', 'Emergency', 'Use', 'Listing', '(', 'EUL', ')', 'WHO', \"'s\", 'EUL', 'procedure', 'is', 'a', 'risk-based', 'procedure', 'for', 'assessing', 'and', 'listing', 'unlicensed', 'vaccines', ',', 'therapeutics', 'and', 'in', 'vitro', 'diagnostics', 'with', 'the', 'ultimate', 'aim', 'of', 'expediting', 'the', 'availability', 'of', 'these', 'products', 'to', 'people', 'affected', 'by', 'a', 'public', 'health', 'emergency', '.', 'Strategic', 'Advisory', 'Group', 'of', 'Experts', '(', 'SAGE', ')', 'on', 'Immunization', 'SAGE', 'advises', 'WHO', 'on', 'overall', 'global', 'policies', 'and', 'strategies', ',', 'ranging', 'from', 'vaccines', 'and', 'technology', ',', 'research', 'and', 'development', ',', 'to', 'delivery', 'of', 'immunization', 'and', 'its', 'linkages', 'with', 'other', 'health', 'interventions', '.', 'Draft', 'landscape', 'of', 'COVID-19', 'vaccine', 'candidates', 'The', 'draft', 'landscape', 'of', 'COVID-19', 'vaccine', 'candidates', 'contains', 'information', 'on', 'vaccine', 'candidates', 'collected', 'through', 'public', 'information', '(', 'e.g', '.', 'clinical', 'trial', 'registries', ')', 'and', 'information', 'that', 'were', 'directly', 'provided', 'by', 'vaccine', 'developers', 'to', 'WHO', '.', 'The', 'landscape', 'is', 'generally', 'updated', 'twice', 'a', 'week', ',', 'based', 'on', 'the', 'latest', 'information', ',', 'including', 'those', 'we', 'receive', 'from', 'scientists', 'and', 'research', 'The', 'Pfizer', 'BioNTech', '(', 'BNT162b2', ')', 'COVID-19', 'vaccine', ':', 'What', 'you', 'need', 'to', 'know', 'The', 'Bharat', 'Biotech', 'BBV152', 'COVAXIN', 'vaccine', 'against', 'COVID-19', ':', 'What', 'you', 'need', 'to', 'know', 'The', 'Sinovac-CoronaVac', 'COVID-19', 'vaccine', ':', 'What', 'you', 'need', 'to', 'know', 'The', 'Sinopharm', 'COVID-19', 'vaccine', ':', 'What', 'you', 'need', 'to', 'know', 'The', 'Moderna', 'COVID-19', '(', 'mRNA-1273', ')', 'vaccine', ':', 'what', 'you', 'need', 'to', 'know', 'The', 'Oxford/AstraZeneca', '(', 'ChAdOx1-S', '[', 'recombinant', ']', 'vaccine', ')', 'COVID-19', 'vaccine', ':', 'what', 'you', 'need', 'to', 'know', 'The', 'Janssen', 'Ad26.COV2.S', 'COVID-19', 'vaccine', ':', 'What', 'you', 'need', 'to', 'know', 'The', 'Novavax', 'vaccine', 'against', 'COVID-19', ':', 'What', 'you', 'need', 'to', 'know', 'Moving', 'forward', 'on', 'goal', 'to', 'boost', 'local', 'pharmaceutical', 'production', ',', 'WHO', 'establishes', 'global', 'biomanufacturing', 'training', 'hub', 'in', 'Republic', 'of', 'Korea', 'ACT-Accelerator', 'calls', 'for', 'fair', 'share-based', 'financing', 'of', 'US', '$', '23', 'billion', 'to', 'end', 'pandemic', 'as', 'global', 'emergency', 'in', '2022', 'IOC', 'and', 'WHO', 'reaffirm', 'collaboration', 'to', 'promote', 'vaccine', 'equity', 'and', 'healthy', 'lifestyles', 'Updated', 'WHO', 'SAGE', 'Roadmap', 'for', 'prioritizing', 'uses', 'of', 'COVID-19', 'vaccines', '11', 'August', '2021', 'Pasig', 'City', ':', 'A', 'COVID-19', 'Vaccination', 'Success', 'Story', 'PAHO', 'paving', 'the', 'way', 'for', 'COVID-19', 'vaccination', 'in', 'the', 'Americas', 'The', 'effects', 'of', 'virus', 'variants', 'on', 'COVID-19', 'vaccines', 'Inside', 'the', 'Mammoth', 'Undertaking', 'of', 'Global', 'Vaccine', 'Distribution', 'Other', 'resources', 'Criteria', 'for', 'COVID-19', 'vaccine', 'prioritization', 'The', 'proposed', 'attributes', 'and', 'criteria', 'provide', 'considerations', 'for', 'the', 'evaluation', 'and', 'prioritization', 'of', 'COVID-19', 'candidate', 'vaccines', 'to', 'be', 'considered', 'for', 'further', 'development', 'by', 'WHO', '.', 'The', 'target', 'audience', 'includes', 'vaccine', 'scientists', ',', 'product', 'developers', ',', 'manufacturers', ',', 'regulators', 'and', 'funding', 'agencies', '.', 'Vaccine', 'target', 'product', 'profile', 'WHO', 'has', 'published', 'the', 'target', 'product', 'profiles', 'for', 'COVID-19', 'vaccines', ',', 'which', 'describes', 'the', 'preferred', 'and', 'minimally', 'acceptable', 'profiles', 'for', 'human', 'vaccines', 'for', 'long', 'term', 'protection', 'of', 'persons', 'at', 'high', 'ongoing', 'risk', 'of', 'COVID-19', ',', 'and', 'for', 'reactive', 'use', 'in', 'outbreak', 'settings', 'with', 'rapid', 'onset', 'of', 'immunity', '.', 'We', 'have', 'also', 'published', 'the', 'criteria', 'for', 'prioritization', 'of', 'vaccines', 'for', 'clinical', 'trials', '.', 'Coronavirus', 'disease', '(', 'COVID-19', ')', 'Vaccines', 'and', 'immunization']\n",
            "['Science', '5', 'Getting', 'vaccinated', 'COVAX', 'COVAX', 'aims', 'accelerate', 'development', 'manufacturing', 'COVID-19', 'vaccines', ',', 'guarantee', 'fair', 'equitable', 'access', 'every', 'country', '.', 'COVAX', 'co-led', 'Coalition', 'Epidemic', 'Preparedness', 'Innovations', '(', 'CEPI', ')', ',', 'Gavi', 'WHO', ',', 'UNICEF', 'key', 'delivery', 'partner', 'PAHO', 'procurement', 'agent', 'Americas', '.', 'Country', 'readiness', 'delivery', 'WHO', 'worked', 'UNICEF', ',', 'Gavi', 'partners', 'develop', 'resources', ',', 'guidance', ',', 'trainings', ',', 'tools', 'advocacy', 'materials', 'help', 'governments', ',', 'health', 'workers', 'partners', 'launch', ',', 'refine', ',', 'optimise', 'uptake', 'COVID-19', 'vaccination', 'programmes', '.', 'COVAX', 'No', 'fault', 'compensation', 'program', 'The', 'COVAX', 'No-Fault', 'Compensation', 'Program', 'Advance', 'Market', 'Commitment', '(', 'AMC', ')', 'Eligible', 'Economies', 'world', '’', 'first', 'international', 'vaccine', 'injury', 'compensation', 'mechanism', '.', 'The', 'Program', 'helps', 'COVAX', 'deliver', 'safe', 'effective', 'COVID-19', 'vaccines', 'high-risk', 'vulnerable', 'populations', '92', 'low-', 'middle-income', 'countries', 'economies', '.', 'Emergency', 'Use', 'Listing', '(', 'EUL', ')', 'WHO', \"'s\", 'EUL', 'procedure', 'risk-based', 'procedure', 'assessing', 'listing', 'unlicensed', 'vaccines', ',', 'therapeutics', 'vitro', 'diagnostics', 'ultimate', 'aim', 'expediting', 'availability', 'products', 'people', 'affected', 'public', 'health', 'emergency', '.', 'Strategic', 'Advisory', 'Group', 'Experts', '(', 'SAGE', ')', 'Immunization', 'SAGE', 'advises', 'WHO', 'overall', 'global', 'policies', 'strategies', ',', 'ranging', 'vaccines', 'technology', ',', 'research', 'development', ',', 'delivery', 'immunization', 'linkages', 'health', 'interventions', '.', 'Draft', 'landscape', 'COVID-19', 'vaccine', 'candidates', 'The', 'draft', 'landscape', 'COVID-19', 'vaccine', 'candidates', 'contains', 'information', 'vaccine', 'candidates', 'collected', 'public', 'information', '(', 'e.g', '.', 'clinical', 'trial', 'registries', ')', 'information', 'directly', 'provided', 'vaccine', 'developers', 'WHO', '.', 'The', 'landscape', 'generally', 'updated', 'twice', 'week', ',', 'based', 'latest', 'information', ',', 'including', 'receive', 'scientists', 'research', 'The', 'Pfizer', 'BioNTech', '(', 'BNT162b2', ')', 'COVID-19', 'vaccine', ':', 'What', 'need', 'know', 'The', 'Bharat', 'Biotech', 'BBV152', 'COVAXIN', 'vaccine', 'COVID-19', ':', 'What', 'need', 'know', 'The', 'Sinovac-CoronaVac', 'COVID-19', 'vaccine', ':', 'What', 'need', 'know', 'The', 'Sinopharm', 'COVID-19', 'vaccine', ':', 'What', 'need', 'know', 'The', 'Moderna', 'COVID-19', '(', 'mRNA-1273', ')', 'vaccine', ':', 'need', 'know', 'The', 'Oxford/AstraZeneca', '(', 'ChAdOx1-S', '[', 'recombinant', ']', 'vaccine', ')', 'COVID-19', 'vaccine', ':', 'need', 'know', 'The', 'Janssen', 'Ad26.COV2.S', 'COVID-19', 'vaccine', ':', 'What', 'need', 'know', 'The', 'Novavax', 'vaccine', 'COVID-19', ':', 'What', 'need', 'know', 'Moving', 'forward', 'goal', 'boost', 'local', 'pharmaceutical', 'production', ',', 'WHO', 'establishes', 'global', 'biomanufacturing', 'training', 'hub', 'Republic', 'Korea', 'ACT-Accelerator', 'calls', 'fair', 'share-based', 'financing', 'US', '$', '23', 'billion', 'end', 'pandemic', 'global', 'emergency', '2022', 'IOC', 'WHO', 'reaffirm', 'collaboration', 'promote', 'vaccine', 'equity', 'healthy', 'lifestyles', 'Updated', 'WHO', 'SAGE', 'Roadmap', 'prioritizing', 'uses', 'COVID-19', 'vaccines', '11', 'August', '2021', 'Pasig', 'City', ':', 'A', 'COVID-19', 'Vaccination', 'Success', 'Story', 'PAHO', 'paving', 'way', 'COVID-19', 'vaccination', 'Americas', 'The', 'effects', 'virus', 'variants', 'COVID-19', 'vaccines', 'Inside', 'Mammoth', 'Undertaking', 'Global', 'Vaccine', 'Distribution', 'Other', 'resources', 'Criteria', 'COVID-19', 'vaccine', 'prioritization', 'The', 'proposed', 'attributes', 'criteria', 'provide', 'considerations', 'evaluation', 'prioritization', 'COVID-19', 'candidate', 'vaccines', 'considered', 'development', 'WHO', '.', 'The', 'target', 'audience', 'includes', 'vaccine', 'scientists', ',', 'product', 'developers', ',', 'manufacturers', ',', 'regulators', 'funding', 'agencies', '.', 'Vaccine', 'target', 'product', 'profile', 'WHO', 'published', 'target', 'product', 'profiles', 'COVID-19', 'vaccines', ',', 'describes', 'preferred', 'minimally', 'acceptable', 'profiles', 'human', 'vaccines', 'long', 'term', 'protection', 'persons', 'high', 'ongoing', 'risk', 'COVID-19', ',', 'reactive', 'use', 'outbreak', 'settings', 'rapid', 'onset', 'immunity', '.', 'We', 'also', 'published', 'criteria', 'prioritization', 'vaccines', 'clinical', 'trials', '.', 'Coronavirus', 'disease', '(', 'COVID-19', ')', 'Vaccines', 'immunization']\n"
          ]
        }
      ],
      "source": [
        "filtered_tokens = [word for word in text1_tokens if not word in stopwords]\n",
        "print(text1_tokens)\n",
        "print(filtered_tokens)"
      ]
    },
    {
      "cell_type": "code",
      "execution_count": 49,
      "metadata": {
        "colab": {
          "base_uri": "https://localhost:8080/"
        },
        "id": "u90ZS0cu5ak2",
        "outputId": "1ea04892-61d9-45a5-fa37-91c5a66552fa"
      },
      "outputs": [
        {
          "output_type": "stream",
          "name": "stdout",
          "text": [
            "['Science', 'in', '5', 'Getting', 'vaccinated', 'COVAX', 'COVAX', 'aims', 'to', 'accelerate', 'the', 'development', 'and', 'manufacturing', 'of', 'COVID-19', 'vaccines', ',', 'and', 'guarantee', 'fair', 'and', 'equitable', 'access', 'for', 'every', 'country', '.', 'COVAX', 'is', 'co-led', 'by', 'the', 'Coalition', 'for', 'Epidemic', 'Preparedness', 'Innovations', '(', 'CEPI', ')', ',', 'Gavi', 'and', 'WHO', ',', 'with', 'UNICEF', 'as', 'a', 'key', 'delivery', 'partner', 'and', 'PAHO', 'as', 'the', 'procurement', 'agent', 'in', 'the', 'Americas', '.', 'Country', 'readiness', 'and', 'delivery', 'WHO', 'has', 'worked', 'with', 'UNICEF', ',', 'Gavi', 'and', 'partners', 'to', 'develop', 'resources', ',', 'such', 'as', 'guidance', ',', 'trainings', ',', 'tools', 'and', 'advocacy', 'materials', 'to', 'help', 'governments', ',', 'health', 'workers', 'and', 'partners', 'to', 'launch', ',', 'refine', ',', 'and', 'optimise', 'uptake', 'of', 'their', 'COVID-19', 'vaccination', 'programmes', '.', 'COVAX', 'No', 'fault', 'compensation', 'program', 'The', 'COVAX', 'No-Fault', 'Compensation', 'Program', 'for', 'Advance', 'Market', 'Commitment', '(', 'AMC', ')', 'Eligible', 'Economies', 'is', 'the', 'world', '’', 's', 'first', 'and', 'only', 'international', 'vaccine', 'injury', 'compensation', 'mechanism', '.', 'The', 'Program', 'helps', 'COVAX', 'deliver', 'safe', 'and', 'effective', 'COVID-19', 'vaccines', 'to', 'the', 'high-risk', 'and', 'vulnerable', 'populations', 'in', '92', 'low-', 'and', 'middle-income', 'countries', 'and', 'economies', '.', 'Emergency', 'Use', 'Listing', '(', 'EUL', ')', 'WHO', \"'s\", 'EUL', 'procedure', 'is', 'a', 'risk-based', 'procedure', 'for', 'assessing', 'and', 'listing', 'unlicensed', 'vaccines', ',', 'therapeutics', 'and', 'in', 'vitro', 'diagnostics', 'with', 'the', 'ultimate', 'aim', 'of', 'expediting', 'the', 'availability', 'of', 'these', 'products', 'to', 'people', 'affected', 'by', 'a', 'public', 'health', 'emergency', '.', 'Strategic', 'Advisory', 'Group', 'of', 'Experts', '(', 'SAGE', ')', 'on', 'Immunization', 'SAGE', 'advises', 'WHO', 'on', 'overall', 'global', 'policies', 'and', 'strategies', ',', 'ranging', 'from', 'vaccines', 'and', 'technology', ',', 'research', 'and', 'development', ',', 'to', 'delivery', 'of', 'immunization', 'and', 'its', 'linkages', 'with', 'other', 'health', 'interventions', '.', 'Draft', 'landscape', 'of', 'COVID-19', 'vaccine', 'candidates', 'The', 'draft', 'landscape', 'of', 'COVID-19', 'vaccine', 'candidates', 'contains', 'information', 'on', 'vaccine', 'candidates', 'collected', 'through', 'public', 'information', '(', 'e.g', '.', 'clinical', 'trial', 'registries', ')', 'and', 'information', 'that', 'were', 'directly', 'provided', 'by', 'vaccine', 'developers', 'to', 'WHO', '.', 'The', 'landscape', 'is', 'generally', 'updated', 'twice', 'a', 'week', ',', 'based', 'on', 'the', 'latest', 'information', ',', 'including', 'those', 'we', 'receive', 'from', 'scientists', 'and', 'research', 'The', 'Pfizer', 'BioNTech', '(', 'BNT162b2', ')', 'COVID-19', 'vaccine', ':', 'What', 'you', 'need', 'to', 'know', 'The', 'Bharat', 'Biotech', 'BBV152', 'COVAXIN', 'vaccine', 'against', 'COVID-19', ':', 'What', 'you', 'need', 'to', 'know', 'The', 'Sinovac-CoronaVac', 'COVID-19', 'vaccine', ':', 'What', 'you', 'need', 'to', 'know', 'The', 'Sinopharm', 'COVID-19', 'vaccine', ':', 'What', 'you', 'need', 'to', 'know', 'The', 'Moderna', 'COVID-19', '(', 'mRNA-1273', ')', 'vaccine', ':', 'what', 'you', 'need', 'to', 'know', 'The', 'Oxford/AstraZeneca', '(', 'ChAdOx1-S', '[', 'recombinant', ']', 'vaccine', ')', 'COVID-19', 'vaccine', ':', 'what', 'you', 'need', 'to', 'know', 'The', 'Janssen', 'Ad26.COV2.S', 'COVID-19', 'vaccine', ':', 'What', 'you', 'need', 'to', 'know', 'The', 'Novavax', 'vaccine', 'against', 'COVID-19', ':', 'What', 'you', 'need', 'to', 'know', 'Moving', 'forward', 'on', 'goal', 'to', 'boost', 'local', 'pharmaceutical', 'production', ',', 'WHO', 'establishes', 'global', 'biomanufacturing', 'training', 'hub', 'in', 'Republic', 'of', 'Korea', 'ACT-Accelerator', 'calls', 'for', 'fair', 'share-based', 'financing', 'of', 'US', '$', '23', 'billion', 'to', 'end', 'pandemic', 'as', 'global', 'emergency', 'in', '2022', 'IOC', 'and', 'WHO', 'reaffirm', 'collaboration', 'to', 'promote', 'vaccine', 'equity', 'and', 'healthy', 'lifestyles', 'Updated', 'WHO', 'SAGE', 'Roadmap', 'for', 'prioritizing', 'uses', 'of', 'COVID-19', 'vaccines', '11', 'August', '2021', 'Pasig', 'City', ':', 'A', 'COVID-19', 'Vaccination', 'Success', 'Story', 'PAHO', 'paving', 'the', 'way', 'for', 'COVID-19', 'vaccination', 'in', 'the', 'Americas', 'The', 'effects', 'of', 'virus', 'variants', 'on', 'COVID-19', 'vaccines', 'Inside', 'the', 'Mammoth', 'Undertaking', 'of', 'Global', 'Vaccine', 'Distribution', 'Other', 'resources', 'Criteria', 'for', 'COVID-19', 'vaccine', 'prioritization', 'The', 'proposed', 'attributes', 'and', 'criteria', 'provide', 'considerations', 'for', 'the', 'evaluation', 'and', 'prioritization', 'of', 'COVID-19', 'candidate', 'vaccines', 'to', 'be', 'considered', 'for', 'further', 'development', 'by', 'WHO', '.', 'The', 'target', 'audience', 'includes', 'vaccine', 'scientists', ',', 'product', 'developers', ',', 'manufacturers', ',', 'regulators', 'and', 'funding', 'agencies', '.', 'Vaccine', 'target', 'product', 'profile', 'WHO', 'has', 'published', 'the', 'target', 'product', 'profiles', 'for', 'COVID-19', 'vaccines', ',', 'which', 'describes', 'the', 'preferred', 'and', 'minimally', 'acceptable', 'profiles', 'for', 'human', 'vaccines', 'for', 'long', 'term', 'protection', 'of', 'persons', 'at', 'high', 'ongoing', 'risk', 'of', 'COVID-19', ',', 'and', 'for', 'reactive', 'use', 'in', 'outbreak', 'settings', 'with', 'rapid', 'onset', 'of', 'immunity', '.', 'We', 'have', 'also', 'published', 'the', 'criteria', 'for', 'prioritization', 'of', 'vaccines', 'for', 'clinical', 'trials', '.', 'Coronavirus', 'disease', '(', 'COVID-19', ')', 'Vaccines', 'and', 'immunization']\n",
            "['Science', '5', 'Getting', 'vaccinated', 'COVAX', 'COVAX', 'aims', 'accelerate', 'development', 'manufacturing', 'COVID-19', 'vaccines', ',', 'guarantee', 'fair', 'equitable', 'access', 'every', 'country', '.', 'COVAX', 'co-led', 'Coalition', 'Epidemic', 'Preparedness', 'Innovations', '(', 'CEPI', ')', ',', 'Gavi', 'WHO', ',', 'UNICEF', 'key', 'delivery', 'partner', 'PAHO', 'procurement', 'agent', 'Americas', '.', 'Country', 'readiness', 'delivery', 'WHO', 'worked', 'UNICEF', ',', 'Gavi', 'partners', 'develop', 'resources', ',', 'guidance', ',', 'trainings', ',', 'tools', 'advocacy', 'materials', 'help', 'governments', ',', 'health', 'workers', 'partners', 'launch', ',', 'refine', ',', 'optimise', 'uptake', 'COVID-19', 'vaccination', 'programmes', '.', 'COVAX', 'No', 'fault', 'compensation', 'program', 'The', 'COVAX', 'No-Fault', 'Compensation', 'Program', 'Advance', 'Market', 'Commitment', '(', 'AMC', ')', 'Eligible', 'Economies', 'world', '’', 'first', 'international', 'vaccine', 'injury', 'compensation', 'mechanism', '.', 'The', 'Program', 'helps', 'COVAX', 'deliver', 'safe', 'effective', 'COVID-19', 'vaccines', 'high-risk', 'vulnerable', 'populations', '92', 'low-', 'middle-income', 'countries', 'economies', '.', 'Emergency', 'Use', 'Listing', '(', 'EUL', ')', 'WHO', \"'s\", 'EUL', 'procedure', 'risk-based', 'procedure', 'assessing', 'listing', 'unlicensed', 'vaccines', ',', 'therapeutics', 'vitro', 'diagnostics', 'ultimate', 'aim', 'expediting', 'availability', 'products', 'people', 'affected', 'public', 'health', 'emergency', '.', 'Strategic', 'Advisory', 'Group', 'Experts', '(', 'SAGE', ')', 'Immunization', 'SAGE', 'advises', 'WHO', 'overall', 'global', 'policies', 'strategies', ',', 'ranging', 'vaccines', 'technology', ',', 'research', 'development', ',', 'delivery', 'immunization', 'linkages', 'health', 'interventions', '.', 'Draft', 'landscape', 'COVID-19', 'vaccine', 'candidates', 'The', 'draft', 'landscape', 'COVID-19', 'vaccine', 'candidates', 'contains', 'information', 'vaccine', 'candidates', 'collected', 'public', 'information', '(', 'e.g', '.', 'clinical', 'trial', 'registries', ')', 'information', 'directly', 'provided', 'vaccine', 'developers', 'WHO', '.', 'The', 'landscape', 'generally', 'updated', 'twice', 'week', ',', 'based', 'latest', 'information', ',', 'including', 'receive', 'scientists', 'research', 'The', 'Pfizer', 'BioNTech', '(', 'BNT162b2', ')', 'COVID-19', 'vaccine', ':', 'What', 'need', 'know', 'The', 'Bharat', 'Biotech', 'BBV152', 'COVAXIN', 'vaccine', 'COVID-19', ':', 'What', 'need', 'know', 'The', 'Sinovac-CoronaVac', 'COVID-19', 'vaccine', ':', 'What', 'need', 'know', 'The', 'Sinopharm', 'COVID-19', 'vaccine', ':', 'What', 'need', 'know', 'The', 'Moderna', 'COVID-19', '(', 'mRNA-1273', ')', 'vaccine', ':', 'need', 'know', 'The', 'Oxford/AstraZeneca', '(', 'ChAdOx1-S', '[', 'recombinant', ']', 'vaccine', ')', 'COVID-19', 'vaccine', ':', 'need', 'know', 'The', 'Janssen', 'Ad26.COV2.S', 'COVID-19', 'vaccine', ':', 'What', 'need', 'know', 'The', 'Novavax', 'vaccine', 'COVID-19', ':', 'What', 'need', 'know', 'Moving', 'forward', 'goal', 'boost', 'local', 'pharmaceutical', 'production', ',', 'WHO', 'establishes', 'global', 'biomanufacturing', 'training', 'hub', 'Republic', 'Korea', 'ACT-Accelerator', 'calls', 'fair', 'share-based', 'financing', 'US', '$', '23', 'billion', 'end', 'pandemic', 'global', 'emergency', '2022', 'IOC', 'WHO', 'reaffirm', 'collaboration', 'promote', 'vaccine', 'equity', 'healthy', 'lifestyles', 'Updated', 'WHO', 'SAGE', 'Roadmap', 'prioritizing', 'uses', 'COVID-19', 'vaccines', '11', 'August', '2021', 'Pasig', 'City', ':', 'A', 'COVID-19', 'Vaccination', 'Success', 'Story', 'PAHO', 'paving', 'way', 'COVID-19', 'vaccination', 'Americas', 'The', 'effects', 'virus', 'variants', 'COVID-19', 'vaccines', 'Inside', 'Mammoth', 'Undertaking', 'Global', 'Vaccine', 'Distribution', 'Other', 'resources', 'Criteria', 'COVID-19', 'vaccine', 'prioritization', 'The', 'proposed', 'attributes', 'criteria', 'provide', 'considerations', 'evaluation', 'prioritization', 'COVID-19', 'candidate', 'vaccines', 'considered', 'development', 'WHO', '.', 'The', 'target', 'audience', 'includes', 'vaccine', 'scientists', ',', 'product', 'developers', ',', 'manufacturers', ',', 'regulators', 'funding', 'agencies', '.', 'Vaccine', 'target', 'product', 'profile', 'WHO', 'published', 'target', 'product', 'profiles', 'COVID-19', 'vaccines', ',', 'describes', 'preferred', 'minimally', 'acceptable', 'profiles', 'human', 'vaccines', 'long', 'term', 'protection', 'persons', 'high', 'ongoing', 'risk', 'COVID-19', ',', 'reactive', 'use', 'outbreak', 'settings', 'rapid', 'onset', 'immunity', '.', 'We', 'also', 'published', 'criteria', 'prioritization', 'vaccines', 'clinical', 'trials', '.', 'Coronavirus', 'disease', '(', 'COVID-19', ')', 'Vaccines', 'immunization']\n",
            "['Science', '5', 'Getting', 'vaccinated', 'COVAX', 'COVAX', 'aims', 'accelerate', 'development', 'manufacturing', 'COVID-19', 'vaccines', ',', 'guarantee', 'fair', 'equitable', 'access', 'every', 'country', 'COVAX', 'co-led', 'Coalition', 'Epidemic', 'Preparedness', 'Innovations', '(', 'CEPI', ')', ',', 'Gavi', 'WHO', ',', 'UNICEF', 'key', 'delivery', 'partner', 'PAHO', 'procurement', 'agent', 'Americas', 'Country', 'readiness', 'delivery', 'WHO', 'worked', 'UNICEF', ',', 'Gavi', 'partners', 'develop', 'resources', ',', 'guidance', ',', 'trainings', ',', 'tools', 'advocacy', 'materials', 'help', 'governments', ',', 'health', 'workers', 'partners', 'launch', ',', 'refine', ',', 'optimise', 'uptake', 'COVID-19', 'vaccination', 'programmes', 'COVAX', 'No', 'fault', 'compensation', 'program', 'The', 'COVAX', 'No-Fault', 'Compensation', 'Program', 'Advance', 'Market', 'Commitment', '(', 'AMC', ')', 'Eligible', 'Economies', 'world', '’', 'first', 'international', 'vaccine', 'injury', 'compensation', 'mechanism', 'The', 'Program', 'helps', 'COVAX', 'deliver', 'safe', 'effective', 'COVID-19', 'vaccines', 'high-risk', 'vulnerable', 'populations', '92', 'low-', 'middle-income', 'countries', 'economies', 'Emergency', 'Use', 'Listing', '(', 'EUL', ')', 'WHO', 'EUL', 'procedure', 'risk-based', 'procedure', 'assessing', 'listing', 'unlicensed', 'vaccines', ',', 'therapeutics', 'vitro', 'diagnostics', 'ultimate', 'aim', 'expediting', 'availability', 'products', 'people', 'affected', 'public', 'health', 'emergency', 'Strategic', 'Advisory', 'Group', 'Experts', '(', 'SAGE', ')', 'Immunization', 'SAGE', 'advises', 'WHO', 'overall', 'global', 'policies', 'strategies', ',', 'ranging', 'vaccines', 'technology', ',', 'research', 'development', ',', 'delivery', 'immunization', 'linkages', 'health', 'interventions', 'Draft', 'landscape', 'COVID-19', 'vaccine', 'candidates', 'The', 'draft', 'landscape', 'COVID-19', 'vaccine', 'candidates', 'contains', 'information', 'vaccine', 'candidates', 'collected', 'public', 'information', '(', 'e.g', 'clinical', 'trial', 'registries', ')', 'information', 'directly', 'provided', 'vaccine', 'developers', 'WHO', 'The', 'landscape', 'generally', 'updated', 'twice', 'week', ',', 'based', 'latest', 'information', ',', 'including', 'receive', 'scientists', 'research', 'The', 'Pfizer', 'BioNTech', '(', 'BNT162b2', ')', 'COVID-19', 'vaccine', ':', 'What', 'need', 'know', 'The', 'Bharat', 'Biotech', 'BBV152', 'COVAXIN', 'vaccine', 'COVID-19', ':', 'What', 'need', 'know', 'The', 'Sinovac-CoronaVac', 'COVID-19', 'vaccine', ':', 'What', 'need', 'know', 'The', 'Sinopharm', 'COVID-19', 'vaccine', ':', 'What', 'need', 'know', 'The', 'Moderna', 'COVID-19', '(', 'mRNA-1273', ')', 'vaccine', ':', 'need', 'know', 'The', 'Oxford/AstraZeneca', '(', 'ChAdOx1-S', '[', 'recombinant', ']', 'vaccine', ')', 'COVID-19', 'vaccine', ':', 'need', 'know', 'The', 'Janssen', 'Ad26.COV2.S', 'COVID-19', 'vaccine', ':', 'What', 'need', 'know', 'The', 'Novavax', 'vaccine', 'COVID-19', ':', 'What', 'need', 'know', 'Moving', 'forward', 'goal', 'boost', 'local', 'pharmaceutical', 'production', ',', 'WHO', 'establishes', 'global', 'biomanufacturing', 'training', 'hub', 'Republic', 'Korea', 'ACT-Accelerator', 'calls', 'fair', 'share-based', 'financing', 'US', '$', '23', 'billion', 'end', 'pandemic', 'global', 'emergency', '2022', 'IOC', 'WHO', 'reaffirm', 'collaboration', 'promote', 'vaccine', 'equity', 'healthy', 'lifestyles', 'Updated', 'WHO', 'SAGE', 'Roadmap', 'prioritizing', 'uses', 'COVID-19', 'vaccines', '11', 'August', '2021', 'Pasig', 'City', ':', 'A', 'COVID-19', 'Vaccination', 'Success', 'Story', 'PAHO', 'paving', 'way', 'COVID-19', 'vaccination', 'Americas', 'The', 'effects', 'virus', 'variants', 'COVID-19', 'vaccines', 'Inside', 'Mammoth', 'Undertaking', 'Global', 'Vaccine', 'Distribution', 'Other', 'resources', 'Criteria', 'COVID-19', 'vaccine', 'prioritization', 'The', 'proposed', 'attributes', 'criteria', 'provide', 'considerations', 'evaluation', 'prioritization', 'COVID-19', 'candidate', 'vaccines', 'considered', 'development', 'WHO', 'The', 'target', 'audience', 'includes', 'vaccine', 'scientists', ',', 'product', 'developers', ',', 'manufacturers', ',', 'regulators', 'funding', 'agencies', 'Vaccine', 'target', 'product', 'profile', 'WHO', 'published', 'target', 'product', 'profiles', 'COVID-19', 'vaccines', ',', 'describes', 'preferred', 'minimally', 'acceptable', 'profiles', 'human', 'vaccines', 'long', 'term', 'protection', 'persons', 'high', 'ongoing', 'risk', 'COVID-19', ',', 'reactive', 'use', 'outbreak', 'settings', 'rapid', 'onset', 'immunity', 'We', 'also', 'published', 'criteria', 'prioritization', 'vaccines', 'clinical', 'trials', 'Coronavirus', 'disease', '(', 'COVID-19', ')', 'Vaccines', 'immunization']\n"
          ]
        }
      ],
      "source": [
        "#sometime you need to define your stopwords\n",
        "#for example I define user_stopwords as below\n",
        "user_stopwords = [\"'s\",\".\",\"ca\"]\n",
        "#then remove these stopwords\n",
        "filtered_tokens_2 = [word for word in filtered_tokens if not word in user_stopwords]\n",
        "print(text1_tokens)\n",
        "print(filtered_tokens)\n",
        "print(filtered_tokens_2)"
      ]
    },
    {
      "cell_type": "markdown",
      "metadata": {
        "id": "6Ea7rngmpsfp"
      },
      "source": [
        "# 8.Term Frequency"
      ]
    },
    {
      "cell_type": "code",
      "execution_count": 50,
      "metadata": {
        "colab": {
          "base_uri": "https://localhost:8080/"
        },
        "id": "VO4aDFkONBDq",
        "outputId": "a3d39719-d1fe-4c20-cee4-2fafeb9c7d81"
      },
      "outputs": [
        {
          "output_type": "stream",
          "name": "stdout",
          "text": [
            "['Be', 'loyal', 'and', 'consistent', 'with', 'yourself.']\n",
            "[\"It's\", 'not', 'about', 'what', 'you', 'do,', \"it's\", 'about', 'the', 'passion', 'passion', 'you', 'put', 'in', 'it.']\n"
          ]
        }
      ],
      "source": [
        "doc1=\"Be loyal and consistent with yourself.\"\n",
        "doc2= \"It's not about what you do, it's about the passion passion you put in it.\"\n",
        "\n",
        "doc1_tokens = doc1.split()\n",
        "doc2_tokens = doc2.split()\n",
        "print(doc1_tokens)\n",
        "print(doc2_tokens)"
      ]
    },
    {
      "cell_type": "code",
      "execution_count": 51,
      "metadata": {
        "id": "4Lig6G7m3tfp"
      },
      "outputs": [],
      "source": [
        "# create tf function\n",
        "def tf(term, token_doc):\n",
        "    tf = token_doc.count(term)/len(token_doc)\n",
        "    return tf"
      ]
    },
    {
      "cell_type": "code",
      "execution_count": 57,
      "metadata": {
        "colab": {
          "base_uri": "https://localhost:8080/"
        },
        "id": "rT4TFLczeA-Q",
        "outputId": "8a62c5c3-1f46-4102-edbd-94ed15589fa3"
      },
      "outputs": [
        {
          "output_type": "execute_result",
          "data": {
            "text/plain": [
              "0.16666666666666666"
            ]
          },
          "metadata": {},
          "execution_count": 57
        }
      ],
      "source": [
        "#test tf function\n",
        "tf(\"Be\",doc1_tokens)"
      ]
    },
    {
      "cell_type": "code",
      "execution_count": 58,
      "metadata": {
        "colab": {
          "base_uri": "https://localhost:8080/"
        },
        "id": "kAV6ZlDSeKU-",
        "outputId": "965be958-7e6f-4379-cdad-fefeb87bcb8a"
      },
      "outputs": [
        {
          "output_type": "stream",
          "name": "stdout",
          "text": [
            "{'Be': 0.16666666666666666, 'loyal': 0.16666666666666666, 'and': 0.16666666666666666, 'consistent': 0.16666666666666666, 'with': 0.16666666666666666, 'yourself.': 0.16666666666666666}\n"
          ]
        }
      ],
      "source": [
        "#calculate term frequency in doc1:\n",
        "doc1_tf ={} # defien doc1_tf is dictionary structure\n",
        "for word in doc1_tokens:\n",
        "  doc1_tf[word]=tf(word,doc1_tokens)\n",
        "print(doc1_tf)"
      ]
    },
    {
      "cell_type": "code",
      "execution_count": 59,
      "metadata": {
        "colab": {
          "base_uri": "https://localhost:8080/"
        },
        "id": "YlZ_UsyBeuzS",
        "outputId": "c790ddd7-a47c-45c7-b194-9db5b8f77649"
      },
      "outputs": [
        {
          "output_type": "stream",
          "name": "stdout",
          "text": [
            "{\"It's\": 0.06666666666666667, 'not': 0.06666666666666667, 'about': 0.13333333333333333, 'what': 0.06666666666666667, 'you': 0.13333333333333333, 'do,': 0.06666666666666667, \"it's\": 0.06666666666666667, 'the': 0.06666666666666667, 'passion': 0.13333333333333333, 'put': 0.06666666666666667, 'in': 0.06666666666666667, 'it.': 0.06666666666666667}\n"
          ]
        }
      ],
      "source": [
        "#calculate term frequency in doc2:\n",
        "doc2_tf ={} # defien doc1_tf is dictionary structure\n",
        "for word in doc2_tokens:\n",
        "  doc2_tf[word]=tf(word,doc2_tokens)\n",
        "print(doc2_tf)"
      ]
    },
    {
      "cell_type": "code",
      "execution_count": 60,
      "metadata": {
        "colab": {
          "base_uri": "https://localhost:8080/",
          "height": 112
        },
        "id": "nw7bb-kjfK6F",
        "outputId": "83404509-49d8-4c41-933f-99cf41499a9f"
      },
      "outputs": [
        {
          "output_type": "execute_result",
          "data": {
            "text/html": [
              "\n",
              "  <div id=\"df-07fbdf65-107c-4023-b7cb-dde0644d077f\">\n",
              "    <div class=\"colab-df-container\">\n",
              "      <div>\n",
              "<style scoped>\n",
              "    .dataframe tbody tr th:only-of-type {\n",
              "        vertical-align: middle;\n",
              "    }\n",
              "\n",
              "    .dataframe tbody tr th {\n",
              "        vertical-align: top;\n",
              "    }\n",
              "\n",
              "    .dataframe thead th {\n",
              "        text-align: right;\n",
              "    }\n",
              "</style>\n",
              "<table border=\"1\" class=\"dataframe\">\n",
              "  <thead>\n",
              "    <tr style=\"text-align: right;\">\n",
              "      <th></th>\n",
              "      <th>Be</th>\n",
              "      <th>loyal</th>\n",
              "      <th>and</th>\n",
              "      <th>consistent</th>\n",
              "      <th>with</th>\n",
              "      <th>yourself.</th>\n",
              "      <th>It's</th>\n",
              "      <th>not</th>\n",
              "      <th>about</th>\n",
              "      <th>what</th>\n",
              "      <th>you</th>\n",
              "      <th>do,</th>\n",
              "      <th>it's</th>\n",
              "      <th>the</th>\n",
              "      <th>passion</th>\n",
              "      <th>put</th>\n",
              "      <th>in</th>\n",
              "      <th>it.</th>\n",
              "    </tr>\n",
              "  </thead>\n",
              "  <tbody>\n",
              "    <tr>\n",
              "      <th>doc1</th>\n",
              "      <td>0.166667</td>\n",
              "      <td>0.166667</td>\n",
              "      <td>0.166667</td>\n",
              "      <td>0.166667</td>\n",
              "      <td>0.166667</td>\n",
              "      <td>0.166667</td>\n",
              "      <td>NaN</td>\n",
              "      <td>NaN</td>\n",
              "      <td>NaN</td>\n",
              "      <td>NaN</td>\n",
              "      <td>NaN</td>\n",
              "      <td>NaN</td>\n",
              "      <td>NaN</td>\n",
              "      <td>NaN</td>\n",
              "      <td>NaN</td>\n",
              "      <td>NaN</td>\n",
              "      <td>NaN</td>\n",
              "      <td>NaN</td>\n",
              "    </tr>\n",
              "    <tr>\n",
              "      <th>doc2</th>\n",
              "      <td>NaN</td>\n",
              "      <td>NaN</td>\n",
              "      <td>NaN</td>\n",
              "      <td>NaN</td>\n",
              "      <td>NaN</td>\n",
              "      <td>NaN</td>\n",
              "      <td>0.066667</td>\n",
              "      <td>0.066667</td>\n",
              "      <td>0.133333</td>\n",
              "      <td>0.066667</td>\n",
              "      <td>0.133333</td>\n",
              "      <td>0.066667</td>\n",
              "      <td>0.066667</td>\n",
              "      <td>0.066667</td>\n",
              "      <td>0.133333</td>\n",
              "      <td>0.066667</td>\n",
              "      <td>0.066667</td>\n",
              "      <td>0.066667</td>\n",
              "    </tr>\n",
              "  </tbody>\n",
              "</table>\n",
              "</div>\n",
              "      <button class=\"colab-df-convert\" onclick=\"convertToInteractive('df-07fbdf65-107c-4023-b7cb-dde0644d077f')\"\n",
              "              title=\"Convert this dataframe to an interactive table.\"\n",
              "              style=\"display:none;\">\n",
              "        \n",
              "  <svg xmlns=\"http://www.w3.org/2000/svg\" height=\"24px\"viewBox=\"0 0 24 24\"\n",
              "       width=\"24px\">\n",
              "    <path d=\"M0 0h24v24H0V0z\" fill=\"none\"/>\n",
              "    <path d=\"M18.56 5.44l.94 2.06.94-2.06 2.06-.94-2.06-.94-.94-2.06-.94 2.06-2.06.94zm-11 1L8.5 8.5l.94-2.06 2.06-.94-2.06-.94L8.5 2.5l-.94 2.06-2.06.94zm10 10l.94 2.06.94-2.06 2.06-.94-2.06-.94-.94-2.06-.94 2.06-2.06.94z\"/><path d=\"M17.41 7.96l-1.37-1.37c-.4-.4-.92-.59-1.43-.59-.52 0-1.04.2-1.43.59L10.3 9.45l-7.72 7.72c-.78.78-.78 2.05 0 2.83L4 21.41c.39.39.9.59 1.41.59.51 0 1.02-.2 1.41-.59l7.78-7.78 2.81-2.81c.8-.78.8-2.07 0-2.86zM5.41 20L4 18.59l7.72-7.72 1.47 1.35L5.41 20z\"/>\n",
              "  </svg>\n",
              "      </button>\n",
              "      \n",
              "  <style>\n",
              "    .colab-df-container {\n",
              "      display:flex;\n",
              "      flex-wrap:wrap;\n",
              "      gap: 12px;\n",
              "    }\n",
              "\n",
              "    .colab-df-convert {\n",
              "      background-color: #E8F0FE;\n",
              "      border: none;\n",
              "      border-radius: 50%;\n",
              "      cursor: pointer;\n",
              "      display: none;\n",
              "      fill: #1967D2;\n",
              "      height: 32px;\n",
              "      padding: 0 0 0 0;\n",
              "      width: 32px;\n",
              "    }\n",
              "\n",
              "    .colab-df-convert:hover {\n",
              "      background-color: #E2EBFA;\n",
              "      box-shadow: 0px 1px 2px rgba(60, 64, 67, 0.3), 0px 1px 3px 1px rgba(60, 64, 67, 0.15);\n",
              "      fill: #174EA6;\n",
              "    }\n",
              "\n",
              "    [theme=dark] .colab-df-convert {\n",
              "      background-color: #3B4455;\n",
              "      fill: #D2E3FC;\n",
              "    }\n",
              "\n",
              "    [theme=dark] .colab-df-convert:hover {\n",
              "      background-color: #434B5C;\n",
              "      box-shadow: 0px 1px 3px 1px rgba(0, 0, 0, 0.15);\n",
              "      filter: drop-shadow(0px 1px 2px rgba(0, 0, 0, 0.3));\n",
              "      fill: #FFFFFF;\n",
              "    }\n",
              "  </style>\n",
              "\n",
              "      <script>\n",
              "        const buttonEl =\n",
              "          document.querySelector('#df-07fbdf65-107c-4023-b7cb-dde0644d077f button.colab-df-convert');\n",
              "        buttonEl.style.display =\n",
              "          google.colab.kernel.accessAllowed ? 'block' : 'none';\n",
              "\n",
              "        async function convertToInteractive(key) {\n",
              "          const element = document.querySelector('#df-07fbdf65-107c-4023-b7cb-dde0644d077f');\n",
              "          const dataTable =\n",
              "            await google.colab.kernel.invokeFunction('convertToInteractive',\n",
              "                                                     [key], {});\n",
              "          if (!dataTable) return;\n",
              "\n",
              "          const docLinkHtml = 'Like what you see? Visit the ' +\n",
              "            '<a target=\"_blank\" href=https://colab.research.google.com/notebooks/data_table.ipynb>data table notebook</a>'\n",
              "            + ' to learn more about interactive tables.';\n",
              "          element.innerHTML = '';\n",
              "          dataTable['output_type'] = 'display_data';\n",
              "          await google.colab.output.renderOutput(dataTable, element);\n",
              "          const docLink = document.createElement('div');\n",
              "          docLink.innerHTML = docLinkHtml;\n",
              "          element.appendChild(docLink);\n",
              "        }\n",
              "      </script>\n",
              "    </div>\n",
              "  </div>\n",
              "  "
            ],
            "text/plain": [
              "            Be     loyal       and  consistent      with  yourself.      It's  \\\n",
              "doc1  0.166667  0.166667  0.166667    0.166667  0.166667   0.166667       NaN   \n",
              "doc2       NaN       NaN       NaN         NaN       NaN        NaN  0.066667   \n",
              "\n",
              "           not     about      what       you       do,      it's       the  \\\n",
              "doc1       NaN       NaN       NaN       NaN       NaN       NaN       NaN   \n",
              "doc2  0.066667  0.133333  0.066667  0.133333  0.066667  0.066667  0.066667   \n",
              "\n",
              "       passion       put        in       it.  \n",
              "doc1       NaN       NaN       NaN       NaN  \n",
              "doc2  0.133333  0.066667  0.066667  0.066667  "
            ]
          },
          "metadata": {},
          "execution_count": 60
        }
      ],
      "source": [
        "#convert to pandas frame\n",
        "import pandas as pd\n",
        "tf_dict = {\"doc1\":doc1_tf,\"doc2\":doc2_tf}\n",
        "tf_dataframe = pd.DataFrame(tf_dict).transpose()\n",
        "tf_dataframe"
      ]
    },
    {
      "cell_type": "markdown",
      "metadata": {
        "id": "xi7XMb-VGSv-"
      },
      "source": [
        "## Try different!!"
      ]
    }
  ],
  "metadata": {
    "colab": {
      "collapsed_sections": [
        "H0k6OrzkywFP",
        "rumDew-zLk-L",
        "Jt51YTnvuj6z",
        "6Ea7rngmpsfp"
      ],
      "name": "TM_HW3.ipynb",
      "provenance": [],
      "include_colab_link": true
    },
    "kernelspec": {
      "display_name": "Python 3",
      "name": "python3"
    }
  },
  "nbformat": 4,
  "nbformat_minor": 0
}