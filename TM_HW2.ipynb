{
  "nbformat": 4,
  "nbformat_minor": 0,
  "metadata": {
    "colab": {
      "name": "TM_HW2.ipynb",
      "provenance": [],
      "collapsed_sections": [],
      "authorship_tag": "ABX9TyNvag6O68elaI9kQA7ToJc3",
      "include_colab_link": true
    },
    "kernelspec": {
      "name": "python3",
      "display_name": "Python 3"
    },
    "language_info": {
      "name": "python"
    }
  },
  "cells": [
    {
      "cell_type": "markdown",
      "metadata": {
        "id": "view-in-github",
        "colab_type": "text"
      },
      "source": [
        "<a href=\"https://colab.research.google.com/github/Malherbe/Text_Mining/blob/main/TM_HW2.ipynb\" target=\"_parent\"><img src=\"https://colab.research.google.com/assets/colab-badge.svg\" alt=\"Open In Colab\"/></a>"
      ]
    },
    {
      "cell_type": "code",
      "execution_count": 1,
      "metadata": {
        "colab": {
          "base_uri": "https://localhost:8080/"
        },
        "id": "f9K8wqtByjSb",
        "outputId": "44e54d77-57ed-4693-8eb7-57c6bf756e04"
      },
      "outputs": [
        {
          "output_type": "stream",
          "name": "stdout",
          "text": [
            "Requirement already satisfied: beautifulsoup4 in /usr/local/lib/python3.7/dist-packages (4.6.3)\n",
            "\u001b[31mERROR: Could not find a version that satisfies the requirement urllib (from versions: none)\u001b[0m\n",
            "\u001b[31mERROR: No matching distribution found for urllib\u001b[0m\n",
            "Requirement already satisfied: requests in /usr/local/lib/python3.7/dist-packages (2.23.0)\n",
            "Requirement already satisfied: chardet<4,>=3.0.2 in /usr/local/lib/python3.7/dist-packages (from requests) (3.0.4)\n",
            "Requirement already satisfied: urllib3!=1.25.0,!=1.25.1,<1.26,>=1.21.1 in /usr/local/lib/python3.7/dist-packages (from requests) (1.24.3)\n",
            "Requirement already satisfied: idna<3,>=2.5 in /usr/local/lib/python3.7/dist-packages (from requests) (2.10)\n",
            "Requirement already satisfied: certifi>=2017.4.17 in /usr/local/lib/python3.7/dist-packages (from requests) (2021.10.8)\n"
          ]
        }
      ],
      "source": [
        "!pip install beautifulsoup4\n",
        "!pip install urllib\n",
        "!pip install requests\n",
        "\n",
        "from bs4 import BeautifulSoup\n",
        "from urllib.request import urlopen\n",
        "\n",
        "import requests"
      ]
    },
    {
      "cell_type": "code",
      "source": [
        "html = urlopen('http://www.pythonscraping.com/pages/page1.html')\n",
        "bs = BeautifulSoup(html.read(), 'html.parser')\n",
        "#print(bs.h1)\n",
        "print(bs.div.text)"
      ],
      "metadata": {
        "colab": {
          "base_uri": "https://localhost:8080/"
        },
        "id": "cPSayfIMy3nZ",
        "outputId": "a5580b57-f072-4692-fcb5-8bfce07e1d2d"
      },
      "execution_count": 3,
      "outputs": [
        {
          "output_type": "stream",
          "name": "stdout",
          "text": [
            "\n",
            "Lorem ipsum dolor sit amet, consectetur adipisicing elit, sed do eiusmod tempor incididunt ut labore et dolore magna aliqua. Ut enim ad minim veniam, quis nostrud exercitation ullamco laboris nisi ut aliquip ex ea commodo consequat. Duis aute irure dolor in reprehenderit in voluptate velit esse cillum dolore eu fugiat nulla pariatur. Excepteur sint occaecat cupidatat non proident, sunt in culpa qui officia deserunt mollit anim id est laborum.\n",
            "\n"
          ]
        }
      ]
    },
    {
      "cell_type": "code",
      "source": [
        "def getTitle(url):\n",
        "    try:\n",
        "        html = urlopen(url)\n",
        "    except HTTPError as e:\n",
        "        return None\n",
        "    try:\n",
        "        bs = BeautifulSoup(html.read(), 'html.parser')\n",
        "        title = bs.body.h1.contents\n",
        "    except AttributeError as e:\n",
        "        return None\n",
        "    return title\n",
        "    \n",
        "title = getTitle('http://www.pythonscraping.com/pages/page1.html')\n",
        "print(title)"
      ],
      "metadata": {
        "colab": {
          "base_uri": "https://localhost:8080/"
        },
        "id": "YXUMdBaazGxH",
        "outputId": "039e07a6-e978-4596-b111-7bc15a7a56b3"
      },
      "execution_count": 4,
      "outputs": [
        {
          "output_type": "stream",
          "name": "stdout",
          "text": [
            "['An Interesting Title']\n"
          ]
        }
      ]
    },
    {
      "cell_type": "code",
      "source": [
        "from datetime import date\n",
        "today = date.today()\n",
        "d = today.strftime(\"%y-%m-%d\")\n",
        "print(\"date =\" ,d)\n",
        "\n",
        "who_world = \"https://www.who.int/emergencies/diseases/novel-coronavirus-2019/covid-19-vaccines\"\n",
        "res = requests.get(who_world)\n",
        "soup = BeautifulSoup(res.content, 'html.parser')\n",
        "\n",
        "headlines = soup.find_all('p',{'class':'heading text-underline'})\n",
        "\n",
        "print(len(headlines))\n",
        "\n",
        "headlines_list = []\n",
        "for i in range(len(headlines)):\n",
        "  headlines_list.append(headlines[i].text)\n",
        "\n",
        "headlines_list\n"
      ],
      "metadata": {
        "colab": {
          "base_uri": "https://localhost:8080/"
        },
        "id": "CGTsB205zPQY",
        "outputId": "9436e27d-26ad-464e-a8f9-e25d642e25bc"
      },
      "execution_count": 9,
      "outputs": [
        {
          "output_type": "stream",
          "name": "stdout",
          "text": [
            "date = 22-02-27\n",
            "27\n"
          ]
        },
        {
          "output_type": "execute_result",
          "data": {
            "text/plain": [
              "['Vaccines explained series',\n",
              " 'Science in 5',\n",
              " 'Getting vaccinated',\n",
              " 'COVAX',\n",
              " 'Country readiness and delivery',\n",
              " 'COVAX No fault compensation program',\n",
              " 'Emergency Use Listing (EUL)',\n",
              " 'Strategic Advisory Group of Experts (SAGE) on Immunization',\n",
              " 'Draft landscape of COVID-19 vaccine candidates',\n",
              " 'The Pfizer BioNTech (BNT162b2) COVID-19 vaccine: What you need to know',\n",
              " 'The Bharat Biotech BBV152 COVAXIN vaccine against COVID-19: What you need to know',\n",
              " 'The Sinovac-CoronaVac COVID-19 vaccine: What you need to know',\n",
              " 'The Sinopharm COVID-19 vaccine: What you need to know',\n",
              " 'The Moderna COVID-19 (mRNA-1273) vaccine: what you need to know',\n",
              " 'The Oxford/AstraZeneca (ChAdOx1-S [recombinant] vaccine) COVID-19 vaccine: what you need to know',\n",
              " 'The Janssen Ad26.COV2.S COVID-19 vaccine: What you need to know',\n",
              " 'The Novavax vaccine against COVID-19: What you need to know',\n",
              " 'Moving forward on goal to boost local pharmaceutical production, WHO establishes global biomanufacturing training hub in Republic of Korea',\n",
              " 'ACT-Accelerator calls for fair share-based financing of US$ 23 billion to end pandemic as global emergency in 2022',\n",
              " 'IOC and WHO reaffirm collaboration to promote vaccine equity and healthy lifestyles',\n",
              " 'Updated WHO SAGE Roadmap for prioritizing uses of COVID-19 vaccines',\n",
              " 'Pasig City: A COVID-19 Vaccination Success Story',\n",
              " 'PAHO paving the way for COVID-19 vaccination in the Americas',\n",
              " 'The effects of virus variants on COVID-19 vaccines',\n",
              " 'Inside the Mammoth Undertaking of Global Vaccine Distribution',\n",
              " 'Coronavirus disease (COVID-19)',\n",
              " 'Vaccines and immunization']"
            ]
          },
          "metadata": {},
          "execution_count": 9
        }
      ]
    },
    {
      "cell_type": "code",
      "source": [
        "text_list = \" \".join(headlines_list)"
      ],
      "metadata": {
        "id": "Eg8UzBd4AskD"
      },
      "execution_count": 10,
      "outputs": []
    },
    {
      "cell_type": "code",
      "source": [
        "text_list = text_list.split(\" \")\n",
        "\n",
        "text_list"
      ],
      "metadata": {
        "colab": {
          "base_uri": "https://localhost:8080/"
        },
        "id": "pNUXWVabAzlp",
        "outputId": "30980270-997f-4171-eb55-3db621a78842"
      },
      "execution_count": 11,
      "outputs": [
        {
          "output_type": "execute_result",
          "data": {
            "text/plain": [
              "['Vaccines',\n",
              " 'explained',\n",
              " 'series',\n",
              " 'Science',\n",
              " 'in',\n",
              " '5',\n",
              " 'Getting',\n",
              " 'vaccinated',\n",
              " 'COVAX',\n",
              " 'Country',\n",
              " 'readiness',\n",
              " 'and',\n",
              " 'delivery',\n",
              " 'COVAX',\n",
              " 'No',\n",
              " 'fault',\n",
              " 'compensation',\n",
              " 'program',\n",
              " 'Emergency',\n",
              " 'Use',\n",
              " 'Listing',\n",
              " '(EUL)',\n",
              " 'Strategic',\n",
              " 'Advisory',\n",
              " 'Group',\n",
              " 'of',\n",
              " 'Experts',\n",
              " '(SAGE)',\n",
              " 'on',\n",
              " 'Immunization',\n",
              " 'Draft',\n",
              " 'landscape',\n",
              " 'of',\n",
              " 'COVID-19',\n",
              " 'vaccine',\n",
              " 'candidates',\n",
              " 'The',\n",
              " 'Pfizer',\n",
              " 'BioNTech',\n",
              " '(BNT162b2)',\n",
              " 'COVID-19',\n",
              " 'vaccine:',\n",
              " 'What',\n",
              " 'you',\n",
              " 'need',\n",
              " 'to',\n",
              " 'know',\n",
              " 'The',\n",
              " 'Bharat',\n",
              " 'Biotech',\n",
              " 'BBV152',\n",
              " 'COVAXIN',\n",
              " 'vaccine',\n",
              " 'against',\n",
              " 'COVID-19:',\n",
              " 'What',\n",
              " 'you',\n",
              " 'need',\n",
              " 'to',\n",
              " 'know',\n",
              " 'The',\n",
              " 'Sinovac-CoronaVac',\n",
              " 'COVID-19',\n",
              " 'vaccine:',\n",
              " 'What',\n",
              " 'you',\n",
              " 'need',\n",
              " 'to',\n",
              " 'know',\n",
              " 'The',\n",
              " 'Sinopharm',\n",
              " 'COVID-19',\n",
              " 'vaccine:',\n",
              " 'What',\n",
              " 'you',\n",
              " 'need',\n",
              " 'to',\n",
              " 'know',\n",
              " 'The',\n",
              " 'Moderna',\n",
              " 'COVID-19',\n",
              " '(mRNA-1273)',\n",
              " 'vaccine:',\n",
              " 'what',\n",
              " 'you',\n",
              " 'need',\n",
              " 'to',\n",
              " 'know',\n",
              " 'The',\n",
              " 'Oxford/AstraZeneca',\n",
              " '(ChAdOx1-S',\n",
              " '[recombinant]',\n",
              " 'vaccine)',\n",
              " 'COVID-19',\n",
              " 'vaccine:',\n",
              " 'what',\n",
              " 'you',\n",
              " 'need',\n",
              " 'to',\n",
              " 'know',\n",
              " 'The',\n",
              " 'Janssen',\n",
              " 'Ad26.COV2.S',\n",
              " 'COVID-19',\n",
              " 'vaccine:',\n",
              " 'What',\n",
              " 'you',\n",
              " 'need',\n",
              " 'to',\n",
              " 'know',\n",
              " 'The',\n",
              " 'Novavax',\n",
              " 'vaccine',\n",
              " 'against',\n",
              " 'COVID-19:',\n",
              " 'What',\n",
              " 'you',\n",
              " 'need',\n",
              " 'to',\n",
              " 'know',\n",
              " 'Moving',\n",
              " 'forward',\n",
              " 'on',\n",
              " 'goal',\n",
              " 'to',\n",
              " 'boost',\n",
              " 'local',\n",
              " 'pharmaceutical',\n",
              " 'production,',\n",
              " 'WHO',\n",
              " 'establishes',\n",
              " 'global',\n",
              " 'biomanufacturing',\n",
              " 'training',\n",
              " 'hub',\n",
              " 'in',\n",
              " 'Republic',\n",
              " 'of',\n",
              " 'Korea',\n",
              " 'ACT-Accelerator',\n",
              " 'calls',\n",
              " 'for',\n",
              " 'fair',\n",
              " 'share-based',\n",
              " 'financing',\n",
              " 'of',\n",
              " 'US$',\n",
              " '23',\n",
              " 'billion',\n",
              " 'to',\n",
              " 'end',\n",
              " 'pandemic',\n",
              " 'as',\n",
              " 'global',\n",
              " 'emergency',\n",
              " 'in',\n",
              " '2022',\n",
              " 'IOC',\n",
              " 'and',\n",
              " 'WHO',\n",
              " 'reaffirm',\n",
              " 'collaboration',\n",
              " 'to',\n",
              " 'promote',\n",
              " 'vaccine',\n",
              " 'equity',\n",
              " 'and',\n",
              " 'healthy',\n",
              " 'lifestyles',\n",
              " 'Updated',\n",
              " 'WHO',\n",
              " 'SAGE',\n",
              " 'Roadmap',\n",
              " 'for',\n",
              " 'prioritizing',\n",
              " 'uses',\n",
              " 'of',\n",
              " 'COVID-19',\n",
              " 'vaccines',\n",
              " 'Pasig',\n",
              " 'City:',\n",
              " 'A',\n",
              " 'COVID-19',\n",
              " 'Vaccination',\n",
              " 'Success',\n",
              " 'Story',\n",
              " 'PAHO',\n",
              " 'paving',\n",
              " 'the',\n",
              " 'way',\n",
              " 'for',\n",
              " 'COVID-19',\n",
              " 'vaccination',\n",
              " 'in',\n",
              " 'the',\n",
              " 'Americas',\n",
              " 'The',\n",
              " 'effects',\n",
              " 'of',\n",
              " 'virus',\n",
              " 'variants',\n",
              " 'on',\n",
              " 'COVID-19',\n",
              " 'vaccines',\n",
              " 'Inside',\n",
              " 'the',\n",
              " 'Mammoth',\n",
              " 'Undertaking',\n",
              " 'of',\n",
              " 'Global',\n",
              " 'Vaccine',\n",
              " 'Distribution',\n",
              " 'Coronavirus',\n",
              " 'disease',\n",
              " '(COVID-19)',\n",
              " 'Vaccines',\n",
              " 'and',\n",
              " 'immunization']"
            ]
          },
          "metadata": {},
          "execution_count": 11
        }
      ]
    },
    {
      "cell_type": "code",
      "source": [
        "from nltk import FreqDist\n",
        "\n",
        "import matplotlib.pyplot as plt\n",
        "plt.figure(figsize=(4, 4)) \n",
        "parameters = {'axes.labelsize': 15,\n",
        "          'axes.titlesize': 35}\n",
        "plt.rcParams.update(parameters)"
      ],
      "metadata": {
        "colab": {
          "base_uri": "https://localhost:8080/",
          "height": 34
        },
        "id": "oq8DwVkBBBCi",
        "outputId": "ac39ae5e-6d9b-4775-a639-0b4b67aaceed"
      },
      "execution_count": 12,
      "outputs": [
        {
          "output_type": "display_data",
          "data": {
            "text/plain": [
              "<Figure size 288x288 with 0 Axes>"
            ]
          },
          "metadata": {}
        }
      ]
    },
    {
      "cell_type": "code",
      "source": [
        "fdist1 = FreqDist(text_list)\n",
        "fdist1"
      ],
      "metadata": {
        "colab": {
          "base_uri": "https://localhost:8080/"
        },
        "id": "9_Vg7IQkBTma",
        "outputId": "3fb8629a-dc9d-49d4-cce4-76d05b38d204"
      },
      "execution_count": 13,
      "outputs": [
        {
          "output_type": "execute_result",
          "data": {
            "text/plain": [
              "FreqDist({'(BNT162b2)': 1,\n",
              "          '(COVID-19)': 1,\n",
              "          '(ChAdOx1-S': 1,\n",
              "          '(EUL)': 1,\n",
              "          '(SAGE)': 1,\n",
              "          '(mRNA-1273)': 1,\n",
              "          '2022': 1,\n",
              "          '23': 1,\n",
              "          '5': 1,\n",
              "          'A': 1,\n",
              "          'ACT-Accelerator': 1,\n",
              "          'Ad26.COV2.S': 1,\n",
              "          'Advisory': 1,\n",
              "          'Americas': 1,\n",
              "          'BBV152': 1,\n",
              "          'Bharat': 1,\n",
              "          'BioNTech': 1,\n",
              "          'Biotech': 1,\n",
              "          'COVAX': 2,\n",
              "          'COVAXIN': 1,\n",
              "          'COVID-19': 11,\n",
              "          'COVID-19:': 2,\n",
              "          'City:': 1,\n",
              "          'Coronavirus': 1,\n",
              "          'Country': 1,\n",
              "          'Distribution': 1,\n",
              "          'Draft': 1,\n",
              "          'Emergency': 1,\n",
              "          'Experts': 1,\n",
              "          'Getting': 1,\n",
              "          'Global': 1,\n",
              "          'Group': 1,\n",
              "          'IOC': 1,\n",
              "          'Immunization': 1,\n",
              "          'Inside': 1,\n",
              "          'Janssen': 1,\n",
              "          'Korea': 1,\n",
              "          'Listing': 1,\n",
              "          'Mammoth': 1,\n",
              "          'Moderna': 1,\n",
              "          'Moving': 1,\n",
              "          'No': 1,\n",
              "          'Novavax': 1,\n",
              "          'Oxford/AstraZeneca': 1,\n",
              "          'PAHO': 1,\n",
              "          'Pasig': 1,\n",
              "          'Pfizer': 1,\n",
              "          'Republic': 1,\n",
              "          'Roadmap': 1,\n",
              "          'SAGE': 1,\n",
              "          'Science': 1,\n",
              "          'Sinopharm': 1,\n",
              "          'Sinovac-CoronaVac': 1,\n",
              "          'Story': 1,\n",
              "          'Strategic': 1,\n",
              "          'Success': 1,\n",
              "          'The': 9,\n",
              "          'US$': 1,\n",
              "          'Undertaking': 1,\n",
              "          'Updated': 1,\n",
              "          'Use': 1,\n",
              "          'Vaccination': 1,\n",
              "          'Vaccine': 1,\n",
              "          'Vaccines': 2,\n",
              "          'WHO': 3,\n",
              "          'What': 6,\n",
              "          '[recombinant]': 1,\n",
              "          'against': 2,\n",
              "          'and': 4,\n",
              "          'as': 1,\n",
              "          'billion': 1,\n",
              "          'biomanufacturing': 1,\n",
              "          'boost': 1,\n",
              "          'calls': 1,\n",
              "          'candidates': 1,\n",
              "          'collaboration': 1,\n",
              "          'compensation': 1,\n",
              "          'delivery': 1,\n",
              "          'disease': 1,\n",
              "          'effects': 1,\n",
              "          'emergency': 1,\n",
              "          'end': 1,\n",
              "          'equity': 1,\n",
              "          'establishes': 1,\n",
              "          'explained': 1,\n",
              "          'fair': 1,\n",
              "          'fault': 1,\n",
              "          'financing': 1,\n",
              "          'for': 3,\n",
              "          'forward': 1,\n",
              "          'global': 2,\n",
              "          'goal': 1,\n",
              "          'healthy': 1,\n",
              "          'hub': 1,\n",
              "          'immunization': 1,\n",
              "          'in': 4,\n",
              "          'know': 8,\n",
              "          'landscape': 1,\n",
              "          'lifestyles': 1,\n",
              "          'local': 1,\n",
              "          'need': 8,\n",
              "          'of': 7,\n",
              "          'on': 3,\n",
              "          'pandemic': 1,\n",
              "          'paving': 1,\n",
              "          'pharmaceutical': 1,\n",
              "          'prioritizing': 1,\n",
              "          'production,': 1,\n",
              "          'program': 1,\n",
              "          'promote': 1,\n",
              "          'readiness': 1,\n",
              "          'reaffirm': 1,\n",
              "          'series': 1,\n",
              "          'share-based': 1,\n",
              "          'the': 3,\n",
              "          'to': 11,\n",
              "          'training': 1,\n",
              "          'uses': 1,\n",
              "          'vaccinated': 1,\n",
              "          'vaccination': 1,\n",
              "          'vaccine': 4,\n",
              "          'vaccine)': 1,\n",
              "          'vaccine:': 6,\n",
              "          'vaccines': 2,\n",
              "          'variants': 1,\n",
              "          'virus': 1,\n",
              "          'way': 1,\n",
              "          'what': 2,\n",
              "          'you': 8})"
            ]
          },
          "metadata": {},
          "execution_count": 13
        }
      ]
    },
    {
      "cell_type": "markdown",
      "source": [
        "Draw the plot "
      ],
      "metadata": {
        "id": "7mVhYSTmBusJ"
      }
    },
    {
      "cell_type": "code",
      "source": [
        "# Set the plot size\n",
        "plt.rcParams[\"figure.figsize\"] = (16, 12)\n",
        "\n",
        "# Plot the top 50 appeared tokens from our retrieved data in normal way\n",
        "fdist1.plot(50, cumulative=False)"
      ],
      "metadata": {
        "colab": {
          "base_uri": "https://localhost:8080/",
          "height": 780
        },
        "id": "oqMPQjM-Bx9d",
        "outputId": "c372cd1a-f4f8-4232-925a-6aeabe3a26ba"
      },
      "execution_count": 14,
      "outputs": [
        {
          "output_type": "display_data",
          "data": {
            "image/png": "[encoded data removed]",
            "text/plain": [
              "<Figure size 1152x864 with 1 Axes>"
            ]
          },
          "metadata": {
            "needs_background": "light"
          }
        }
      ]
    },
    {
      "cell_type": "code",
      "source": [
        "# Plot the top 50 appeared tokens from our retrieved data in cumulative way\n",
        "\n",
        "fdist1.plot(50, cumulative=True)"
      ],
      "metadata": {
        "colab": {
          "base_uri": "https://localhost:8080/",
          "height": 780
        },
        "id": "wMIh8Dc3CGyS",
        "outputId": "bace12ee-77b6-48cb-8310-9a5c71466dd6"
      },
      "execution_count": 16,
      "outputs": [
        {
          "output_type": "display_data",
          "data": {
            "image/png": "[encoded data removed]",
            "text/plain": [
              "<Figure size 1152x864 with 1 Axes>"
            ]
          },
          "metadata": {
            "needs_background": "light"
          }
        }
      ]
    }
  ]
}